{
 "cells": [
  {
   "cell_type": "code",
   "execution_count": 21,
   "metadata": {},
   "outputs": [],
   "source": [
    "import numpy as np\n",
    "import pandas as pd\n",
    "import matplotlib.pyplot as plt\n",
    "import pickle\n",
    "import xgboost as xgb\n",
    "from catboost import CatBoostRegressor\n",
    "from sklearn.metrics import mean_squared_error\n",
    "from sklearn.metrics import mean_absolute_error\n",
    "from sklearn.model_selection import train_test_split\n",
    "from sklearn.metrics import explained_variance_score"
   ]
  },
  {
   "cell_type": "code",
   "execution_count": 2,
   "metadata": {
    "scrolled": true
   },
   "outputs": [
    {
     "name": "stdout",
     "output_type": "stream",
     "text": [
      "bus_id_encoder.pickle\t   cleaned_train.csv  output.csv\r\n",
      "busstop_id_encoder.pickle  output1.csv\t      route_id_encoder.pickle\r\n",
      "routes.csv  sample_submission.csv  stops.csv  test.csv\ttraining.csv\r\n"
     ]
    }
   ],
   "source": [
    "!ls ./out && ls ./data"
   ]
  },
  {
   "cell_type": "code",
   "execution_count": 3,
   "metadata": {},
   "outputs": [],
   "source": [
    "bus_id_encoder     = pickle.load(open(\"./out/bus_id_encoder.pickle\"    , \"rb\"))\n",
    "route_id_encoder   = pickle.load(open(\"./out/route_id_encoder.pickle\"  , \"rb\"))\n",
    "busstop_id_encoder = pickle.load(open(\"./out/busstop_id_encoder.pickle\", \"rb\"))"
   ]
  },
  {
   "cell_type": "code",
   "execution_count": 4,
   "metadata": {},
   "outputs": [
    {
     "name": "stdout",
     "output_type": "stream",
     "text": [
      "bus ids [325819008, 451509115]\n",
      "bus categorical ids [578 664]\n",
      "route ids [11100010, 11100012]\n",
      "route categorical ids [3 4]\n",
      "busstop ids [388, 112]\n",
      "busstop categorical ids [387 111]\n"
     ]
    }
   ],
   "source": [
    "dummy_buses = [325819008, 451509115]\n",
    "print(\"bus ids\", dummy_buses)\n",
    "print(\"bus categorical ids\", bus_id_encoder.transform(dummy_buses))\n",
    "\n",
    "dummy_routes = [11100010, 11100012]\n",
    "print(\"route ids\", dummy_routes)\n",
    "print(\"route categorical ids\", route_id_encoder.transform(dummy_routes))\n",
    "\n",
    "dummy_busstops = [388, 112]\n",
    "print(\"busstop ids\", dummy_busstops)\n",
    "print(\"busstop categorical ids\", busstop_id_encoder.transform(dummy_busstops))\n"
   ]
  },
  {
   "cell_type": "code",
   "execution_count": 5,
   "metadata": {},
   "outputs": [],
   "source": [
    "dataset_df  = pd.read_csv(\"./out/cleaned_train.csv\")"
   ]
  },
  {
   "cell_type": "code",
   "execution_count": 6,
   "metadata": {},
   "outputs": [
    {
     "data": {
      "text/html": [
       "<div>\n",
       "<style scoped>\n",
       "    .dataframe tbody tr th:only-of-type {\n",
       "        vertical-align: middle;\n",
       "    }\n",
       "\n",
       "    .dataframe tbody tr th {\n",
       "        vertical-align: top;\n",
       "    }\n",
       "\n",
       "    .dataframe thead th {\n",
       "        text-align: right;\n",
       "    }\n",
       "</style>\n",
       "<table border=\"1\" class=\"dataframe\">\n",
       "  <thead>\n",
       "    <tr style=\"text-align: right;\">\n",
       "      <th></th>\n",
       "      <th>DAY_OF_WEEK</th>\n",
       "      <th>HOUR_OF_DAY</th>\n",
       "      <th>MINUTE_OF_HOUR</th>\n",
       "      <th>SECOND_OF_MINUTE</th>\n",
       "      <th>TIME</th>\n",
       "      <th>BUS_ID</th>\n",
       "      <th>BUSROUTE_ID</th>\n",
       "      <th>BUSSTOP_ID</th>\n",
       "      <th>TIMESTAMP_DIFF</th>\n",
       "    </tr>\n",
       "  </thead>\n",
       "  <tbody>\n",
       "    <tr>\n",
       "      <th>0</th>\n",
       "      <td>0</td>\n",
       "      <td>7</td>\n",
       "      <td>28</td>\n",
       "      <td>25</td>\n",
       "      <td>5305</td>\n",
       "      <td>0</td>\n",
       "      <td>3</td>\n",
       "      <td>17</td>\n",
       "      <td>117.0</td>\n",
       "    </tr>\n",
       "    <tr>\n",
       "      <th>1</th>\n",
       "      <td>0</td>\n",
       "      <td>7</td>\n",
       "      <td>30</td>\n",
       "      <td>22</td>\n",
       "      <td>5422</td>\n",
       "      <td>0</td>\n",
       "      <td>3</td>\n",
       "      <td>10</td>\n",
       "      <td>123.0</td>\n",
       "    </tr>\n",
       "    <tr>\n",
       "      <th>2</th>\n",
       "      <td>0</td>\n",
       "      <td>7</td>\n",
       "      <td>32</td>\n",
       "      <td>25</td>\n",
       "      <td>5545</td>\n",
       "      <td>0</td>\n",
       "      <td>3</td>\n",
       "      <td>8</td>\n",
       "      <td>121.0</td>\n",
       "    </tr>\n",
       "    <tr>\n",
       "      <th>3</th>\n",
       "      <td>0</td>\n",
       "      <td>7</td>\n",
       "      <td>34</td>\n",
       "      <td>26</td>\n",
       "      <td>5666</td>\n",
       "      <td>0</td>\n",
       "      <td>3</td>\n",
       "      <td>5</td>\n",
       "      <td>136.0</td>\n",
       "    </tr>\n",
       "    <tr>\n",
       "      <th>4</th>\n",
       "      <td>0</td>\n",
       "      <td>7</td>\n",
       "      <td>36</td>\n",
       "      <td>42</td>\n",
       "      <td>5802</td>\n",
       "      <td>0</td>\n",
       "      <td>3</td>\n",
       "      <td>3</td>\n",
       "      <td>174.0</td>\n",
       "    </tr>\n",
       "    <tr>\n",
       "      <th>...</th>\n",
       "      <td>...</td>\n",
       "      <td>...</td>\n",
       "      <td>...</td>\n",
       "      <td>...</td>\n",
       "      <td>...</td>\n",
       "      <td>...</td>\n",
       "      <td>...</td>\n",
       "      <td>...</td>\n",
       "      <td>...</td>\n",
       "    </tr>\n",
       "    <tr>\n",
       "      <th>3113890</th>\n",
       "      <td>4</td>\n",
       "      <td>21</td>\n",
       "      <td>47</td>\n",
       "      <td>30</td>\n",
       "      <td>56850</td>\n",
       "      <td>1076</td>\n",
       "      <td>8</td>\n",
       "      <td>109</td>\n",
       "      <td>74.0</td>\n",
       "    </tr>\n",
       "    <tr>\n",
       "      <th>3113891</th>\n",
       "      <td>4</td>\n",
       "      <td>21</td>\n",
       "      <td>48</td>\n",
       "      <td>44</td>\n",
       "      <td>56924</td>\n",
       "      <td>1076</td>\n",
       "      <td>8</td>\n",
       "      <td>117</td>\n",
       "      <td>123.0</td>\n",
       "    </tr>\n",
       "    <tr>\n",
       "      <th>3113892</th>\n",
       "      <td>4</td>\n",
       "      <td>21</td>\n",
       "      <td>50</td>\n",
       "      <td>47</td>\n",
       "      <td>57047</td>\n",
       "      <td>1076</td>\n",
       "      <td>8</td>\n",
       "      <td>119</td>\n",
       "      <td>91.0</td>\n",
       "    </tr>\n",
       "    <tr>\n",
       "      <th>3113893</th>\n",
       "      <td>4</td>\n",
       "      <td>21</td>\n",
       "      <td>52</td>\n",
       "      <td>18</td>\n",
       "      <td>57138</td>\n",
       "      <td>1076</td>\n",
       "      <td>8</td>\n",
       "      <td>121</td>\n",
       "      <td>82.0</td>\n",
       "    </tr>\n",
       "    <tr>\n",
       "      <th>3113894</th>\n",
       "      <td>4</td>\n",
       "      <td>21</td>\n",
       "      <td>53</td>\n",
       "      <td>40</td>\n",
       "      <td>57220</td>\n",
       "      <td>1076</td>\n",
       "      <td>8</td>\n",
       "      <td>624</td>\n",
       "      <td>49.0</td>\n",
       "    </tr>\n",
       "  </tbody>\n",
       "</table>\n",
       "<p>3113895 rows × 9 columns</p>\n",
       "</div>"
      ],
      "text/plain": [
       "         DAY_OF_WEEK  HOUR_OF_DAY  MINUTE_OF_HOUR  SECOND_OF_MINUTE   TIME  \\\n",
       "0                  0            7              28                25   5305   \n",
       "1                  0            7              30                22   5422   \n",
       "2                  0            7              32                25   5545   \n",
       "3                  0            7              34                26   5666   \n",
       "4                  0            7              36                42   5802   \n",
       "...              ...          ...             ...               ...    ...   \n",
       "3113890            4           21              47                30  56850   \n",
       "3113891            4           21              48                44  56924   \n",
       "3113892            4           21              50                47  57047   \n",
       "3113893            4           21              52                18  57138   \n",
       "3113894            4           21              53                40  57220   \n",
       "\n",
       "         BUS_ID  BUSROUTE_ID  BUSSTOP_ID  TIMESTAMP_DIFF  \n",
       "0             0            3          17           117.0  \n",
       "1             0            3          10           123.0  \n",
       "2             0            3           8           121.0  \n",
       "3             0            3           5           136.0  \n",
       "4             0            3           3           174.0  \n",
       "...         ...          ...         ...             ...  \n",
       "3113890    1076            8         109            74.0  \n",
       "3113891    1076            8         117           123.0  \n",
       "3113892    1076            8         119            91.0  \n",
       "3113893    1076            8         121            82.0  \n",
       "3113894    1076            8         624            49.0  \n",
       "\n",
       "[3113895 rows x 9 columns]"
      ]
     },
     "execution_count": 6,
     "metadata": {},
     "output_type": "execute_result"
    }
   ],
   "source": [
    "dataset_df"
   ]
  },
  {
   "cell_type": "code",
   "execution_count": 11,
   "metadata": {},
   "outputs": [],
   "source": [
    "dataset_input = dataset_df[['DAY_OF_WEEK', 'HOUR_OF_DAY', 'MINUTE_OF_HOUR', 'BUS_ID', 'BUSROUTE_ID', 'BUSSTOP_ID']]\n",
    "dataset_label = dataset_df[['TIMESTAMP_DIFF']]"
   ]
  },
  {
   "cell_type": "code",
   "execution_count": 17,
   "metadata": {},
   "outputs": [],
   "source": [
    "#del xgb_model\n",
    "xgb_model = xgb.XGBRegressor(\n",
    "    n_estimators     = 1000, \n",
    "    learning_rate    = 0.01, \n",
    "    #gamma            = 0, \n",
    "    #subsample        = 0.75,\n",
    "    #colsample_bytree = 1, \n",
    "    max_depth        = 7\n",
    ")"
   ]
  },
  {
   "cell_type": "code",
   "execution_count": 18,
   "metadata": {},
   "outputs": [
    {
     "name": "stdout",
     "output_type": "stream",
     "text": [
      "CPU times: user 1h 37min 9s, sys: 16.7 s, total: 1h 37min 26s\n",
      "Wall time: 30min 49s\n"
     ]
    },
    {
     "data": {
      "text/plain": [
       "XGBRegressor(base_score=0.5, booster=None, colsample_bylevel=1,\n",
       "             colsample_bynode=1, colsample_bytree=1, gamma=0, gpu_id=-1,\n",
       "             importance_type='gain', interaction_constraints=None,\n",
       "             learning_rate=0.01, max_delta_step=0, max_depth=7,\n",
       "             min_child_weight=1, missing=nan, monotone_constraints=None,\n",
       "             n_estimators=1000, n_jobs=0, num_parallel_tree=1,\n",
       "             objective='reg:squarederror', random_state=0, reg_alpha=0,\n",
       "             reg_lambda=1, scale_pos_weight=1, subsample=1, tree_method=None,\n",
       "             validate_parameters=False, verbosity=None)"
      ]
     },
     "execution_count": 18,
     "metadata": {},
     "output_type": "execute_result"
    }
   ],
   "source": [
    "%time xgb_model.fit(dataset_input, dataset_label, early_stopping_rounds=10, verbose=True)"
   ]
  },
  {
   "cell_type": "code",
   "execution_count": 19,
   "metadata": {},
   "outputs": [
    {
     "data": {
      "text/plain": [
       "<matplotlib.axes._subplots.AxesSubplot at 0x7fbe1b61c750>"
      ]
     },
     "execution_count": 19,
     "metadata": {},
     "output_type": "execute_result"
    },
    {
     "data": {
      "image/png": "[encoded data removed]",
      "text/plain": [
       "<Figure size 432x288 with 1 Axes>"
      ]
     },
     "metadata": {
      "needs_background": "light"
     },
     "output_type": "display_data"
    }
   ],
   "source": [
    "xgb.plot_importance(xgb_model)"
   ]
  },
  {
   "cell_type": "code",
   "execution_count": 20,
   "metadata": {},
   "outputs": [
    {
     "data": {
      "text/plain": [
       "0.47740627284501935"
      ]
     },
     "execution_count": 20,
     "metadata": {},
     "output_type": "execute_result"
    }
   ],
   "source": [
    "xgb_model.score(dataset_input, dataset_label)"
   ]
  },
  {
   "cell_type": "code",
   "execution_count": 22,
   "metadata": {},
   "outputs": [
    {
     "data": {
      "text/plain": [
       "56.03350804563506"
      ]
     },
     "execution_count": 22,
     "metadata": {},
     "output_type": "execute_result"
    }
   ],
   "source": [
    "predictions = xgb_model.predict(dataset_input)\n",
    "mean_absolute_error(predictions, dataset_label)"
   ]
  },
  {
   "cell_type": "code",
   "execution_count": null,
   "metadata": {},
   "outputs": [],
   "source": [
    "test_df = pd.read_csv(\"./data/test.csv\")"
   ]
  },
  {
   "cell_type": "code",
   "execution_count": null,
   "metadata": {},
   "outputs": [],
   "source": [
    "test_df"
   ]
  },
  {
   "cell_type": "code",
   "execution_count": null,
   "metadata": {},
   "outputs": [],
   "source": [
    "test_df['DAY_OF_WEEK'     ] = pd.to_datetime(test_df['RECORD_DATE']).dt.dayofweek\n",
    "test_df['HOUR_OF_DAY'     ] = pd.to_datetime(test_df['RECORD_DATE']).dt.hour\n",
    "test_df['MINUTE_OF_HOUR'  ] = pd.to_datetime(test_df['RECORD_DATE']).dt.minute\n",
    "test_df['SECOND_OF_MINUTE'] = pd.to_datetime(test_df['RECORD_DATE']).dt.second"
   ]
  },
  {
   "cell_type": "code",
   "execution_count": null,
   "metadata": {},
   "outputs": [],
   "source": [
    "test_df"
   ]
  },
  {
   "cell_type": "code",
   "execution_count": null,
   "metadata": {},
   "outputs": [],
   "source": [
    "import random\n",
    "\n",
    "cleaned_buses = dataset_df['BUS_ID'].unique()"
   ]
  },
  {
   "cell_type": "code",
   "execution_count": null,
   "metadata": {},
   "outputs": [],
   "source": [
    "dataset_input.iloc[0].values.tolist()"
   ]
  },
  {
   "cell_type": "code",
   "execution_count": null,
   "metadata": {
    "scrolled": false
   },
   "outputs": [],
   "source": [
    "# 'DAY_OF_WEEK', 'HOUR_OF_DAY', 'MINUTE_OF_HOUR', 'SECOND_OF_MINUTE', 'BUS_ID', 'BUSROUTE_ID', 'BUSSTOP_ID'\n",
    "for idx, row in test_df.iterrows():\n",
    "    if (pd.isna(row['TIMESTAMP'])):\n",
    "        timestamp = test_df.iloc[idx-1]['TIMESTAMP']\n",
    "        prev_row  = test_df.iloc[idx-1]\n",
    "        if (not pd.isna(timestamp)):\n",
    "            day_of_week      = prev_row['DAY_OF_WEEK']\n",
    "            hour_of_day      = prev_row['HOUR_OF_DAY']\n",
    "            minute_of_hour   = prev_row['MINUTE_OF_HOUR']\n",
    "            second_of_minute = prev_row['SECOND_OF_MINUTE']\n",
    "\n",
    "            bus_id = int(prev_row['BUS_ID'])\n",
    "            try:\n",
    "                bus_position = bus_id_encoder.transform([bus_id])[0]\n",
    "            except:\n",
    "                bus_position = random.choice(cleaned_buses)\n",
    "\n",
    "            route_id       = int(prev_row['BUSROUTE_ID'])\n",
    "            route_position = route_id_encoder.transform([route_id])[0]\n",
    "\n",
    "            busstop_id       = int(prev_row['BUSSTOP_ID'])\n",
    "            busstop_position = busstop_id_encoder.transform([busstop_id])[0]\n",
    "\n",
    "            model_input = pd.DataFrame(np.array([[day_of_week, hour_of_day, minute_of_hour, second_of_minute, bus_position, route_position, busstop_position]]),\n",
    "                                       columns=['DAY_OF_WEEK', 'HOUR_OF_DAY', 'MINUTE_OF_HOUR', 'SECOND_OF_MINUTE', 'BUS_ID', 'BUSROUTE_ID', 'BUSSTOP_ID'])\n",
    "            prediction  = int(xgb_model.predict(model_input)[0])\n",
    "            \n",
    "            test_df.at[idx, 'TIMESTAMP'] = timestamp + prediction\n",
    "\n",
    "            #break\n",
    "\n",
    "    if idx%5000==0:\n",
    "        print(\"completed at\", idx)"
   ]
  },
  {
   "cell_type": "code",
   "execution_count": null,
   "metadata": {},
   "outputs": [],
   "source": [
    "test_df[['index', 'TIMESTAMP']].to_csv(\"./out/output.csv\", index=False)"
   ]
  },
  {
   "cell_type": "code",
   "execution_count": null,
   "metadata": {},
   "outputs": [],
   "source": []
  }
 ],
 "metadata": {
  "kernelspec": {
   "display_name": "Python 3",
   "language": "python",
   "name": "python3"
  },
  "language_info": {
   "codemirror_mode": {
    "name": "ipython",
    "version": 3
   },
   "file_extension": ".py",
   "mimetype": "text/x-python",
   "name": "python",
   "nbconvert_exporter": "python",
   "pygments_lexer": "ipython3",
   "version": "3.7.5"
  }
 },
 "nbformat": 4,
 "nbformat_minor": 4
}
