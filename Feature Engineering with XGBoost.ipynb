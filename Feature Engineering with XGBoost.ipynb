{
 "cells": [
  {
   "cell_type": "code",
   "execution_count": 1,
   "metadata": {},
   "outputs": [],
   "source": [
    "import numpy as np\n",
    "import pandas as pd\n",
    "import matplotlib.pyplot as plt\n",
    "import pickle\n",
    "import xgboost as xgb\n",
    "from catboost import CatBoostRegressor\n",
    "from sklearn.metrics import mean_squared_error\n",
    "from sklearn.metrics import mean_absolute_error\n",
    "from sklearn.model_selection import train_test_split\n",
    "from sklearn.metrics import explained_variance_score"
   ]
  },
  {
   "cell_type": "code",
   "execution_count": 2,
   "metadata": {
    "scrolled": true
   },
   "outputs": [
    {
     "name": "stderr",
     "output_type": "stream",
     "text": [
      "'ls' is not recognized as an internal or external command,\n",
      "operable program or batch file.\n"
     ]
    }
   ],
   "source": [
    "!ls ./out && ls ./data"
   ]
  },
  {
   "cell_type": "code",
   "execution_count": 3,
   "metadata": {},
   "outputs": [],
   "source": [
    "bus_id_encoder     = pickle.load(open(\"./out/bus_id_encoder.pickle\"    , \"rb\"))\n",
    "route_id_encoder   = pickle.load(open(\"./out/route_id_encoder.pickle\"  , \"rb\"))\n",
    "busstop_id_encoder = pickle.load(open(\"./out/busstop_id_encoder.pickle\", \"rb\"))"
   ]
  },
  {
   "cell_type": "code",
   "execution_count": 4,
   "metadata": {},
   "outputs": [
    {
     "name": "stdout",
     "output_type": "stream",
     "text": [
      "bus ids [325819008, 451509115]\n",
      "bus categorical ids [578 664]\n",
      "route ids [11100010, 11100012]\n",
      "route categorical ids [3 4]\n",
      "busstop ids [388, 112]\n",
      "busstop categorical ids [387 111]\n"
     ]
    }
   ],
   "source": [
    "dummy_buses = [325819008, 451509115]\n",
    "print(\"bus ids\", dummy_buses)\n",
    "print(\"bus categorical ids\", bus_id_encoder.transform(dummy_buses))\n",
    "\n",
    "dummy_routes = [11100010, 11100012]\n",
    "print(\"route ids\", dummy_routes)\n",
    "print(\"route categorical ids\", route_id_encoder.transform(dummy_routes))\n",
    "\n",
    "dummy_busstops = [388, 112]\n",
    "print(\"busstop ids\", dummy_busstops)\n",
    "print(\"busstop categorical ids\", busstop_id_encoder.transform(dummy_busstops))\n"
   ]
  },
  {
   "cell_type": "code",
   "execution_count": 5,
   "metadata": {},
   "outputs": [],
   "source": [
    "dataset_df  = pd.read_csv(\"./out/cleaned_train.csv\")"
   ]
  },
  {
   "cell_type": "code",
   "execution_count": 6,
   "metadata": {},
   "outputs": [
    {
     "data": {
      "text/html": [
       "<div>\n",
       "<style scoped>\n",
       "    .dataframe tbody tr th:only-of-type {\n",
       "        vertical-align: middle;\n",
       "    }\n",
       "\n",
       "    .dataframe tbody tr th {\n",
       "        vertical-align: top;\n",
       "    }\n",
       "\n",
       "    .dataframe thead th {\n",
       "        text-align: right;\n",
       "    }\n",
       "</style>\n",
       "<table border=\"1\" class=\"dataframe\">\n",
       "  <thead>\n",
       "    <tr style=\"text-align: right;\">\n",
       "      <th></th>\n",
       "      <th>DAY_OF_WEEK</th>\n",
       "      <th>HOUR_OF_DAY</th>\n",
       "      <th>MINUTE_OF_HOUR</th>\n",
       "      <th>SECOND_OF_MINUTE</th>\n",
       "      <th>TIME</th>\n",
       "      <th>BUS_ID</th>\n",
       "      <th>BUSROUTE_ID</th>\n",
       "      <th>BUSSTOP_ID</th>\n",
       "      <th>TIMESTAMP_DIFF</th>\n",
       "      <th>ROUTE_TIME</th>\n",
       "      <th>SEQ_NUM</th>\n",
       "    </tr>\n",
       "  </thead>\n",
       "  <tbody>\n",
       "    <tr>\n",
       "      <th>0</th>\n",
       "      <td>0</td>\n",
       "      <td>7</td>\n",
       "      <td>28</td>\n",
       "      <td>25</td>\n",
       "      <td>5305</td>\n",
       "      <td>0</td>\n",
       "      <td>3</td>\n",
       "      <td>17</td>\n",
       "      <td>117.0</td>\n",
       "      <td>0.817500</td>\n",
       "      <td>21.0</td>\n",
       "    </tr>\n",
       "    <tr>\n",
       "      <th>1</th>\n",
       "      <td>0</td>\n",
       "      <td>7</td>\n",
       "      <td>30</td>\n",
       "      <td>22</td>\n",
       "      <td>5422</td>\n",
       "      <td>0</td>\n",
       "      <td>3</td>\n",
       "      <td>10</td>\n",
       "      <td>123.0</td>\n",
       "      <td>0.817500</td>\n",
       "      <td>21.0</td>\n",
       "    </tr>\n",
       "    <tr>\n",
       "      <th>2</th>\n",
       "      <td>0</td>\n",
       "      <td>7</td>\n",
       "      <td>32</td>\n",
       "      <td>25</td>\n",
       "      <td>5545</td>\n",
       "      <td>0</td>\n",
       "      <td>3</td>\n",
       "      <td>8</td>\n",
       "      <td>121.0</td>\n",
       "      <td>0.817500</td>\n",
       "      <td>21.0</td>\n",
       "    </tr>\n",
       "    <tr>\n",
       "      <th>3</th>\n",
       "      <td>0</td>\n",
       "      <td>7</td>\n",
       "      <td>34</td>\n",
       "      <td>26</td>\n",
       "      <td>5666</td>\n",
       "      <td>0</td>\n",
       "      <td>3</td>\n",
       "      <td>5</td>\n",
       "      <td>136.0</td>\n",
       "      <td>0.817500</td>\n",
       "      <td>21.0</td>\n",
       "    </tr>\n",
       "    <tr>\n",
       "      <th>4</th>\n",
       "      <td>0</td>\n",
       "      <td>7</td>\n",
       "      <td>36</td>\n",
       "      <td>42</td>\n",
       "      <td>5802</td>\n",
       "      <td>0</td>\n",
       "      <td>3</td>\n",
       "      <td>3</td>\n",
       "      <td>174.0</td>\n",
       "      <td>0.817500</td>\n",
       "      <td>21.0</td>\n",
       "    </tr>\n",
       "    <tr>\n",
       "      <th>...</th>\n",
       "      <td>...</td>\n",
       "      <td>...</td>\n",
       "      <td>...</td>\n",
       "      <td>...</td>\n",
       "      <td>...</td>\n",
       "      <td>...</td>\n",
       "      <td>...</td>\n",
       "      <td>...</td>\n",
       "      <td>...</td>\n",
       "      <td>...</td>\n",
       "      <td>...</td>\n",
       "    </tr>\n",
       "    <tr>\n",
       "      <th>3130654</th>\n",
       "      <td>6</td>\n",
       "      <td>22</td>\n",
       "      <td>27</td>\n",
       "      <td>3</td>\n",
       "      <td>59223</td>\n",
       "      <td>995</td>\n",
       "      <td>271</td>\n",
       "      <td>10</td>\n",
       "      <td>123.0</td>\n",
       "      <td>0.903056</td>\n",
       "      <td>13.0</td>\n",
       "    </tr>\n",
       "    <tr>\n",
       "      <th>3130655</th>\n",
       "      <td>6</td>\n",
       "      <td>22</td>\n",
       "      <td>29</td>\n",
       "      <td>6</td>\n",
       "      <td>59346</td>\n",
       "      <td>995</td>\n",
       "      <td>271</td>\n",
       "      <td>8</td>\n",
       "      <td>185.0</td>\n",
       "      <td>0.903056</td>\n",
       "      <td>13.0</td>\n",
       "    </tr>\n",
       "    <tr>\n",
       "      <th>3130656</th>\n",
       "      <td>6</td>\n",
       "      <td>22</td>\n",
       "      <td>32</td>\n",
       "      <td>11</td>\n",
       "      <td>59531</td>\n",
       "      <td>995</td>\n",
       "      <td>271</td>\n",
       "      <td>5</td>\n",
       "      <td>99.0</td>\n",
       "      <td>0.903056</td>\n",
       "      <td>13.0</td>\n",
       "    </tr>\n",
       "    <tr>\n",
       "      <th>3130657</th>\n",
       "      <td>6</td>\n",
       "      <td>22</td>\n",
       "      <td>33</td>\n",
       "      <td>50</td>\n",
       "      <td>59630</td>\n",
       "      <td>995</td>\n",
       "      <td>271</td>\n",
       "      <td>3</td>\n",
       "      <td>225.0</td>\n",
       "      <td>0.903056</td>\n",
       "      <td>13.0</td>\n",
       "    </tr>\n",
       "    <tr>\n",
       "      <th>3130658</th>\n",
       "      <td>6</td>\n",
       "      <td>22</td>\n",
       "      <td>37</td>\n",
       "      <td>35</td>\n",
       "      <td>59855</td>\n",
       "      <td>995</td>\n",
       "      <td>271</td>\n",
       "      <td>146</td>\n",
       "      <td>150.0</td>\n",
       "      <td>0.903056</td>\n",
       "      <td>13.0</td>\n",
       "    </tr>\n",
       "  </tbody>\n",
       "</table>\n",
       "<p>3130659 rows × 11 columns</p>\n",
       "</div>"
      ],
      "text/plain": [
       "         DAY_OF_WEEK  HOUR_OF_DAY  MINUTE_OF_HOUR  SECOND_OF_MINUTE   TIME  \\\n",
       "0                  0            7              28                25   5305   \n",
       "1                  0            7              30                22   5422   \n",
       "2                  0            7              32                25   5545   \n",
       "3                  0            7              34                26   5666   \n",
       "4                  0            7              36                42   5802   \n",
       "...              ...          ...             ...               ...    ...   \n",
       "3130654            6           22              27                 3  59223   \n",
       "3130655            6           22              29                 6  59346   \n",
       "3130656            6           22              32                11  59531   \n",
       "3130657            6           22              33                50  59630   \n",
       "3130658            6           22              37                35  59855   \n",
       "\n",
       "         BUS_ID  BUSROUTE_ID  BUSSTOP_ID  TIMESTAMP_DIFF  ROUTE_TIME  SEQ_NUM  \n",
       "0             0            3          17           117.0    0.817500     21.0  \n",
       "1             0            3          10           123.0    0.817500     21.0  \n",
       "2             0            3           8           121.0    0.817500     21.0  \n",
       "3             0            3           5           136.0    0.817500     21.0  \n",
       "4             0            3           3           174.0    0.817500     21.0  \n",
       "...         ...          ...         ...             ...         ...      ...  \n",
       "3130654     995          271          10           123.0    0.903056     13.0  \n",
       "3130655     995          271           8           185.0    0.903056     13.0  \n",
       "3130656     995          271           5            99.0    0.903056     13.0  \n",
       "3130657     995          271           3           225.0    0.903056     13.0  \n",
       "3130658     995          271         146           150.0    0.903056     13.0  \n",
       "\n",
       "[3130659 rows x 11 columns]"
      ]
     },
     "execution_count": 6,
     "metadata": {},
     "output_type": "execute_result"
    }
   ],
   "source": [
    "dataset_df"
   ]
  },
  {
   "cell_type": "code",
   "execution_count": 13,
   "metadata": {},
   "outputs": [],
   "source": [
    "dataset_input = dataset_df[['DAY_OF_WEEK', 'HOUR_OF_DAY', 'MINUTE_OF_HOUR', 'SECOND_OF_MINUTE', 'TIME', 'BUS_ID', 'BUSROUTE_ID', 'BUSSTOP_ID', 'ROUTE_TIME', 'SEQ_NUM']]\n",
    "dataset_label = dataset_df[['TIMESTAMP_DIFF']]"
   ]
  },
  {
   "cell_type": "code",
   "execution_count": 14,
   "metadata": {},
   "outputs": [],
   "source": [
    "xgb_model = xgb.XGBRegressor()"
   ]
  },
  {
   "cell_type": "code",
   "execution_count": 15,
   "metadata": {},
   "outputs": [
    {
     "name": "stdout",
     "output_type": "stream",
     "text": [
      "Wall time: 8min 48s\n"
     ]
    },
    {
     "data": {
      "text/plain": [
       "XGBRegressor(base_score=0.5, booster=None, colsample_bylevel=1,\n",
       "             colsample_bynode=1, colsample_bytree=1, gamma=0, gpu_id=-1,\n",
       "             importance_type='gain', interaction_constraints=None,\n",
       "             learning_rate=0.300000012, max_delta_step=0, max_depth=6,\n",
       "             min_child_weight=1, missing=nan, monotone_constraints=None,\n",
       "             n_estimators=100, n_jobs=0, num_parallel_tree=1,\n",
       "             objective='reg:squarederror', random_state=0, reg_alpha=0,\n",
       "             reg_lambda=1, scale_pos_weight=1, subsample=1, tree_method=None,\n",
       "             validate_parameters=False, verbosity=None)"
      ]
     },
     "execution_count": 15,
     "metadata": {},
     "output_type": "execute_result"
    }
   ],
   "source": [
    "%time xgb_model.fit(dataset_input, dataset_label, verbose=True)"
   ]
  },
  {
   "cell_type": "code",
   "execution_count": 17,
   "metadata": {},
   "outputs": [
    {
     "data": {
      "text/plain": [
       "<matplotlib.axes._subplots.AxesSubplot at 0x1a60d702cc8>"
      ]
     },
     "execution_count": 17,
     "metadata": {},
     "output_type": "execute_result"
    },
    {
     "data": {
      "image/png": "[encoded data removed]",
      "text/plain": [
       "<Figure size 432x288 with 1 Axes>"
      ]
     },
     "metadata": {
      "needs_background": "light"
     },
     "output_type": "display_data"
    }
   ],
   "source": [
    "xgb.plot_importance(xgb_model)"
   ]
  },
  {
   "cell_type": "code",
   "execution_count": 18,
   "metadata": {},
   "outputs": [
    {
     "data": {
      "text/plain": [
       "0.9308660468535913"
      ]
     },
     "execution_count": 18,
     "metadata": {},
     "output_type": "execute_result"
    }
   ],
   "source": [
    "xgb_model.score(dataset_input, dataset_label)"
   ]
  },
  {
   "cell_type": "code",
   "execution_count": 19,
   "metadata": {},
   "outputs": [
    {
     "data": {
      "text/plain": [
       "99.17959860417399"
      ]
     },
     "execution_count": 19,
     "metadata": {},
     "output_type": "execute_result"
    }
   ],
   "source": [
    "predictions = xgb_model.predict(dataset_input)\n",
    "mean_absolute_error(predictions, dataset_label)"
   ]
  },
  {
   "cell_type": "code",
   "execution_count": null,
   "metadata": {},
   "outputs": [],
   "source": []
  }
 ],
 "metadata": {
  "kernelspec": {
   "display_name": "Python 3",
   "language": "python",
   "name": "python3"
  },
  "language_info": {
   "codemirror_mode": {
    "name": "ipython",
    "version": 3
   },
   "file_extension": ".py",
   "mimetype": "text/x-python",
   "name": "python",
   "nbconvert_exporter": "python",
   "pygments_lexer": "ipython3",
   "version": "3.7.7"
  }
 },
 "nbformat": 4,
 "nbformat_minor": 4
}
