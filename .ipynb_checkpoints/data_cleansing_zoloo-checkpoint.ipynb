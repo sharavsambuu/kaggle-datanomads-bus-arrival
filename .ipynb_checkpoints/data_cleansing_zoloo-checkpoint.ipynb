{
 "cells": [
  {
   "cell_type": "code",
   "execution_count": null,
   "metadata": {},
   "outputs": [],
   "source": [
    "import pandas as pd\n",
    "import numpy as np\n",
    "from sklearn import preprocessing\n",
    "import pickle"
   ]
  },
  {
   "cell_type": "code",
   "execution_count": null,
   "metadata": {},
   "outputs": [],
   "source": [
    "train_df_raw = pd.read_csv(\"./data/training.csv\")"
   ]
  },
  {
   "cell_type": "code",
   "execution_count": null,
   "metadata": {},
   "outputs": [],
   "source": [
    "routes_df = pd.read_csv(\"./data/routes.csv\")\n",
    "route_list = routes_df['BUSROUTE_ID'].unique()"
   ]
  },
  {
   "cell_type": "code",
   "execution_count": null,
   "metadata": {},
   "outputs": [],
   "source": [
    "stop_df = pd.read_csv(\"./data/stops.csv\")\n",
    "stop_list = stop_df['BUSSTOP_ID'].unique()"
   ]
  },
  {
   "cell_type": "code",
   "execution_count": null,
   "metadata": {},
   "outputs": [],
   "source": [
    "bus_list = train_df_raw['BUS_ID'].unique()"
   ]
  },
  {
   "cell_type": "code",
   "execution_count": null,
   "metadata": {},
   "outputs": [],
   "source": [
    "train_df = train_df_raw"
   ]
  },
  {
   "cell_type": "code",
   "execution_count": null,
   "metadata": {
    "scrolled": false
   },
   "outputs": [],
   "source": [
    "train_df.head()"
   ]
  },
  {
   "cell_type": "code",
   "execution_count": null,
   "metadata": {},
   "outputs": [],
   "source": [
    "train_df = train_df.sort_values(by=['BUSROUTE_ID', 'BUS_ID', 'TIMESTAMP'])"
   ]
  },
  {
   "cell_type": "code",
   "execution_count": null,
   "metadata": {},
   "outputs": [],
   "source": [
    "route_index = 0\n",
    "prev_seq = 0\n",
    "seq_data = []\n",
    "for idx, row in train_df.iterrows():\n",
    "    if prev_seq == 0:\n",
    "        prev_bus = row['BUS_ID']\n",
    "        prev_seq = row['BUSSTOP_SEQ']\n",
    "        prev_route = row['BUSROUTE_ID']\n",
    "        prev_timestamp = row['TIMESTAMP']\n",
    "        min_timestamp = row['TIMESTAMP']\n",
    "        cnt = 1\n",
    "        continue\n",
    "        \n",
    "    if (row['BUSSTOP_SEQ']>prev_seq and row['BUS_ID'] == prev_bus and row['BUSROUTE_ID'] == prev_route):\n",
    "        pass\n",
    "    else:\n",
    "        seq_data.append([route_index, prev_route, cnt, (prev_timestamp - min_timestamp)/3600])\n",
    "        min_timestamp = row['TIMESTAMP']\n",
    "        route_index+=1\n",
    "        cnt = 0\n",
    "\n",
    "        \n",
    "        \n",
    "    prev_bus = row['BUS_ID']\n",
    "    prev_seq = row['BUSSTOP_SEQ']\n",
    "    prev_route = row['BUSROUTE_ID']\n",
    "    prev_timestamp = row['TIMESTAMP']\n",
    "    train_df.at[idx, 'ROUTE_IDX'] = route_index\n",
    "    cnt += 1\n",
    "    \n",
    "seq_data.append([route_index, prev_route, cnt, (prev_timestamp - min_timestamp)/3600])"
   ]
  },
  {
   "cell_type": "code",
   "execution_count": null,
   "metadata": {},
   "outputs": [],
   "source": [
    "train_df=train_df.fillna(0)\n",
    "for idx, row in train_df.iterrows():\n",
    "    train_df.at[idx, 'ROUTE_TIME'] = seq_data[int(row['ROUTE_IDX'])][3]\n",
    "    train_df.at[idx, 'SEQ_NUM'] = seq_data[int(row['ROUTE_IDX'])][2]"
   ]
  },
  {
   "cell_type": "code",
   "execution_count": null,
   "metadata": {},
   "outputs": [],
   "source": [
    "train_df['TIMESTAMP_DIFF'] = train_df['TIMESTAMP'].shift(-1) - train_df['TIMESTAMP']"
   ]
  },
  {
   "cell_type": "code",
   "execution_count": null,
   "metadata": {},
   "outputs": [],
   "source": [
    "train_df['SEQ_DIFF'] = train_df['BUSSTOP_SEQ'].shift(-1) - train_df['BUSSTOP_SEQ']"
   ]
  },
  {
   "cell_type": "code",
   "execution_count": null,
   "metadata": {},
   "outputs": [],
   "source": [
    "train_df['ROUTE_DIFF'] = train_df['BUSROUTE_ID'].shift(-1) - train_df['BUSROUTE_ID']"
   ]
  },
  {
   "cell_type": "code",
   "execution_count": null,
   "metadata": {},
   "outputs": [],
   "source": [
    "train_df['BUS_ID_DIFF'] = train_df['BUS_ID'].shift(-1) - train_df['BUS_ID']"
   ]
  },
  {
   "cell_type": "code",
   "execution_count": null,
   "metadata": {},
   "outputs": [],
   "source": [
    "# train_df = train_df[(train_df['SEQ_DIFF']==1.0) & (train_df['ROUTE_DIFF']==0.0) & (train_df['BUS_ID_DIFF']==0.0)]"
   ]
  },
  {
   "cell_type": "code",
   "execution_count": null,
   "metadata": {},
   "outputs": [],
   "source": [
    "train_df_bk = train_df"
   ]
  },
  {
   "cell_type": "code",
   "execution_count": null,
   "metadata": {},
   "outputs": [],
   "source": [
    "# train_df = train_df[train_df['SEQ_DIFF']==1]\n",
    "train_df = train_df[train_df['SEQ_DIFF']>0]\n",
    "train_df = train_df[train_df['ROUTE_DIFF']==0]\n",
    "train_df = train_df[train_df['BUS_ID_DIFF']==0]"
   ]
  },
  {
   "cell_type": "code",
   "execution_count": null,
   "metadata": {},
   "outputs": [],
   "source": [
    "train_df[train_df['TIMESTAMP_DIFF']<1]\n",
    "# train_df[train_df['SEQ_DIFF']<0]"
   ]
  },
  {
   "cell_type": "code",
   "execution_count": null,
   "metadata": {},
   "outputs": [],
   "source": [
    "# bus id encoding\n",
    "bus_id_encoder = preprocessing.LabelEncoder()\n",
    "bus_id_encoder.fit(bus_list)\n",
    "train_df.BUS_ID = bus_id_encoder.transform(train_df.BUS_ID)\n",
    "\n",
    "# bus_id_encoder.transform([145010001, 235501055])\n",
    "# bus_id_encoder.inverse_transform([280, 466])"
   ]
  },
  {
   "cell_type": "code",
   "execution_count": null,
   "metadata": {},
   "outputs": [],
   "source": [
    "# route id encoding\n",
    "route_id_encoder = preprocessing.LabelEncoder()\n",
    "route_id_encoder.fit(route_list)\n",
    "train_df.BUSROUTE_ID = route_id_encoder.transform(train_df.BUSROUTE_ID)"
   ]
  },
  {
   "cell_type": "code",
   "execution_count": null,
   "metadata": {},
   "outputs": [],
   "source": [
    "# stop id encoding\n",
    "stop_id_encoder = preprocessing.LabelEncoder()\n",
    "stop_id_encoder.fit(stop_list)\n",
    "train_df.BUSSTOP_ID = stop_id_encoder.transform(train_df.BUSSTOP_ID)"
   ]
  },
  {
   "cell_type": "code",
   "execution_count": null,
   "metadata": {},
   "outputs": [],
   "source": [
    "pickle.dump(bus_id_encoder  , open(\"./out/bus_id_encoder.pickle\"    , \"wb\"))\n",
    "pickle.dump(route_id_encoder, open(\"./out/route_id_encoder.pickle\"  , \"wb\"))\n",
    "pickle.dump(stop_id_encoder , open(\"./out/busstop_id_encoder.pickle\", \"wb\"))"
   ]
  },
  {
   "cell_type": "code",
   "execution_count": null,
   "metadata": {},
   "outputs": [],
   "source": [
    "train_df"
   ]
  },
  {
   "cell_type": "code",
   "execution_count": null,
   "metadata": {},
   "outputs": [],
   "source": [
    "train_df['DAY_OF_WEEK'     ] = pd.to_datetime(train_df['RECORD_DATE']).dt.dayofweek\n",
    "train_df['HOUR_OF_DAY'     ] = pd.to_datetime(train_df['RECORD_DATE']).dt.hour\n",
    "train_df['MINUTE_OF_HOUR'  ] = pd.to_datetime(train_df['RECORD_DATE']).dt.minute\n",
    "train_df['SECOND_OF_MINUTE'] = pd.to_datetime(train_df['RECORD_DATE']).dt.second"
   ]
  },
  {
   "cell_type": "code",
   "execution_count": null,
   "metadata": {},
   "outputs": [],
   "source": [
    "train_df"
   ]
  },
  {
   "cell_type": "code",
   "execution_count": null,
   "metadata": {},
   "outputs": [],
   "source": [
    "def timestamp_to_timeposition(time, starting_time = 21600): \n",
    "    if time < starting_time:\n",
    "        return 0\n",
    "    return (time - starting_time) % 86400"
   ]
  },
  {
   "cell_type": "code",
   "execution_count": null,
   "metadata": {},
   "outputs": [],
   "source": [
    "def timestamp_to_dayofweek(time):\n",
    "    return (time//3600//24 + 3) % 7"
   ]
  },
  {
   "cell_type": "code",
   "execution_count": null,
   "metadata": {},
   "outputs": [],
   "source": [
    "timestamp_to_timeposition(1578607757)"
   ]
  },
  {
   "cell_type": "code",
   "execution_count": null,
   "metadata": {},
   "outputs": [],
   "source": [
    "# time validation (valid time is 06:00:00 ~ 23:59:59)\n",
    "starting_time = 21600 # 06:00:00\n",
    "train_df['TIME_validation'] = train_df['TIMESTAMP'] % 86400\n",
    "train_df = train_df[train_df['TIME_validation']>=starting_time]"
   ]
  },
  {
   "cell_type": "code",
   "execution_count": null,
   "metadata": {},
   "outputs": [],
   "source": [
    "# encodeing time\n",
    "\n",
    "# (pd.to_datetime(train_df['RECORD_DATE']) - pd.Timestamp(\"1970-01-01\")) // pd.Timedelta('1s')\n",
    "# (pd.Timestamp('2020-01-14 07:00:00')  - pd.Timestamp(\"1970-01-01\")) // pd.Timedelta('1s')\n",
    "train_df['TIME'] = (train_df['TIMESTAMP'] - starting_time) % 86400\n"
   ]
  },
  {
   "cell_type": "code",
   "execution_count": null,
   "metadata": {},
   "outputs": [],
   "source": [
    "train_df.sort_values(by=['TIMESTAMP_DIFF'])"
   ]
  },
  {
   "cell_type": "code",
   "execution_count": null,
   "metadata": {},
   "outputs": [],
   "source": [
    "# 2000 sec-ees ihiig evdersen esvel tur zogsolt hiisen gej uzeed haslaa\n",
    "\n",
    "# train_df[(train_df['TIMESTAMP_DIFF']>2000)].sort_values(by=['TIMESTAMP_DIFF'])\n",
    "# train_df = train_df[(train_df['TIMESTAMP_DIFF']<2000)]"
   ]
  },
  {
   "cell_type": "code",
   "execution_count": null,
   "metadata": {},
   "outputs": [],
   "source": [
    "train_df"
   ]
  },
  {
   "cell_type": "code",
   "execution_count": null,
   "metadata": {},
   "outputs": [],
   "source": [
    "output_df = train_df[[\n",
    "    \"DAY_OF_WEEK\", \"HOUR_OF_DAY\", \"MINUTE_OF_HOUR\", \"SECOND_OF_MINUTE\", \"TIME\", \n",
    "    \"BUS_ID\", \"BUSROUTE_ID\", \"BUSSTOP_ID\", \"TIMESTAMP_DIFF\", \"ROUTE_TIME\", \"SEQ_NUM\"\n",
    "]]"
   ]
  },
  {
   "cell_type": "code",
   "execution_count": null,
   "metadata": {},
   "outputs": [],
   "source": [
    "output_df.to_csv('./out/cleaned_train.csv', index = False)"
   ]
  },
  {
   "cell_type": "code",
   "execution_count": null,
   "metadata": {},
   "outputs": [],
   "source": []
  }
 ],
 "metadata": {
  "kernelspec": {
   "display_name": "Python 3",
   "language": "python",
   "name": "python3"
  },
  "language_info": {
   "codemirror_mode": {
    "name": "ipython",
    "version": 3
   },
   "file_extension": ".py",
   "mimetype": "text/x-python",
   "name": "python",
   "nbconvert_exporter": "python",
   "pygments_lexer": "ipython3",
   "version": "3.7.4"
  }
 },
 "nbformat": 4,
 "nbformat_minor": 4
}
