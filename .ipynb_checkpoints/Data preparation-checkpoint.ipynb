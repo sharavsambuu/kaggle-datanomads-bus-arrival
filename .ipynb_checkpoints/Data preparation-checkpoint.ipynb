{
 "cells": [
  {
   "cell_type": "code",
   "execution_count": 1,
   "metadata": {},
   "outputs": [],
   "source": [
    "import pandas as pd"
   ]
  },
  {
   "cell_type": "code",
   "execution_count": 2,
   "metadata": {},
   "outputs": [],
   "source": [
    "train_df = pd.read_csv(\"./training.csv\")"
   ]
  },
  {
   "cell_type": "code",
   "execution_count": 3,
   "metadata": {},
   "outputs": [
    {
     "data": {
      "text/html": [
       "<div>\n",
       "<style scoped>\n",
       "    .dataframe tbody tr th:only-of-type {\n",
       "        vertical-align: middle;\n",
       "    }\n",
       "\n",
       "    .dataframe tbody tr th {\n",
       "        vertical-align: top;\n",
       "    }\n",
       "\n",
       "    .dataframe thead th {\n",
       "        text-align: right;\n",
       "    }\n",
       "</style>\n",
       "<table border=\"1\" class=\"dataframe\">\n",
       "  <thead>\n",
       "    <tr style=\"text-align: right;\">\n",
       "      <th></th>\n",
       "      <th>index</th>\n",
       "      <th>RECORD_DATE</th>\n",
       "      <th>BUS_ID</th>\n",
       "      <th>BUSROUTE_ID</th>\n",
       "      <th>BUSSTOP_ID</th>\n",
       "      <th>BUSSTOP_SEQ</th>\n",
       "      <th>TIMESTAMP</th>\n",
       "    </tr>\n",
       "  </thead>\n",
       "  <tbody>\n",
       "    <tr>\n",
       "      <th>0</th>\n",
       "      <td>0</td>\n",
       "      <td>2020-01-06 07:00:00</td>\n",
       "      <td>325819008</td>\n",
       "      <td>11100360</td>\n",
       "      <td>388</td>\n",
       "      <td>21</td>\n",
       "      <td>1578294000</td>\n",
       "    </tr>\n",
       "    <tr>\n",
       "      <th>1</th>\n",
       "      <td>1</td>\n",
       "      <td>2020-01-06 07:00:00</td>\n",
       "      <td>451509115</td>\n",
       "      <td>11100480</td>\n",
       "      <td>112</td>\n",
       "      <td>9</td>\n",
       "      <td>1578294000</td>\n",
       "    </tr>\n",
       "    <tr>\n",
       "      <th>2</th>\n",
       "      <td>2</td>\n",
       "      <td>2020-01-06 07:00:00</td>\n",
       "      <td>235501055</td>\n",
       "      <td>11100500</td>\n",
       "      <td>374</td>\n",
       "      <td>9</td>\n",
       "      <td>1578294000</td>\n",
       "    </tr>\n",
       "    <tr>\n",
       "      <th>3</th>\n",
       "      <td>3</td>\n",
       "      <td>2020-01-06 07:00:00</td>\n",
       "      <td>145010001</td>\n",
       "      <td>11100330</td>\n",
       "      <td>331</td>\n",
       "      <td>30</td>\n",
       "      <td>1578294000</td>\n",
       "    </tr>\n",
       "    <tr>\n",
       "      <th>4</th>\n",
       "      <td>4</td>\n",
       "      <td>2020-01-06 07:00:01</td>\n",
       "      <td>421733004</td>\n",
       "      <td>11100620</td>\n",
       "      <td>51</td>\n",
       "      <td>29</td>\n",
       "      <td>1578294001</td>\n",
       "    </tr>\n",
       "  </tbody>\n",
       "</table>\n",
       "</div>"
      ],
      "text/plain": [
       "   index          RECORD_DATE     BUS_ID  BUSROUTE_ID  BUSSTOP_ID  \\\n",
       "0      0  2020-01-06 07:00:00  325819008     11100360         388   \n",
       "1      1  2020-01-06 07:00:00  451509115     11100480         112   \n",
       "2      2  2020-01-06 07:00:00  235501055     11100500         374   \n",
       "3      3  2020-01-06 07:00:00  145010001     11100330         331   \n",
       "4      4  2020-01-06 07:00:01  421733004     11100620          51   \n",
       "\n",
       "   BUSSTOP_SEQ   TIMESTAMP  \n",
       "0           21  1578294000  \n",
       "1            9  1578294000  \n",
       "2            9  1578294000  \n",
       "3           30  1578294000  \n",
       "4           29  1578294001  "
      ]
     },
     "execution_count": 3,
     "metadata": {},
     "output_type": "execute_result"
    }
   ],
   "source": [
    "train_df.head()"
   ]
  },
  {
   "cell_type": "code",
   "execution_count": 4,
   "metadata": {},
   "outputs": [],
   "source": [
    "test_df = pd.read_csv(\"./test.csv\")"
   ]
  },
  {
   "cell_type": "code",
   "execution_count": 5,
   "metadata": {},
   "outputs": [
    {
     "data": {
      "text/html": [
       "<div>\n",
       "<style scoped>\n",
       "    .dataframe tbody tr th:only-of-type {\n",
       "        vertical-align: middle;\n",
       "    }\n",
       "\n",
       "    .dataframe tbody tr th {\n",
       "        vertical-align: top;\n",
       "    }\n",
       "\n",
       "    .dataframe thead th {\n",
       "        text-align: right;\n",
       "    }\n",
       "</style>\n",
       "<table border=\"1\" class=\"dataframe\">\n",
       "  <thead>\n",
       "    <tr style=\"text-align: right;\">\n",
       "      <th></th>\n",
       "      <th>index</th>\n",
       "      <th>BUSROUTE_ID</th>\n",
       "      <th>BUS_ID</th>\n",
       "      <th>BUSSTOP_ID</th>\n",
       "      <th>BUSSTOP_SEQ</th>\n",
       "      <th>RECORD_DATE</th>\n",
       "      <th>TIMESTAMP</th>\n",
       "    </tr>\n",
       "  </thead>\n",
       "  <tbody>\n",
       "    <tr>\n",
       "      <th>0</th>\n",
       "      <td>3220254</td>\n",
       "      <td>11100010</td>\n",
       "      <td>2054</td>\n",
       "      <td>11</td>\n",
       "      <td>3</td>\n",
       "      <td>2020-01-22 09:23:36</td>\n",
       "      <td>1.579685e+09</td>\n",
       "    </tr>\n",
       "    <tr>\n",
       "      <th>1</th>\n",
       "      <td>3220255</td>\n",
       "      <td>11100010</td>\n",
       "      <td>2054</td>\n",
       "      <td>9</td>\n",
       "      <td>4</td>\n",
       "      <td>NaN</td>\n",
       "      <td>NaN</td>\n",
       "    </tr>\n",
       "    <tr>\n",
       "      <th>2</th>\n",
       "      <td>3220256</td>\n",
       "      <td>11100010</td>\n",
       "      <td>2054</td>\n",
       "      <td>6</td>\n",
       "      <td>5</td>\n",
       "      <td>2020-01-22 09:27:26</td>\n",
       "      <td>1.579685e+09</td>\n",
       "    </tr>\n",
       "    <tr>\n",
       "      <th>3</th>\n",
       "      <td>3220257</td>\n",
       "      <td>11100010</td>\n",
       "      <td>2054</td>\n",
       "      <td>4</td>\n",
       "      <td>6</td>\n",
       "      <td>NaN</td>\n",
       "      <td>NaN</td>\n",
       "    </tr>\n",
       "    <tr>\n",
       "      <th>4</th>\n",
       "      <td>3220258</td>\n",
       "      <td>11100010</td>\n",
       "      <td>2054</td>\n",
       "      <td>147</td>\n",
       "      <td>7</td>\n",
       "      <td>NaN</td>\n",
       "      <td>NaN</td>\n",
       "    </tr>\n",
       "  </tbody>\n",
       "</table>\n",
       "</div>"
      ],
      "text/plain": [
       "     index  BUSROUTE_ID  BUS_ID  BUSSTOP_ID  BUSSTOP_SEQ          RECORD_DATE  \\\n",
       "0  3220254     11100010    2054          11            3  2020-01-22 09:23:36   \n",
       "1  3220255     11100010    2054           9            4                  NaN   \n",
       "2  3220256     11100010    2054           6            5  2020-01-22 09:27:26   \n",
       "3  3220257     11100010    2054           4            6                  NaN   \n",
       "4  3220258     11100010    2054         147            7                  NaN   \n",
       "\n",
       "      TIMESTAMP  \n",
       "0  1.579685e+09  \n",
       "1           NaN  \n",
       "2  1.579685e+09  \n",
       "3           NaN  \n",
       "4           NaN  "
      ]
     },
     "execution_count": 5,
     "metadata": {},
     "output_type": "execute_result"
    }
   ],
   "source": [
    "test_df.head()"
   ]
  },
  {
   "cell_type": "code",
   "execution_count": 6,
   "metadata": {},
   "outputs": [],
   "source": [
    "buses = train_df['BUS_ID'].unique()"
   ]
  },
  {
   "cell_type": "code",
   "execution_count": 7,
   "metadata": {},
   "outputs": [
    {
     "data": {
      "text/plain": [
       "(1077,)"
      ]
     },
     "execution_count": 7,
     "metadata": {},
     "output_type": "execute_result"
    }
   ],
   "source": [
    "buses.shape"
   ]
  },
  {
   "cell_type": "code",
   "execution_count": 8,
   "metadata": {},
   "outputs": [],
   "source": [
    "bus_stops = train_df['BUSSTOP_ID'].unique()"
   ]
  },
  {
   "cell_type": "code",
   "execution_count": 9,
   "metadata": {},
   "outputs": [
    {
     "data": {
      "text/plain": [
       "1014"
      ]
     },
     "execution_count": 9,
     "metadata": {},
     "output_type": "execute_result"
    }
   ],
   "source": [
    "bus_stops.size"
   ]
  },
  {
   "cell_type": "code",
   "execution_count": 10,
   "metadata": {},
   "outputs": [],
   "source": [
    "bus_routes = train_df['BUSROUTE_ID'].unique()"
   ]
  },
  {
   "cell_type": "code",
   "execution_count": 11,
   "metadata": {},
   "outputs": [
    {
     "data": {
      "text/plain": [
       "108"
      ]
     },
     "execution_count": 11,
     "metadata": {},
     "output_type": "execute_result"
    }
   ],
   "source": [
    "bus_routes.size"
   ]
  },
  {
   "cell_type": "code",
   "execution_count": 22,
   "metadata": {},
   "outputs": [],
   "source": [
    "one_bus  = train_df[train_df['BUS_ID']==325819008]"
   ]
  },
  {
   "cell_type": "code",
   "execution_count": 23,
   "metadata": {},
   "outputs": [
    {
     "data": {
      "text/html": [
       "<div>\n",
       "<style scoped>\n",
       "    .dataframe tbody tr th:only-of-type {\n",
       "        vertical-align: middle;\n",
       "    }\n",
       "\n",
       "    .dataframe tbody tr th {\n",
       "        vertical-align: top;\n",
       "    }\n",
       "\n",
       "    .dataframe thead th {\n",
       "        text-align: right;\n",
       "    }\n",
       "</style>\n",
       "<table border=\"1\" class=\"dataframe\">\n",
       "  <thead>\n",
       "    <tr style=\"text-align: right;\">\n",
       "      <th></th>\n",
       "      <th>index</th>\n",
       "      <th>RECORD_DATE</th>\n",
       "      <th>BUS_ID</th>\n",
       "      <th>BUSROUTE_ID</th>\n",
       "      <th>BUSSTOP_ID</th>\n",
       "      <th>BUSSTOP_SEQ</th>\n",
       "      <th>TIMESTAMP</th>\n",
       "    </tr>\n",
       "  </thead>\n",
       "  <tbody>\n",
       "    <tr>\n",
       "      <th>0</th>\n",
       "      <td>0</td>\n",
       "      <td>2020-01-06 07:00:00</td>\n",
       "      <td>325819008</td>\n",
       "      <td>11100360</td>\n",
       "      <td>388</td>\n",
       "      <td>21</td>\n",
       "      <td>1578294000</td>\n",
       "    </tr>\n",
       "    <tr>\n",
       "      <th>191</th>\n",
       "      <td>191</td>\n",
       "      <td>2020-01-06 07:01:06</td>\n",
       "      <td>325819008</td>\n",
       "      <td>11100360</td>\n",
       "      <td>386</td>\n",
       "      <td>22</td>\n",
       "      <td>1578294066</td>\n",
       "    </tr>\n",
       "    <tr>\n",
       "      <th>492</th>\n",
       "      <td>492</td>\n",
       "      <td>2020-01-06 07:02:47</td>\n",
       "      <td>325819008</td>\n",
       "      <td>11100360</td>\n",
       "      <td>384</td>\n",
       "      <td>23</td>\n",
       "      <td>1578294167</td>\n",
       "    </tr>\n",
       "    <tr>\n",
       "      <th>878</th>\n",
       "      <td>878</td>\n",
       "      <td>2020-01-06 07:04:43</td>\n",
       "      <td>325819008</td>\n",
       "      <td>11100360</td>\n",
       "      <td>382</td>\n",
       "      <td>24</td>\n",
       "      <td>1578294283</td>\n",
       "    </tr>\n",
       "    <tr>\n",
       "      <th>1170</th>\n",
       "      <td>1170</td>\n",
       "      <td>2020-01-06 07:06:17</td>\n",
       "      <td>325819008</td>\n",
       "      <td>11100360</td>\n",
       "      <td>1402</td>\n",
       "      <td>25</td>\n",
       "      <td>1578294377</td>\n",
       "    </tr>\n",
       "    <tr>\n",
       "      <th>...</th>\n",
       "      <td>...</td>\n",
       "      <td>...</td>\n",
       "      <td>...</td>\n",
       "      <td>...</td>\n",
       "      <td>...</td>\n",
       "      <td>...</td>\n",
       "      <td>...</td>\n",
       "    </tr>\n",
       "    <tr>\n",
       "      <th>3218517</th>\n",
       "      <td>3218517</td>\n",
       "      <td>2020-01-19 22:09:41</td>\n",
       "      <td>325819008</td>\n",
       "      <td>11100360</td>\n",
       "      <td>1402</td>\n",
       "      <td>25</td>\n",
       "      <td>1579471781</td>\n",
       "    </tr>\n",
       "    <tr>\n",
       "      <th>3218597</th>\n",
       "      <td>3218597</td>\n",
       "      <td>2020-01-19 22:10:47</td>\n",
       "      <td>325819008</td>\n",
       "      <td>11100360</td>\n",
       "      <td>380</td>\n",
       "      <td>26</td>\n",
       "      <td>1579471847</td>\n",
       "    </tr>\n",
       "    <tr>\n",
       "      <th>3218695</th>\n",
       "      <td>3218695</td>\n",
       "      <td>2020-01-19 22:12:06</td>\n",
       "      <td>325819008</td>\n",
       "      <td>11100360</td>\n",
       "      <td>378</td>\n",
       "      <td>27</td>\n",
       "      <td>1579471926</td>\n",
       "    </tr>\n",
       "    <tr>\n",
       "      <th>3218779</th>\n",
       "      <td>3218779</td>\n",
       "      <td>2020-01-19 22:13:08</td>\n",
       "      <td>325819008</td>\n",
       "      <td>11100360</td>\n",
       "      <td>376</td>\n",
       "      <td>28</td>\n",
       "      <td>1579471988</td>\n",
       "    </tr>\n",
       "    <tr>\n",
       "      <th>3219085</th>\n",
       "      <td>3219085</td>\n",
       "      <td>2020-01-19 22:18:08</td>\n",
       "      <td>325819008</td>\n",
       "      <td>11100360</td>\n",
       "      <td>374</td>\n",
       "      <td>29</td>\n",
       "      <td>1579472288</td>\n",
       "    </tr>\n",
       "  </tbody>\n",
       "</table>\n",
       "<p>6728 rows × 7 columns</p>\n",
       "</div>"
      ],
      "text/plain": [
       "           index          RECORD_DATE     BUS_ID  BUSROUTE_ID  BUSSTOP_ID  \\\n",
       "0              0  2020-01-06 07:00:00  325819008     11100360         388   \n",
       "191          191  2020-01-06 07:01:06  325819008     11100360         386   \n",
       "492          492  2020-01-06 07:02:47  325819008     11100360         384   \n",
       "878          878  2020-01-06 07:04:43  325819008     11100360         382   \n",
       "1170        1170  2020-01-06 07:06:17  325819008     11100360        1402   \n",
       "...          ...                  ...        ...          ...         ...   \n",
       "3218517  3218517  2020-01-19 22:09:41  325819008     11100360        1402   \n",
       "3218597  3218597  2020-01-19 22:10:47  325819008     11100360         380   \n",
       "3218695  3218695  2020-01-19 22:12:06  325819008     11100360         378   \n",
       "3218779  3218779  2020-01-19 22:13:08  325819008     11100360         376   \n",
       "3219085  3219085  2020-01-19 22:18:08  325819008     11100360         374   \n",
       "\n",
       "         BUSSTOP_SEQ   TIMESTAMP  \n",
       "0                 21  1578294000  \n",
       "191               22  1578294066  \n",
       "492               23  1578294167  \n",
       "878               24  1578294283  \n",
       "1170              25  1578294377  \n",
       "...              ...         ...  \n",
       "3218517           25  1579471781  \n",
       "3218597           26  1579471847  \n",
       "3218695           27  1579471926  \n",
       "3218779           28  1579471988  \n",
       "3219085           29  1579472288  \n",
       "\n",
       "[6728 rows x 7 columns]"
      ]
     },
     "execution_count": 23,
     "metadata": {},
     "output_type": "execute_result"
    }
   ],
   "source": [
    "one_bus"
   ]
  },
  {
   "cell_type": "code",
   "execution_count": 28,
   "metadata": {},
   "outputs": [
    {
     "name": "stderr",
     "output_type": "stream",
     "text": [
      "/home/sharav/src/misc/data-nomads-phase-1-competition/env/lib/python3.7/site-packages/ipykernel_launcher.py:1: SettingWithCopyWarning: \n",
      "A value is trying to be set on a copy of a slice from a DataFrame.\n",
      "Try using .loc[row_indexer,col_indexer] = value instead\n",
      "\n",
      "See the caveats in the documentation: https://pandas.pydata.org/pandas-docs/stable/user_guide/indexing.html#returning-a-view-versus-a-copy\n",
      "  \"\"\"Entry point for launching an IPython kernel.\n"
     ]
    }
   ],
   "source": [
    "one_bus['TIMESTAMP_DIFF'] = one_bus['TIMESTAMP'].diff().shift(-1)"
   ]
  },
  {
   "cell_type": "code",
   "execution_count": 29,
   "metadata": {},
   "outputs": [
    {
     "data": {
      "text/html": [
       "<div>\n",
       "<style scoped>\n",
       "    .dataframe tbody tr th:only-of-type {\n",
       "        vertical-align: middle;\n",
       "    }\n",
       "\n",
       "    .dataframe tbody tr th {\n",
       "        vertical-align: top;\n",
       "    }\n",
       "\n",
       "    .dataframe thead th {\n",
       "        text-align: right;\n",
       "    }\n",
       "</style>\n",
       "<table border=\"1\" class=\"dataframe\">\n",
       "  <thead>\n",
       "    <tr style=\"text-align: right;\">\n",
       "      <th></th>\n",
       "      <th>index</th>\n",
       "      <th>RECORD_DATE</th>\n",
       "      <th>BUS_ID</th>\n",
       "      <th>BUSROUTE_ID</th>\n",
       "      <th>BUSSTOP_ID</th>\n",
       "      <th>BUSSTOP_SEQ</th>\n",
       "      <th>TIMESTAMP</th>\n",
       "      <th>TIMESTAMP_DIFF</th>\n",
       "    </tr>\n",
       "  </thead>\n",
       "  <tbody>\n",
       "    <tr>\n",
       "      <th>0</th>\n",
       "      <td>0</td>\n",
       "      <td>2020-01-06 07:00:00</td>\n",
       "      <td>325819008</td>\n",
       "      <td>11100360</td>\n",
       "      <td>388</td>\n",
       "      <td>21</td>\n",
       "      <td>1578294000</td>\n",
       "      <td>66.0</td>\n",
       "    </tr>\n",
       "    <tr>\n",
       "      <th>191</th>\n",
       "      <td>191</td>\n",
       "      <td>2020-01-06 07:01:06</td>\n",
       "      <td>325819008</td>\n",
       "      <td>11100360</td>\n",
       "      <td>386</td>\n",
       "      <td>22</td>\n",
       "      <td>1578294066</td>\n",
       "      <td>101.0</td>\n",
       "    </tr>\n",
       "    <tr>\n",
       "      <th>492</th>\n",
       "      <td>492</td>\n",
       "      <td>2020-01-06 07:02:47</td>\n",
       "      <td>325819008</td>\n",
       "      <td>11100360</td>\n",
       "      <td>384</td>\n",
       "      <td>23</td>\n",
       "      <td>1578294167</td>\n",
       "      <td>116.0</td>\n",
       "    </tr>\n",
       "    <tr>\n",
       "      <th>878</th>\n",
       "      <td>878</td>\n",
       "      <td>2020-01-06 07:04:43</td>\n",
       "      <td>325819008</td>\n",
       "      <td>11100360</td>\n",
       "      <td>382</td>\n",
       "      <td>24</td>\n",
       "      <td>1578294283</td>\n",
       "      <td>94.0</td>\n",
       "    </tr>\n",
       "    <tr>\n",
       "      <th>1170</th>\n",
       "      <td>1170</td>\n",
       "      <td>2020-01-06 07:06:17</td>\n",
       "      <td>325819008</td>\n",
       "      <td>11100360</td>\n",
       "      <td>1402</td>\n",
       "      <td>25</td>\n",
       "      <td>1578294377</td>\n",
       "      <td>87.0</td>\n",
       "    </tr>\n",
       "    <tr>\n",
       "      <th>...</th>\n",
       "      <td>...</td>\n",
       "      <td>...</td>\n",
       "      <td>...</td>\n",
       "      <td>...</td>\n",
       "      <td>...</td>\n",
       "      <td>...</td>\n",
       "      <td>...</td>\n",
       "      <td>...</td>\n",
       "    </tr>\n",
       "    <tr>\n",
       "      <th>3218517</th>\n",
       "      <td>3218517</td>\n",
       "      <td>2020-01-19 22:09:41</td>\n",
       "      <td>325819008</td>\n",
       "      <td>11100360</td>\n",
       "      <td>1402</td>\n",
       "      <td>25</td>\n",
       "      <td>1579471781</td>\n",
       "      <td>66.0</td>\n",
       "    </tr>\n",
       "    <tr>\n",
       "      <th>3218597</th>\n",
       "      <td>3218597</td>\n",
       "      <td>2020-01-19 22:10:47</td>\n",
       "      <td>325819008</td>\n",
       "      <td>11100360</td>\n",
       "      <td>380</td>\n",
       "      <td>26</td>\n",
       "      <td>1579471847</td>\n",
       "      <td>79.0</td>\n",
       "    </tr>\n",
       "    <tr>\n",
       "      <th>3218695</th>\n",
       "      <td>3218695</td>\n",
       "      <td>2020-01-19 22:12:06</td>\n",
       "      <td>325819008</td>\n",
       "      <td>11100360</td>\n",
       "      <td>378</td>\n",
       "      <td>27</td>\n",
       "      <td>1579471926</td>\n",
       "      <td>62.0</td>\n",
       "    </tr>\n",
       "    <tr>\n",
       "      <th>3218779</th>\n",
       "      <td>3218779</td>\n",
       "      <td>2020-01-19 22:13:08</td>\n",
       "      <td>325819008</td>\n",
       "      <td>11100360</td>\n",
       "      <td>376</td>\n",
       "      <td>28</td>\n",
       "      <td>1579471988</td>\n",
       "      <td>300.0</td>\n",
       "    </tr>\n",
       "    <tr>\n",
       "      <th>3219085</th>\n",
       "      <td>3219085</td>\n",
       "      <td>2020-01-19 22:18:08</td>\n",
       "      <td>325819008</td>\n",
       "      <td>11100360</td>\n",
       "      <td>374</td>\n",
       "      <td>29</td>\n",
       "      <td>1579472288</td>\n",
       "      <td>NaN</td>\n",
       "    </tr>\n",
       "  </tbody>\n",
       "</table>\n",
       "<p>6728 rows × 8 columns</p>\n",
       "</div>"
      ],
      "text/plain": [
       "           index          RECORD_DATE     BUS_ID  BUSROUTE_ID  BUSSTOP_ID  \\\n",
       "0              0  2020-01-06 07:00:00  325819008     11100360         388   \n",
       "191          191  2020-01-06 07:01:06  325819008     11100360         386   \n",
       "492          492  2020-01-06 07:02:47  325819008     11100360         384   \n",
       "878          878  2020-01-06 07:04:43  325819008     11100360         382   \n",
       "1170        1170  2020-01-06 07:06:17  325819008     11100360        1402   \n",
       "...          ...                  ...        ...          ...         ...   \n",
       "3218517  3218517  2020-01-19 22:09:41  325819008     11100360        1402   \n",
       "3218597  3218597  2020-01-19 22:10:47  325819008     11100360         380   \n",
       "3218695  3218695  2020-01-19 22:12:06  325819008     11100360         378   \n",
       "3218779  3218779  2020-01-19 22:13:08  325819008     11100360         376   \n",
       "3219085  3219085  2020-01-19 22:18:08  325819008     11100360         374   \n",
       "\n",
       "         BUSSTOP_SEQ   TIMESTAMP  TIMESTAMP_DIFF  \n",
       "0                 21  1578294000            66.0  \n",
       "191               22  1578294066           101.0  \n",
       "492               23  1578294167           116.0  \n",
       "878               24  1578294283            94.0  \n",
       "1170              25  1578294377            87.0  \n",
       "...              ...         ...             ...  \n",
       "3218517           25  1579471781            66.0  \n",
       "3218597           26  1579471847            79.0  \n",
       "3218695           27  1579471926            62.0  \n",
       "3218779           28  1579471988           300.0  \n",
       "3219085           29  1579472288             NaN  \n",
       "\n",
       "[6728 rows x 8 columns]"
      ]
     },
     "execution_count": 29,
     "metadata": {},
     "output_type": "execute_result"
    }
   ],
   "source": [
    "one_bus"
   ]
  },
  {
   "cell_type": "code",
   "execution_count": 30,
   "metadata": {},
   "outputs": [],
   "source": [
    "one_bus = one_bus.dropna()"
   ]
  },
  {
   "cell_type": "code",
   "execution_count": 31,
   "metadata": {},
   "outputs": [
    {
     "data": {
      "text/html": [
       "<div>\n",
       "<style scoped>\n",
       "    .dataframe tbody tr th:only-of-type {\n",
       "        vertical-align: middle;\n",
       "    }\n",
       "\n",
       "    .dataframe tbody tr th {\n",
       "        vertical-align: top;\n",
       "    }\n",
       "\n",
       "    .dataframe thead th {\n",
       "        text-align: right;\n",
       "    }\n",
       "</style>\n",
       "<table border=\"1\" class=\"dataframe\">\n",
       "  <thead>\n",
       "    <tr style=\"text-align: right;\">\n",
       "      <th></th>\n",
       "      <th>index</th>\n",
       "      <th>RECORD_DATE</th>\n",
       "      <th>BUS_ID</th>\n",
       "      <th>BUSROUTE_ID</th>\n",
       "      <th>BUSSTOP_ID</th>\n",
       "      <th>BUSSTOP_SEQ</th>\n",
       "      <th>TIMESTAMP</th>\n",
       "      <th>TIMESTAMP_DIFF</th>\n",
       "    </tr>\n",
       "  </thead>\n",
       "  <tbody>\n",
       "    <tr>\n",
       "      <th>0</th>\n",
       "      <td>0</td>\n",
       "      <td>2020-01-06 07:00:00</td>\n",
       "      <td>325819008</td>\n",
       "      <td>11100360</td>\n",
       "      <td>388</td>\n",
       "      <td>21</td>\n",
       "      <td>1578294000</td>\n",
       "      <td>66.0</td>\n",
       "    </tr>\n",
       "    <tr>\n",
       "      <th>191</th>\n",
       "      <td>191</td>\n",
       "      <td>2020-01-06 07:01:06</td>\n",
       "      <td>325819008</td>\n",
       "      <td>11100360</td>\n",
       "      <td>386</td>\n",
       "      <td>22</td>\n",
       "      <td>1578294066</td>\n",
       "      <td>101.0</td>\n",
       "    </tr>\n",
       "    <tr>\n",
       "      <th>492</th>\n",
       "      <td>492</td>\n",
       "      <td>2020-01-06 07:02:47</td>\n",
       "      <td>325819008</td>\n",
       "      <td>11100360</td>\n",
       "      <td>384</td>\n",
       "      <td>23</td>\n",
       "      <td>1578294167</td>\n",
       "      <td>116.0</td>\n",
       "    </tr>\n",
       "    <tr>\n",
       "      <th>878</th>\n",
       "      <td>878</td>\n",
       "      <td>2020-01-06 07:04:43</td>\n",
       "      <td>325819008</td>\n",
       "      <td>11100360</td>\n",
       "      <td>382</td>\n",
       "      <td>24</td>\n",
       "      <td>1578294283</td>\n",
       "      <td>94.0</td>\n",
       "    </tr>\n",
       "    <tr>\n",
       "      <th>1170</th>\n",
       "      <td>1170</td>\n",
       "      <td>2020-01-06 07:06:17</td>\n",
       "      <td>325819008</td>\n",
       "      <td>11100360</td>\n",
       "      <td>1402</td>\n",
       "      <td>25</td>\n",
       "      <td>1578294377</td>\n",
       "      <td>87.0</td>\n",
       "    </tr>\n",
       "    <tr>\n",
       "      <th>...</th>\n",
       "      <td>...</td>\n",
       "      <td>...</td>\n",
       "      <td>...</td>\n",
       "      <td>...</td>\n",
       "      <td>...</td>\n",
       "      <td>...</td>\n",
       "      <td>...</td>\n",
       "      <td>...</td>\n",
       "    </tr>\n",
       "    <tr>\n",
       "      <th>3218436</th>\n",
       "      <td>3218436</td>\n",
       "      <td>2020-01-19 22:08:40</td>\n",
       "      <td>325819008</td>\n",
       "      <td>11100360</td>\n",
       "      <td>382</td>\n",
       "      <td>24</td>\n",
       "      <td>1579471720</td>\n",
       "      <td>61.0</td>\n",
       "    </tr>\n",
       "    <tr>\n",
       "      <th>3218517</th>\n",
       "      <td>3218517</td>\n",
       "      <td>2020-01-19 22:09:41</td>\n",
       "      <td>325819008</td>\n",
       "      <td>11100360</td>\n",
       "      <td>1402</td>\n",
       "      <td>25</td>\n",
       "      <td>1579471781</td>\n",
       "      <td>66.0</td>\n",
       "    </tr>\n",
       "    <tr>\n",
       "      <th>3218597</th>\n",
       "      <td>3218597</td>\n",
       "      <td>2020-01-19 22:10:47</td>\n",
       "      <td>325819008</td>\n",
       "      <td>11100360</td>\n",
       "      <td>380</td>\n",
       "      <td>26</td>\n",
       "      <td>1579471847</td>\n",
       "      <td>79.0</td>\n",
       "    </tr>\n",
       "    <tr>\n",
       "      <th>3218695</th>\n",
       "      <td>3218695</td>\n",
       "      <td>2020-01-19 22:12:06</td>\n",
       "      <td>325819008</td>\n",
       "      <td>11100360</td>\n",
       "      <td>378</td>\n",
       "      <td>27</td>\n",
       "      <td>1579471926</td>\n",
       "      <td>62.0</td>\n",
       "    </tr>\n",
       "    <tr>\n",
       "      <th>3218779</th>\n",
       "      <td>3218779</td>\n",
       "      <td>2020-01-19 22:13:08</td>\n",
       "      <td>325819008</td>\n",
       "      <td>11100360</td>\n",
       "      <td>376</td>\n",
       "      <td>28</td>\n",
       "      <td>1579471988</td>\n",
       "      <td>300.0</td>\n",
       "    </tr>\n",
       "  </tbody>\n",
       "</table>\n",
       "<p>6727 rows × 8 columns</p>\n",
       "</div>"
      ],
      "text/plain": [
       "           index          RECORD_DATE     BUS_ID  BUSROUTE_ID  BUSSTOP_ID  \\\n",
       "0              0  2020-01-06 07:00:00  325819008     11100360         388   \n",
       "191          191  2020-01-06 07:01:06  325819008     11100360         386   \n",
       "492          492  2020-01-06 07:02:47  325819008     11100360         384   \n",
       "878          878  2020-01-06 07:04:43  325819008     11100360         382   \n",
       "1170        1170  2020-01-06 07:06:17  325819008     11100360        1402   \n",
       "...          ...                  ...        ...          ...         ...   \n",
       "3218436  3218436  2020-01-19 22:08:40  325819008     11100360         382   \n",
       "3218517  3218517  2020-01-19 22:09:41  325819008     11100360        1402   \n",
       "3218597  3218597  2020-01-19 22:10:47  325819008     11100360         380   \n",
       "3218695  3218695  2020-01-19 22:12:06  325819008     11100360         378   \n",
       "3218779  3218779  2020-01-19 22:13:08  325819008     11100360         376   \n",
       "\n",
       "         BUSSTOP_SEQ   TIMESTAMP  TIMESTAMP_DIFF  \n",
       "0                 21  1578294000            66.0  \n",
       "191               22  1578294066           101.0  \n",
       "492               23  1578294167           116.0  \n",
       "878               24  1578294283            94.0  \n",
       "1170              25  1578294377            87.0  \n",
       "...              ...         ...             ...  \n",
       "3218436           24  1579471720            61.0  \n",
       "3218517           25  1579471781            66.0  \n",
       "3218597           26  1579471847            79.0  \n",
       "3218695           27  1579471926            62.0  \n",
       "3218779           28  1579471988           300.0  \n",
       "\n",
       "[6727 rows x 8 columns]"
      ]
     },
     "execution_count": 31,
     "metadata": {},
     "output_type": "execute_result"
    }
   ],
   "source": [
    "one_bus"
   ]
  },
  {
   "cell_type": "code",
   "execution_count": 37,
   "metadata": {},
   "outputs": [
    {
     "name": "stderr",
     "output_type": "stream",
     "text": [
      "/home/sharav/src/misc/data-nomads-phase-1-competition/env/lib/python3.7/site-packages/ipykernel_launcher.py:1: SettingWithCopyWarning: \n",
      "A value is trying to be set on a copy of a slice from a DataFrame.\n",
      "Try using .loc[row_indexer,col_indexer] = value instead\n",
      "\n",
      "See the caveats in the documentation: https://pandas.pydata.org/pandas-docs/stable/user_guide/indexing.html#returning-a-view-versus-a-copy\n",
      "  \"\"\"Entry point for launching an IPython kernel.\n"
     ]
    }
   ],
   "source": [
    "one_bus['BUSSTOP_SEQ_DIFF'] = one_bus['BUSSTOP_SEQ'].diff()"
   ]
  },
  {
   "cell_type": "code",
   "execution_count": 47,
   "metadata": {},
   "outputs": [
    {
     "data": {
      "text/html": [
       "<div>\n",
       "<style scoped>\n",
       "    .dataframe tbody tr th:only-of-type {\n",
       "        vertical-align: middle;\n",
       "    }\n",
       "\n",
       "    .dataframe tbody tr th {\n",
       "        vertical-align: top;\n",
       "    }\n",
       "\n",
       "    .dataframe thead th {\n",
       "        text-align: right;\n",
       "    }\n",
       "</style>\n",
       "<table border=\"1\" class=\"dataframe\">\n",
       "  <thead>\n",
       "    <tr style=\"text-align: right;\">\n",
       "      <th></th>\n",
       "      <th>index</th>\n",
       "      <th>RECORD_DATE</th>\n",
       "      <th>BUS_ID</th>\n",
       "      <th>BUSROUTE_ID</th>\n",
       "      <th>BUSSTOP_ID</th>\n",
       "      <th>BUSSTOP_SEQ</th>\n",
       "      <th>TIMESTAMP</th>\n",
       "      <th>TIMESTAMP_DIFF</th>\n",
       "      <th>BUSSTOP_SEQ_DIFF</th>\n",
       "    </tr>\n",
       "  </thead>\n",
       "  <tbody>\n",
       "    <tr>\n",
       "      <th>0</th>\n",
       "      <td>0</td>\n",
       "      <td>2020-01-06 07:00:00</td>\n",
       "      <td>325819008</td>\n",
       "      <td>11100360</td>\n",
       "      <td>388</td>\n",
       "      <td>21</td>\n",
       "      <td>1578294000</td>\n",
       "      <td>66.0</td>\n",
       "      <td>NaN</td>\n",
       "    </tr>\n",
       "    <tr>\n",
       "      <th>191</th>\n",
       "      <td>191</td>\n",
       "      <td>2020-01-06 07:01:06</td>\n",
       "      <td>325819008</td>\n",
       "      <td>11100360</td>\n",
       "      <td>386</td>\n",
       "      <td>22</td>\n",
       "      <td>1578294066</td>\n",
       "      <td>101.0</td>\n",
       "      <td>1.0</td>\n",
       "    </tr>\n",
       "    <tr>\n",
       "      <th>492</th>\n",
       "      <td>492</td>\n",
       "      <td>2020-01-06 07:02:47</td>\n",
       "      <td>325819008</td>\n",
       "      <td>11100360</td>\n",
       "      <td>384</td>\n",
       "      <td>23</td>\n",
       "      <td>1578294167</td>\n",
       "      <td>116.0</td>\n",
       "      <td>1.0</td>\n",
       "    </tr>\n",
       "    <tr>\n",
       "      <th>878</th>\n",
       "      <td>878</td>\n",
       "      <td>2020-01-06 07:04:43</td>\n",
       "      <td>325819008</td>\n",
       "      <td>11100360</td>\n",
       "      <td>382</td>\n",
       "      <td>24</td>\n",
       "      <td>1578294283</td>\n",
       "      <td>94.0</td>\n",
       "      <td>1.0</td>\n",
       "    </tr>\n",
       "    <tr>\n",
       "      <th>1170</th>\n",
       "      <td>1170</td>\n",
       "      <td>2020-01-06 07:06:17</td>\n",
       "      <td>325819008</td>\n",
       "      <td>11100360</td>\n",
       "      <td>1402</td>\n",
       "      <td>25</td>\n",
       "      <td>1578294377</td>\n",
       "      <td>87.0</td>\n",
       "      <td>1.0</td>\n",
       "    </tr>\n",
       "    <tr>\n",
       "      <th>...</th>\n",
       "      <td>...</td>\n",
       "      <td>...</td>\n",
       "      <td>...</td>\n",
       "      <td>...</td>\n",
       "      <td>...</td>\n",
       "      <td>...</td>\n",
       "      <td>...</td>\n",
       "      <td>...</td>\n",
       "      <td>...</td>\n",
       "    </tr>\n",
       "    <tr>\n",
       "      <th>3218436</th>\n",
       "      <td>3218436</td>\n",
       "      <td>2020-01-19 22:08:40</td>\n",
       "      <td>325819008</td>\n",
       "      <td>11100360</td>\n",
       "      <td>382</td>\n",
       "      <td>24</td>\n",
       "      <td>1579471720</td>\n",
       "      <td>61.0</td>\n",
       "      <td>1.0</td>\n",
       "    </tr>\n",
       "    <tr>\n",
       "      <th>3218517</th>\n",
       "      <td>3218517</td>\n",
       "      <td>2020-01-19 22:09:41</td>\n",
       "      <td>325819008</td>\n",
       "      <td>11100360</td>\n",
       "      <td>1402</td>\n",
       "      <td>25</td>\n",
       "      <td>1579471781</td>\n",
       "      <td>66.0</td>\n",
       "      <td>1.0</td>\n",
       "    </tr>\n",
       "    <tr>\n",
       "      <th>3218597</th>\n",
       "      <td>3218597</td>\n",
       "      <td>2020-01-19 22:10:47</td>\n",
       "      <td>325819008</td>\n",
       "      <td>11100360</td>\n",
       "      <td>380</td>\n",
       "      <td>26</td>\n",
       "      <td>1579471847</td>\n",
       "      <td>79.0</td>\n",
       "      <td>1.0</td>\n",
       "    </tr>\n",
       "    <tr>\n",
       "      <th>3218695</th>\n",
       "      <td>3218695</td>\n",
       "      <td>2020-01-19 22:12:06</td>\n",
       "      <td>325819008</td>\n",
       "      <td>11100360</td>\n",
       "      <td>378</td>\n",
       "      <td>27</td>\n",
       "      <td>1579471926</td>\n",
       "      <td>62.0</td>\n",
       "      <td>1.0</td>\n",
       "    </tr>\n",
       "    <tr>\n",
       "      <th>3218779</th>\n",
       "      <td>3218779</td>\n",
       "      <td>2020-01-19 22:13:08</td>\n",
       "      <td>325819008</td>\n",
       "      <td>11100360</td>\n",
       "      <td>376</td>\n",
       "      <td>28</td>\n",
       "      <td>1579471988</td>\n",
       "      <td>300.0</td>\n",
       "      <td>1.0</td>\n",
       "    </tr>\n",
       "  </tbody>\n",
       "</table>\n",
       "<p>6727 rows × 9 columns</p>\n",
       "</div>"
      ],
      "text/plain": [
       "           index          RECORD_DATE     BUS_ID  BUSROUTE_ID  BUSSTOP_ID  \\\n",
       "0              0  2020-01-06 07:00:00  325819008     11100360         388   \n",
       "191          191  2020-01-06 07:01:06  325819008     11100360         386   \n",
       "492          492  2020-01-06 07:02:47  325819008     11100360         384   \n",
       "878          878  2020-01-06 07:04:43  325819008     11100360         382   \n",
       "1170        1170  2020-01-06 07:06:17  325819008     11100360        1402   \n",
       "...          ...                  ...        ...          ...         ...   \n",
       "3218436  3218436  2020-01-19 22:08:40  325819008     11100360         382   \n",
       "3218517  3218517  2020-01-19 22:09:41  325819008     11100360        1402   \n",
       "3218597  3218597  2020-01-19 22:10:47  325819008     11100360         380   \n",
       "3218695  3218695  2020-01-19 22:12:06  325819008     11100360         378   \n",
       "3218779  3218779  2020-01-19 22:13:08  325819008     11100360         376   \n",
       "\n",
       "         BUSSTOP_SEQ   TIMESTAMP  TIMESTAMP_DIFF  BUSSTOP_SEQ_DIFF  \n",
       "0                 21  1578294000            66.0               NaN  \n",
       "191               22  1578294066           101.0               1.0  \n",
       "492               23  1578294167           116.0               1.0  \n",
       "878               24  1578294283            94.0               1.0  \n",
       "1170              25  1578294377            87.0               1.0  \n",
       "...              ...         ...             ...               ...  \n",
       "3218436           24  1579471720            61.0               1.0  \n",
       "3218517           25  1579471781            66.0               1.0  \n",
       "3218597           26  1579471847            79.0               1.0  \n",
       "3218695           27  1579471926            62.0               1.0  \n",
       "3218779           28  1579471988           300.0               1.0  \n",
       "\n",
       "[6727 rows x 9 columns]"
      ]
     },
     "execution_count": 47,
     "metadata": {},
     "output_type": "execute_result"
    }
   ],
   "source": [
    "one_bus"
   ]
  },
  {
   "cell_type": "code",
   "execution_count": 52,
   "metadata": {},
   "outputs": [
    {
     "name": "stdout",
     "output_type": "stream",
     "text": [
      "6727\n",
      "6591\n"
     ]
    }
   ],
   "source": [
    "print(len(one_bus))\n",
    "print(len(one_bus[one_bus['BUSSTOP_SEQ_DIFF']==1.0]))"
   ]
  },
  {
   "cell_type": "code",
   "execution_count": 53,
   "metadata": {},
   "outputs": [
    {
     "data": {
      "text/html": [
       "<div>\n",
       "<style scoped>\n",
       "    .dataframe tbody tr th:only-of-type {\n",
       "        vertical-align: middle;\n",
       "    }\n",
       "\n",
       "    .dataframe tbody tr th {\n",
       "        vertical-align: top;\n",
       "    }\n",
       "\n",
       "    .dataframe thead th {\n",
       "        text-align: right;\n",
       "    }\n",
       "</style>\n",
       "<table border=\"1\" class=\"dataframe\">\n",
       "  <thead>\n",
       "    <tr style=\"text-align: right;\">\n",
       "      <th></th>\n",
       "      <th>index</th>\n",
       "      <th>RECORD_DATE</th>\n",
       "      <th>BUS_ID</th>\n",
       "      <th>BUSROUTE_ID</th>\n",
       "      <th>BUSSTOP_ID</th>\n",
       "      <th>BUSSTOP_SEQ</th>\n",
       "      <th>TIMESTAMP</th>\n",
       "      <th>TIMESTAMP_DIFF</th>\n",
       "      <th>BUSSTOP_SEQ_DIFF</th>\n",
       "    </tr>\n",
       "  </thead>\n",
       "  <tbody>\n",
       "    <tr>\n",
       "      <th>0</th>\n",
       "      <td>0</td>\n",
       "      <td>2020-01-06 07:00:00</td>\n",
       "      <td>325819008</td>\n",
       "      <td>11100360</td>\n",
       "      <td>388</td>\n",
       "      <td>21</td>\n",
       "      <td>1578294000</td>\n",
       "      <td>66.0</td>\n",
       "      <td>NaN</td>\n",
       "    </tr>\n",
       "    <tr>\n",
       "      <th>20023</th>\n",
       "      <td>20023</td>\n",
       "      <td>2020-01-06 08:08:41</td>\n",
       "      <td>325819008</td>\n",
       "      <td>11100360</td>\n",
       "      <td>459</td>\n",
       "      <td>2</td>\n",
       "      <td>1578298121</td>\n",
       "      <td>93.0</td>\n",
       "      <td>-56.0</td>\n",
       "    </tr>\n",
       "    <tr>\n",
       "      <th>50667</th>\n",
       "      <td>50667</td>\n",
       "      <td>2020-01-06 09:42:13</td>\n",
       "      <td>325819008</td>\n",
       "      <td>11100360</td>\n",
       "      <td>459</td>\n",
       "      <td>2</td>\n",
       "      <td>1578303733</td>\n",
       "      <td>110.0</td>\n",
       "      <td>-56.0</td>\n",
       "    </tr>\n",
       "    <tr>\n",
       "      <th>85004</th>\n",
       "      <td>85004</td>\n",
       "      <td>2020-01-06 11:36:01</td>\n",
       "      <td>325819008</td>\n",
       "      <td>11100360</td>\n",
       "      <td>459</td>\n",
       "      <td>2</td>\n",
       "      <td>1578310561</td>\n",
       "      <td>107.0</td>\n",
       "      <td>-55.0</td>\n",
       "    </tr>\n",
       "    <tr>\n",
       "      <th>110819</th>\n",
       "      <td>110819</td>\n",
       "      <td>2020-01-06 13:10:19</td>\n",
       "      <td>325819008</td>\n",
       "      <td>11100360</td>\n",
       "      <td>459</td>\n",
       "      <td>2</td>\n",
       "      <td>1578316219</td>\n",
       "      <td>104.0</td>\n",
       "      <td>-56.0</td>\n",
       "    </tr>\n",
       "    <tr>\n",
       "      <th>...</th>\n",
       "      <td>...</td>\n",
       "      <td>...</td>\n",
       "      <td>...</td>\n",
       "      <td>...</td>\n",
       "      <td>...</td>\n",
       "      <td>...</td>\n",
       "      <td>...</td>\n",
       "      <td>...</td>\n",
       "      <td>...</td>\n",
       "    </tr>\n",
       "    <tr>\n",
       "      <th>3132107</th>\n",
       "      <td>3132107</td>\n",
       "      <td>2020-01-19 14:10:13</td>\n",
       "      <td>325819008</td>\n",
       "      <td>11100360</td>\n",
       "      <td>459</td>\n",
       "      <td>2</td>\n",
       "      <td>1579443013</td>\n",
       "      <td>146.0</td>\n",
       "      <td>-56.0</td>\n",
       "    </tr>\n",
       "    <tr>\n",
       "      <th>3151135</th>\n",
       "      <td>3151135</td>\n",
       "      <td>2020-01-19 15:54:32</td>\n",
       "      <td>325819008</td>\n",
       "      <td>11100360</td>\n",
       "      <td>459</td>\n",
       "      <td>2</td>\n",
       "      <td>1579449272</td>\n",
       "      <td>96.0</td>\n",
       "      <td>-55.0</td>\n",
       "    </tr>\n",
       "    <tr>\n",
       "      <th>3169375</th>\n",
       "      <td>3169375</td>\n",
       "      <td>2020-01-19 17:30:37</td>\n",
       "      <td>325819008</td>\n",
       "      <td>11100360</td>\n",
       "      <td>459</td>\n",
       "      <td>2</td>\n",
       "      <td>1579455037</td>\n",
       "      <td>86.0</td>\n",
       "      <td>-56.0</td>\n",
       "    </tr>\n",
       "    <tr>\n",
       "      <th>3201413</th>\n",
       "      <td>3201413</td>\n",
       "      <td>2020-01-19 20:21:27</td>\n",
       "      <td>325819008</td>\n",
       "      <td>11100360</td>\n",
       "      <td>783</td>\n",
       "      <td>17</td>\n",
       "      <td>1579465287</td>\n",
       "      <td>185.0</td>\n",
       "      <td>2.0</td>\n",
       "    </tr>\n",
       "    <tr>\n",
       "      <th>3214520</th>\n",
       "      <td>3214520</td>\n",
       "      <td>2020-01-19 21:35:32</td>\n",
       "      <td>325819008</td>\n",
       "      <td>11100360</td>\n",
       "      <td>459</td>\n",
       "      <td>2</td>\n",
       "      <td>1579469732</td>\n",
       "      <td>94.0</td>\n",
       "      <td>-56.0</td>\n",
       "    </tr>\n",
       "  </tbody>\n",
       "</table>\n",
       "<p>136 rows × 9 columns</p>\n",
       "</div>"
      ],
      "text/plain": [
       "           index          RECORD_DATE     BUS_ID  BUSROUTE_ID  BUSSTOP_ID  \\\n",
       "0              0  2020-01-06 07:00:00  325819008     11100360         388   \n",
       "20023      20023  2020-01-06 08:08:41  325819008     11100360         459   \n",
       "50667      50667  2020-01-06 09:42:13  325819008     11100360         459   \n",
       "85004      85004  2020-01-06 11:36:01  325819008     11100360         459   \n",
       "110819    110819  2020-01-06 13:10:19  325819008     11100360         459   \n",
       "...          ...                  ...        ...          ...         ...   \n",
       "3132107  3132107  2020-01-19 14:10:13  325819008     11100360         459   \n",
       "3151135  3151135  2020-01-19 15:54:32  325819008     11100360         459   \n",
       "3169375  3169375  2020-01-19 17:30:37  325819008     11100360         459   \n",
       "3201413  3201413  2020-01-19 20:21:27  325819008     11100360         783   \n",
       "3214520  3214520  2020-01-19 21:35:32  325819008     11100360         459   \n",
       "\n",
       "         BUSSTOP_SEQ   TIMESTAMP  TIMESTAMP_DIFF  BUSSTOP_SEQ_DIFF  \n",
       "0                 21  1578294000            66.0               NaN  \n",
       "20023              2  1578298121            93.0             -56.0  \n",
       "50667              2  1578303733           110.0             -56.0  \n",
       "85004              2  1578310561           107.0             -55.0  \n",
       "110819             2  1578316219           104.0             -56.0  \n",
       "...              ...         ...             ...               ...  \n",
       "3132107            2  1579443013           146.0             -56.0  \n",
       "3151135            2  1579449272            96.0             -55.0  \n",
       "3169375            2  1579455037            86.0             -56.0  \n",
       "3201413           17  1579465287           185.0               2.0  \n",
       "3214520            2  1579469732            94.0             -56.0  \n",
       "\n",
       "[136 rows x 9 columns]"
      ]
     },
     "execution_count": 53,
     "metadata": {},
     "output_type": "execute_result"
    }
   ],
   "source": [
    "one_bus[one_bus['BUSSTOP_SEQ_DIFF']!=1.0]"
   ]
  },
  {
   "cell_type": "code",
   "execution_count": 60,
   "metadata": {},
   "outputs": [
    {
     "data": {
      "text/plain": [
       "array([ nan,   1., -56., -55., -27., -28.,   0.,   2.,   5., -17.,   3.])"
      ]
     },
     "execution_count": 60,
     "metadata": {},
     "output_type": "execute_result"
    }
   ],
   "source": [
    "pd.unique(one_bus['BUSSTOP_SEQ_DIFF'])"
   ]
  },
  {
   "cell_type": "code",
   "execution_count": 61,
   "metadata": {},
   "outputs": [
    {
     "data": {
      "text/plain": [
       "37328.0"
      ]
     },
     "execution_count": 61,
     "metadata": {},
     "output_type": "execute_result"
    }
   ],
   "source": [
    "one_bus['TIMESTAMP_DIFF'].max()"
   ]
  },
  {
   "cell_type": "code",
   "execution_count": 68,
   "metadata": {},
   "outputs": [],
   "source": [
    "import math\n",
    "import numpy as np\n",
    "\n",
    "x_hat = 37328.0"
   ]
  },
  {
   "cell_type": "code",
   "execution_count": 70,
   "metadata": {},
   "outputs": [
    {
     "data": {
      "text/plain": [
       "array([1.93204555e+02, 3.73280000e+04, 1.39337958e+09])"
      ]
     },
     "execution_count": 70,
     "metadata": {},
     "output_type": "execute_result"
    }
   ],
   "source": [
    "diff_vec = np.array([math.sqrt(x_hat), x_hat, x_hat*x_hat])\n",
    "diff_vec"
   ]
  },
  {
   "cell_type": "code",
   "execution_count": 71,
   "metadata": {},
   "outputs": [
    {
     "data": {
      "text/plain": [
       "array([1.38658953e-07, 2.67895414e-05, 1.00000000e+00])"
      ]
     },
     "execution_count": 71,
     "metadata": {},
     "output_type": "execute_result"
    }
   ],
   "source": [
    "diff_vec_normalized = diff_vec / np.sqrt(np.sum(diff_vec**2))\n",
    "diff_vec_normalized"
   ]
  },
  {
   "cell_type": "code",
   "execution_count": 73,
   "metadata": {},
   "outputs": [
    {
     "data": {
      "text/plain": [
       "1077"
      ]
     },
     "execution_count": 73,
     "metadata": {},
     "output_type": "execute_result"
    }
   ],
   "source": [
    "# Number of buses\n",
    "len(pd.unique(train_df['BUS_ID']))"
   ]
  },
  {
   "cell_type": "code",
   "execution_count": 74,
   "metadata": {},
   "outputs": [
    {
     "data": {
      "text/plain": [
       "108"
      ]
     },
     "execution_count": 74,
     "metadata": {},
     "output_type": "execute_result"
    }
   ],
   "source": [
    "# Number of routes\n",
    "len(pd.unique(train_df['BUSROUTE_ID']))"
   ]
  },
  {
   "cell_type": "code",
   "execution_count": 75,
   "metadata": {},
   "outputs": [
    {
     "data": {
      "text/plain": [
       "1014"
      ]
     },
     "execution_count": 75,
     "metadata": {},
     "output_type": "execute_result"
    }
   ],
   "source": [
    "# Number of bus stops\n",
    "len(pd.unique(train_df['BUSSTOP_ID']))"
   ]
  },
  {
   "cell_type": "code",
   "execution_count": 81,
   "metadata": {},
   "outputs": [],
   "source": [
    "def get_angles(pos, i, d_model):\n",
    "    angle_rates = 1 / np.power(10000, (2 * (i//2)) / np.float32(d_model))\n",
    "    return pos * angle_rates\n",
    "\n",
    "def positional_encoding(position, d_model):\n",
    "    angle_rads = get_angles(np.arange(position)[:, np.newaxis],\n",
    "                          np.arange(d_model)[np.newaxis, :],\n",
    "                          d_model)\n",
    "    # apply sin to even indices in the array; 2i\n",
    "    angle_rads[:, 0::2] = np.sin(angle_rads[:, 0::2])\n",
    "    # apply cos to odd indices in the array; 2i+1\n",
    "    angle_rads[:, 1::2] = np.cos(angle_rads[:, 1::2])\n",
    "    pos_encoding = angle_rads[np.newaxis, ...]\n",
    "    return pos_encoding\n",
    "    #return tf.cast(pos_encoding, dtype=tf.float32)"
   ]
  },
  {
   "cell_type": "code",
   "execution_count": 78,
   "metadata": {},
   "outputs": [
    {
     "name": "stdout",
     "output_type": "stream",
     "text": [
      "Collecting matplotlib\n",
      "  Downloading matplotlib-3.2.0-cp37-cp37m-manylinux1_x86_64.whl (12.4 MB)\n",
      "\u001b[K     |████████████████████████████████| 12.4 MB 100 kB/s eta 0:00:01     |█████████████████████████████▉  | 11.6 MB 7.3 MB/s eta 0:00:01\n",
      "\u001b[?25hCollecting kiwisolver>=1.0.1\n",
      "  Using cached kiwisolver-1.1.0-cp37-cp37m-manylinux1_x86_64.whl (90 kB)\n",
      "Collecting cycler>=0.10\n",
      "  Using cached cycler-0.10.0-py2.py3-none-any.whl (6.5 kB)\n",
      "Collecting pyparsing!=2.0.4,!=2.1.2,!=2.1.6,>=2.0.1\n",
      "  Using cached pyparsing-2.4.6-py2.py3-none-any.whl (67 kB)\n",
      "Requirement already satisfied: python-dateutil>=2.1 in ./env/lib/python3.7/site-packages (from matplotlib) (2.8.1)\n",
      "Requirement already satisfied: numpy>=1.11 in ./env/lib/python3.7/site-packages (from matplotlib) (1.18.1)\n",
      "Requirement already satisfied: setuptools in ./env/lib/python3.7/site-packages (from kiwisolver>=1.0.1->matplotlib) (45.2.0)\n",
      "Requirement already satisfied: six in ./env/lib/python3.7/site-packages (from cycler>=0.10->matplotlib) (1.14.0)\n",
      "Installing collected packages: kiwisolver, cycler, pyparsing, matplotlib\n",
      "Successfully installed cycler-0.10.0 kiwisolver-1.1.0 matplotlib-3.2.0 pyparsing-2.4.6\n"
     ]
    }
   ],
   "source": [
    "!pip install matplotlib"
   ]
  },
  {
   "cell_type": "code",
   "execution_count": 84,
   "metadata": {},
   "outputs": [],
   "source": [
    "time_dim = 64"
   ]
  },
  {
   "cell_type": "code",
   "execution_count": 85,
   "metadata": {},
   "outputs": [
    {
     "name": "stdout",
     "output_type": "stream",
     "text": [
      "(1, 61200, 64)\n"
     ]
    }
   ],
   "source": [
    "total_seconds = 17*3600 # 17hours - 61200 seconds\n",
    "pos_encoding  = positional_encoding(total_seconds, time_dim)\n",
    "print (pos_encoding.shape)"
   ]
  },
  {
   "cell_type": "code",
   "execution_count": 86,
   "metadata": {},
   "outputs": [
    {
     "data": {
      "image/png": "[encoded data removed]",
      "text/plain": [
       "<Figure size 432x288 with 2 Axes>"
      ]
     },
     "metadata": {
      "needs_background": "light"
     },
     "output_type": "display_data"
    }
   ],
   "source": [
    "import matplotlib.pyplot as plt\n",
    "\n",
    "plt.pcolormesh(pos_encoding[0], cmap='RdBu')\n",
    "plt.xlabel('Depth')\n",
    "plt.xlim((0, time_dim))\n",
    "plt.ylabel('Position')\n",
    "plt.colorbar()\n",
    "plt.show()"
   ]
  },
  {
   "cell_type": "code",
   "execution_count": 92,
   "metadata": {},
   "outputs": [
    {
     "data": {
      "text/plain": [
       "(64,)"
      ]
     },
     "execution_count": 92,
     "metadata": {},
     "output_type": "execute_result"
    }
   ],
   "source": [
    "pos_encoding[0][0].shape"
   ]
  },
  {
   "cell_type": "code",
   "execution_count": 100,
   "metadata": {},
   "outputs": [
    {
     "data": {
      "text/plain": [
       "array([ 1.41120008e-01, -9.89992497e-01,  7.78272522e-01, -6.27926652e-01,\n",
       "        9.93253167e-01, -1.15966142e-01,  9.53634462e-01,  3.00967295e-01,\n",
       "        8.12648897e-01,  5.82753611e-01,  6.52904012e-01,  7.57440658e-01,\n",
       "        5.08536134e-01,  8.61040649e-01,  3.89470317e-01,  9.21039018e-01,\n",
       "        2.95520207e-01,  9.55336489e-01,  2.23075425e-01,  9.74801187e-01,\n",
       "        1.67903310e-01,  9.85803469e-01,  1.26171769e-01,  9.92008410e-01,\n",
       "        9.47260913e-02,  9.95503374e-01,  7.10812179e-02,  9.97470531e-01,\n",
       "        5.33230805e-02,  9.98577313e-01,  3.99949726e-02,  9.99199881e-01,\n",
       "        2.99955002e-02,  9.99550034e-01,  2.24949287e-02,  9.99746957e-01,\n",
       "        1.68694395e-02,  9.99857701e-01,  1.26505577e-02,  9.99919978e-01,\n",
       "        9.48669068e-03,  9.99955000e-01,  7.11406111e-03,  9.99974695e-01,\n",
       "        5.33481292e-03,  9.99985770e-01,  4.00055363e-03,  9.99991998e-01,\n",
       "        2.99999550e-03,  9.99995500e-01,  2.24968073e-03,  9.99997469e-01,\n",
       "        1.68702318e-03,  9.99998577e-01,  1.26508917e-03,  9.99999200e-01,\n",
       "        9.48683156e-04,  9.99999550e-01,  7.11412052e-04,  9.99999747e-01,\n",
       "        5.33483798e-04,  9.99999858e-01,  4.00056419e-04,  9.99999920e-01])"
      ]
     },
     "execution_count": 100,
     "metadata": {},
     "output_type": "execute_result"
    }
   ],
   "source": [
    "pos_encoding[0][3]"
   ]
  }
 ],
 "metadata": {
  "kernelspec": {
   "display_name": "Python 3",
   "language": "python",
   "name": "python3"
  },
  "language_info": {
   "codemirror_mode": {
    "name": "ipython",
    "version": 3
   },
   "file_extension": ".py",
   "mimetype": "text/x-python",
   "name": "python",
   "nbconvert_exporter": "python",
   "pygments_lexer": "ipython3",
   "version": "3.7.5"
  }
 },
 "nbformat": 4,
 "nbformat_minor": 4
}
