{
 "cells": [
  {
   "cell_type": "code",
   "execution_count": 1,
   "metadata": {},
   "outputs": [],
   "source": [
    "import pandas as pd\n",
    "import numpy as np\n",
    "from sklearn import preprocessing\n",
    "import pickle"
   ]
  },
  {
   "cell_type": "code",
   "execution_count": 2,
   "metadata": {},
   "outputs": [],
   "source": [
    "# датасетээ унших\n",
    "\n",
    "train_df  = pd.read_csv(\"./data/training.csv\")\n",
    "routes_df = pd.read_csv(\"./data/routes.csv\")\n",
    "stop_df   = pd.read_csv(\"./data/stops.csv\")"
   ]
  },
  {
   "cell_type": "code",
   "execution_count": 3,
   "metadata": {},
   "outputs": [],
   "source": [
    "# ялгаатай id жагсаалтуудыг бэлтгэх\n",
    "\n",
    "route_list = routes_df['BUSROUTE_ID'].unique()\n",
    "stop_list  = stop_df['BUSSTOP_ID'].unique()\n",
    "bus_list   = train_df['BUS_ID'].unique()"
   ]
  },
  {
   "cell_type": "code",
   "execution_count": 4,
   "metadata": {},
   "outputs": [],
   "source": [
    "# Автобусны явсан дарааллын дагуу эрэмбэлнэ\n",
    "\n",
    "train_df = train_df.sort_values(by=['BUS_ID', 'TIMESTAMP'])"
   ]
  },
  {
   "cell_type": "code",
   "execution_count": 5,
   "metadata": {},
   "outputs": [],
   "source": [
    "# Автус өмнөх буудлаасаа хэдэн секунд задцуулж ирснийг TIMESTAMP_DIFF дээр тэмдэглэж үлдэнэ\n",
    "# Энэ баганыг моделын таамаглах утга болгож ашиглана. \n",
    "\n",
    "train_df['TIMESTAMP_DIFF'] = train_df['TIMESTAMP'].shift(-1) - train_df['TIMESTAMP']"
   ]
  },
  {
   "cell_type": "code",
   "execution_count": 6,
   "metadata": {},
   "outputs": [],
   "source": [
    "# Буудал алгассан тохиолдол болон route-ийн эхлэлийн зогсоолуудыг хасалт хийж цэвэрлэнэ\n",
    "\n",
    "train_df['SEQ_DIFF'   ] = train_df['BUSSTOP_SEQ'].shift(-1) - train_df['BUSSTOP_SEQ']\n",
    "train_df['ROUTE_DIFF' ] = train_df['BUSROUTE_ID'].shift(-1) - train_df['BUSROUTE_ID']\n",
    "train_df['BUS_ID_DIFF'] = train_df['BUS_ID'].shift(-1) - train_df['BUS_ID']\n",
    "\n",
    "train_df = train_df[train_df['SEQ_DIFF'   ]==1]\n",
    "train_df = train_df[train_df['ROUTE_DIFF' ]==0]\n",
    "train_df = train_df[train_df['BUS_ID_DIFF']==0]"
   ]
  },
  {
   "cell_type": "code",
   "execution_count": 7,
   "metadata": {},
   "outputs": [],
   "source": [
    "# BUS_ID, BUSROUTE_ID, BUSSTOP_ID багануудыг 0-оос N хүртэл шинээр дугаарлаж бэлдэнэ.\n",
    "\n",
    "# bus id encoding\n",
    "bus_id_encoder = preprocessing.LabelEncoder()\n",
    "bus_id_encoder.fit(bus_list)\n",
    "train_df.BUS_ID = bus_id_encoder.transform(train_df.BUS_ID)\n",
    "# bus_id_encoder.transform([145010001, 235501055])\n",
    "# bus_id_encoder.inverse_transform([280, 466])\n",
    "\n",
    "# route id encoding\n",
    "route_id_encoder = preprocessing.LabelEncoder()\n",
    "route_id_encoder.fit(route_list)\n",
    "train_df.BUSROUTE_ID = route_id_encoder.transform(train_df.BUSROUTE_ID)\n",
    "\n",
    "# stop id encoding\n",
    "stop_id_encoder = preprocessing.LabelEncoder()\n",
    "stop_id_encoder.fit(stop_list)\n",
    "train_df.BUSSTOP_ID = stop_id_encoder.transform(train_df.BUSSTOP_ID)"
   ]
  },
  {
   "cell_type": "code",
   "execution_count": 8,
   "metadata": {},
   "outputs": [],
   "source": [
    "# Дараа нь Тэст дата дээр ашиглах учраас encoder-уудаа хадгалж үлдэнэ.\n",
    "\n",
    "pickle.dump(bus_id_encoder  , open(\"./out/bus_id_encoder.pickle\"    , \"wb\"))\n",
    "pickle.dump(route_id_encoder, open(\"./out/route_id_encoder.pickle\"  , \"wb\"))\n",
    "pickle.dump(stop_id_encoder , open(\"./out/busstop_id_encoder.pickle\", \"wb\"))"
   ]
  },
  {
   "cell_type": "code",
   "execution_count": 9,
   "metadata": {},
   "outputs": [],
   "source": [
    "# DAY_OF_WEEK-д хэддэх өдөр болохыг тэмдэглэнэ\n",
    "\n",
    "train_df['DAY_OF_WEEK'] = pd.to_datetime(train_df['RECORD_DATE']).dt.dayofweek"
   ]
  },
  {
   "cell_type": "code",
   "execution_count": 10,
   "metadata": {},
   "outputs": [],
   "source": [
    "# time validation (valid time is 06:00:00 ~ 23:59:59)\n",
    "# Шөнийн 00 цагаас өглөөний 6 цаг хүртэлх датаг автус хуваарийн дагуу яваагүй гэж үзээд хассан \n",
    "\n",
    "starting_time = 21600 # 06:00:00\n",
    "train_df['TIME_validation'] = train_df['TIMESTAMP'] % 86400\n",
    "train_df = train_df[train_df['TIME_validation']>=starting_time]"
   ]
  },
  {
   "cell_type": "code",
   "execution_count": 11,
   "metadata": {},
   "outputs": [],
   "source": [
    "# encodeing time\n",
    "# Тухайн өдрийн хэддэх секунд вэ гэдгийг TIME дээр тэмдэглэнэ.\n",
    "# TIME тооцохдоо 6AM-ээс өдөр эхэлдэг гэж тооцсон\n",
    "\n",
    "train_df['TIME'] = (train_df['TIMESTAMP'] - starting_time) % 86400"
   ]
  },
  {
   "cell_type": "code",
   "execution_count": 12,
   "metadata": {},
   "outputs": [],
   "source": [
    "# 1 буудал явах хугацаа 2000 секундээс их бол автус эвдэрсэн эсвэл түр зогсолт хийсэн гэж үзээд хассан\n",
    "\n",
    "train_df = train_df[(train_df['TIMESTAMP_DIFF']<2000)]"
   ]
  },
  {
   "cell_type": "code",
   "execution_count": 13,
   "metadata": {},
   "outputs": [
    {
     "data": {
      "text/html": [
       "<div>\n",
       "<style scoped>\n",
       "    .dataframe tbody tr th:only-of-type {\n",
       "        vertical-align: middle;\n",
       "    }\n",
       "\n",
       "    .dataframe tbody tr th {\n",
       "        vertical-align: top;\n",
       "    }\n",
       "\n",
       "    .dataframe thead th {\n",
       "        text-align: right;\n",
       "    }\n",
       "</style>\n",
       "<table border=\"1\" class=\"dataframe\">\n",
       "  <thead>\n",
       "    <tr style=\"text-align: right;\">\n",
       "      <th></th>\n",
       "      <th>index</th>\n",
       "      <th>RECORD_DATE</th>\n",
       "      <th>BUS_ID</th>\n",
       "      <th>BUSROUTE_ID</th>\n",
       "      <th>BUSSTOP_ID</th>\n",
       "      <th>BUSSTOP_SEQ</th>\n",
       "      <th>TIMESTAMP</th>\n",
       "      <th>TIMESTAMP_DIFF</th>\n",
       "      <th>SEQ_DIFF</th>\n",
       "      <th>ROUTE_DIFF</th>\n",
       "      <th>BUS_ID_DIFF</th>\n",
       "      <th>DAY_OF_WEEK</th>\n",
       "      <th>TIME_validation</th>\n",
       "      <th>TIME</th>\n",
       "    </tr>\n",
       "  </thead>\n",
       "  <tbody>\n",
       "    <tr>\n",
       "      <th>1624542</th>\n",
       "      <td>1624542</td>\n",
       "      <td>2020-01-13 07:28:25</td>\n",
       "      <td>0</td>\n",
       "      <td>3</td>\n",
       "      <td>17</td>\n",
       "      <td>2</td>\n",
       "      <td>1578900505</td>\n",
       "      <td>117.0</td>\n",
       "      <td>1.0</td>\n",
       "      <td>0.0</td>\n",
       "      <td>0.0</td>\n",
       "      <td>0</td>\n",
       "      <td>26905</td>\n",
       "      <td>5305</td>\n",
       "    </tr>\n",
       "    <tr>\n",
       "      <th>1625151</th>\n",
       "      <td>1625151</td>\n",
       "      <td>2020-01-13 07:30:22</td>\n",
       "      <td>0</td>\n",
       "      <td>3</td>\n",
       "      <td>10</td>\n",
       "      <td>3</td>\n",
       "      <td>1578900622</td>\n",
       "      <td>123.0</td>\n",
       "      <td>1.0</td>\n",
       "      <td>0.0</td>\n",
       "      <td>0.0</td>\n",
       "      <td>0</td>\n",
       "      <td>27022</td>\n",
       "      <td>5422</td>\n",
       "    </tr>\n",
       "    <tr>\n",
       "      <th>1625791</th>\n",
       "      <td>1625791</td>\n",
       "      <td>2020-01-13 07:32:25</td>\n",
       "      <td>0</td>\n",
       "      <td>3</td>\n",
       "      <td>8</td>\n",
       "      <td>4</td>\n",
       "      <td>1578900745</td>\n",
       "      <td>121.0</td>\n",
       "      <td>1.0</td>\n",
       "      <td>0.0</td>\n",
       "      <td>0.0</td>\n",
       "      <td>0</td>\n",
       "      <td>27145</td>\n",
       "      <td>5545</td>\n",
       "    </tr>\n",
       "    <tr>\n",
       "      <th>1626425</th>\n",
       "      <td>1626425</td>\n",
       "      <td>2020-01-13 07:34:26</td>\n",
       "      <td>0</td>\n",
       "      <td>3</td>\n",
       "      <td>5</td>\n",
       "      <td>5</td>\n",
       "      <td>1578900866</td>\n",
       "      <td>136.0</td>\n",
       "      <td>1.0</td>\n",
       "      <td>0.0</td>\n",
       "      <td>0.0</td>\n",
       "      <td>0</td>\n",
       "      <td>27266</td>\n",
       "      <td>5666</td>\n",
       "    </tr>\n",
       "    <tr>\n",
       "      <th>1627161</th>\n",
       "      <td>1627161</td>\n",
       "      <td>2020-01-13 07:36:42</td>\n",
       "      <td>0</td>\n",
       "      <td>3</td>\n",
       "      <td>3</td>\n",
       "      <td>6</td>\n",
       "      <td>1578901002</td>\n",
       "      <td>174.0</td>\n",
       "      <td>1.0</td>\n",
       "      <td>0.0</td>\n",
       "      <td>0.0</td>\n",
       "      <td>0</td>\n",
       "      <td>27402</td>\n",
       "      <td>5802</td>\n",
       "    </tr>\n",
       "  </tbody>\n",
       "</table>\n",
       "</div>"
      ],
      "text/plain": [
       "           index          RECORD_DATE  BUS_ID  BUSROUTE_ID  BUSSTOP_ID  \\\n",
       "1624542  1624542  2020-01-13 07:28:25       0            3          17   \n",
       "1625151  1625151  2020-01-13 07:30:22       0            3          10   \n",
       "1625791  1625791  2020-01-13 07:32:25       0            3           8   \n",
       "1626425  1626425  2020-01-13 07:34:26       0            3           5   \n",
       "1627161  1627161  2020-01-13 07:36:42       0            3           3   \n",
       "\n",
       "         BUSSTOP_SEQ   TIMESTAMP  TIMESTAMP_DIFF  SEQ_DIFF  ROUTE_DIFF  \\\n",
       "1624542            2  1578900505           117.0       1.0         0.0   \n",
       "1625151            3  1578900622           123.0       1.0         0.0   \n",
       "1625791            4  1578900745           121.0       1.0         0.0   \n",
       "1626425            5  1578900866           136.0       1.0         0.0   \n",
       "1627161            6  1578901002           174.0       1.0         0.0   \n",
       "\n",
       "         BUS_ID_DIFF  DAY_OF_WEEK  TIME_validation  TIME  \n",
       "1624542          0.0            0            26905  5305  \n",
       "1625151          0.0            0            27022  5422  \n",
       "1625791          0.0            0            27145  5545  \n",
       "1626425          0.0            0            27266  5666  \n",
       "1627161          0.0            0            27402  5802  "
      ]
     },
     "execution_count": 13,
     "metadata": {},
     "output_type": "execute_result"
    }
   ],
   "source": [
    "train_df.head()"
   ]
  },
  {
   "cell_type": "code",
   "execution_count": 14,
   "metadata": {},
   "outputs": [],
   "source": [
    "# saving cleaned data\n",
    "\n",
    "output_df = train_df[[\"DAY_OF_WEEK\", \"TIME\", \"BUS_ID\", \"BUSROUTE_ID\", \"BUSSTOP_ID\", \"TIMESTAMP_DIFF\"]]\n",
    "output_df.to_csv('./out/cleaned_train.csv', index = False)"
   ]
  },
  {
   "cell_type": "code",
   "execution_count": null,
   "metadata": {},
   "outputs": [],
   "source": []
  }
 ],
 "metadata": {
  "kernelspec": {
   "display_name": "Python 3",
   "language": "python",
   "name": "python3"
  },
  "language_info": {
   "codemirror_mode": {
    "name": "ipython",
    "version": 3
   },
   "file_extension": ".py",
   "mimetype": "text/x-python",
   "name": "python",
   "nbconvert_exporter": "python",
   "pygments_lexer": "ipython3",
   "version": "3.7.5"
  }
 },
 "nbformat": 4,
 "nbformat_minor": 4
}
