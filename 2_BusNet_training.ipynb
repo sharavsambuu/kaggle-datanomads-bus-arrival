{
 "cells": [
  {
   "cell_type": "markdown",
   "metadata": {
    "colab_type": "text",
    "id": "pSFMlScM--Kg"
   },
   "source": [
    "Author: TeamJuice: Zolbayar, Altangerel, Sharavsambuu\n",
    "\n",
    "About: Bus arrival prediction model training"
   ]
  },
  {
   "cell_type": "code",
   "execution_count": 0,
   "metadata": {
    "colab": {
     "base_uri": "https://localhost:8080/",
     "height": 122
    },
    "colab_type": "code",
    "id": "Xk_jDvCzZcBo",
    "outputId": "de95da66-38e1-4d8d-c59d-75b4fad04988"
   },
   "outputs": [
    {
     "name": "stdout",
     "output_type": "stream",
     "text": [
      "Go to this URL in a browser: https://accounts.google.com/o/oauth2/auth?client_id=947318989803-6bn6qk8qdgf4n4g3pfee6491hc0brc4i.apps.googleusercontent.com&redirect_uri=urn%3aietf%3awg%3aoauth%3a2.0%3aoob&response_type=code&scope=email%20https%3a%2f%2fwww.googleapis.com%2fauth%2fdocs.test%20https%3a%2f%2fwww.googleapis.com%2fauth%2fdrive%20https%3a%2f%2fwww.googleapis.com%2fauth%2fdrive.photos.readonly%20https%3a%2f%2fwww.googleapis.com%2fauth%2fpeopleapi.readonly\n",
      "\n",
      "Enter your authorization code:\n",
      "··········\n",
      "Mounted at /content/drive\n"
     ]
    }
   ],
   "source": [
    "from google.colab import drive\n",
    "drive.mount('/content/drive')"
   ]
  },
  {
   "cell_type": "code",
   "execution_count": 0,
   "metadata": {
    "colab": {
     "base_uri": "https://localhost:8080/",
     "height": 34
    },
    "colab_type": "code",
    "id": "3zqEdx7t-5Cz",
    "outputId": "22deab8a-9b32-4bda-d3c1-2f81622482a8"
   },
   "outputs": [
    {
     "data": {
      "text/plain": [
       "'2.2.0-rc1'"
      ]
     },
     "execution_count": 2,
     "metadata": {
      "tags": []
     },
     "output_type": "execute_result"
    }
   ],
   "source": [
    "%tensorflow_version 2.x\n",
    "import tensorflow as tf\n",
    "tf.__version__"
   ]
  },
  {
   "cell_type": "code",
   "execution_count": 0,
   "metadata": {
    "colab": {},
    "colab_type": "code",
    "id": "xVqyd3Rc_cUy"
   },
   "outputs": [],
   "source": [
    "import numpy as np\n",
    "import pandas as pd\n",
    "import matplotlib.pyplot as plt\n",
    "import pickle"
   ]
  },
  {
   "cell_type": "code",
   "execution_count": 0,
   "metadata": {
    "colab": {
     "base_uri": "https://localhost:8080/",
     "height": 68
    },
    "colab_type": "code",
    "id": "wDQgsKvMcqQm",
    "outputId": "fd5a3e3e-8bfd-4970-faf8-01a33d27a0d6"
   },
   "outputs": [
    {
     "name": "stdout",
     "output_type": "stream",
     "text": [
      "bus_id_encoder.pickle\t   cleaned_train.csv\t    training.csv\n",
      "busstop_id_encoder.pickle  route_id_encoder.pickle\n",
      "checkpoints\t\t   test.csv\n"
     ]
    }
   ],
   "source": [
    "!ls /content/drive/My\\ Drive/ML\\ Datasets/kaggle/datanomads_busarrival/"
   ]
  },
  {
   "cell_type": "code",
   "execution_count": 0,
   "metadata": {
    "colab": {},
    "colab_type": "code",
    "id": "cWpGcEYJdMaQ"
   },
   "outputs": [],
   "source": [
    "# Data cleansing буюу шаардлагатай feature-уудыг бэлтгэх notebook-ээс гаргасан csv файлыг машин сургалтанд хэрэглэнэ\n",
    "train_df = pd.read_csv(\"/content/drive/My Drive/ML Datasets/kaggle/datanomads_busarrival/cleaned_train.csv\")"
   ]
  },
  {
   "cell_type": "code",
   "execution_count": 0,
   "metadata": {
    "colab": {},
    "colab_type": "code",
    "id": "anHjWI5Zh9p9"
   },
   "outputs": [],
   "source": [
    "\"\"\"\n",
    "Машин сургалтан хэрэглэх feature-үүд үүнд: \n",
    "- DAY_OF_WEEK : Долоо хоногийн хэд дэх өдөр вэ? [0-6]\n",
    "- TIME        : Өглөөний зургаан цагаас хойш хэдэн секунт өнгөрсөн байна\n",
    "- BUS_ID      : Ямар дугаартай автобус вэ\n",
    "- BUSROUTE_ID : Аль чиглэлд явж байгаа вэ\n",
    "- BUSSTOP_ID  : Энэ автобус аль зогсоол дээр байна\n",
    "\"\"\"\n",
    "train_input = train_df[['DAY_OF_WEEK', 'TIME', 'BUS_ID', 'BUSROUTE_ID', 'BUSSTOP_ID']]\n",
    "\n",
    "\"\"\"\n",
    "Prediction хийхдээ тухайн зогсоол дээр ирсэн автобус дараагийн зогсоол хүртлээ \n",
    "хэдэн секунт явах вэ гэдгийг илтгэсэн багана ашиглана\n",
    "\"\"\"\n",
    "train_label = train_df[['TIMESTAMP_DIFF']]"
   ]
  },
  {
   "cell_type": "code",
   "execution_count": 0,
   "metadata": {
    "colab": {},
    "colab_type": "code",
    "id": "9kKp4aH1imfy"
   },
   "outputs": [],
   "source": [
    "# Tensorflow-т машин сургалтын өгөгдлийг batch-аар авахад хэрэглэхээр хувиргах\n",
    "training_dataset = (\n",
    "    tf.data.Dataset.from_tensor_slices(\n",
    "        (\n",
    "            tf.cast(train_input.values, tf.int32),\n",
    "            tf.cast(train_label.values, tf.float32)\n",
    "        )\n",
    "    )\n",
    ")"
   ]
  },
  {
   "cell_type": "code",
   "execution_count": 0,
   "metadata": {
    "colab": {},
    "colab_type": "code",
    "id": "NJneQLif_t9L"
   },
   "outputs": [],
   "source": [
    "\"\"\"\n",
    "Positional encoding буюу ямар нэгэн байрлалын дугаарыг давтагдашгүй вектороор \n",
    "илэрхийлэх, үүнийг өглөөний 6-н цагаас хойш хэдэн секунт өнгөрсөн байна гэдэг\n",
    "дээр хэрэглэнэ. \n",
    "Transformer моделийн кодноос шууд авч хэрэглэсэн.\n",
    "https://www.tensorflow.org/tutorials/text/transformer#positional_encoding\n",
    "\"\"\"\"\n",
    "def get_angles(pos, i, d_model):\n",
    "  angle_rates = 1 / np.power(10000, (2 * (i//2)) / np.float32(d_model))\n",
    "  return pos * angle_rates\n",
    "\n",
    "def positional_encoding(position, d_model):\n",
    "  angle_rads = get_angles(np.arange(position)[:, np.newaxis],\n",
    "                        np.arange(d_model)[np.newaxis, :],\n",
    "                        d_model)\n",
    "  angle_rads[:, 0::2] = np.sin(angle_rads[:, 0::2])\n",
    "  angle_rads[:, 1::2] = np.cos(angle_rads[:, 1::2])\n",
    "  pos_encoding = angle_rads[np.newaxis, ...]\n",
    "  return tf.cast(pos_encoding, dtype=tf.float32)"
   ]
  },
  {
   "cell_type": "code",
   "execution_count": 0,
   "metadata": {
    "colab": {
     "base_uri": "https://localhost:8080/",
     "height": 34
    },
    "colab_type": "code",
    "id": "X2Gvq4qeA8Yd",
    "outputId": "6285e3da-7711-4d87-9861-0555f39617fa"
   },
   "outputs": [
    {
     "name": "stdout",
     "output_type": "stream",
     "text": [
      "(1, 64800, 64)\n"
     ]
    }
   ],
   "source": [
    "\"\"\"\n",
    "Өглөөний 6-н цагаас оройн 24 цаг хүртлэх 18-н цагуудын секунт тус бүрийг нийт\n",
    "18*3600=64800-н байрлал гэж үзээд байрлал тус 64-н dimension-тэй векторлуу буулгах туршилт\n",
    "\"\"\"\n",
    "time_dim      = 64\n",
    "total_seconds = 18*3600 # 18hours\n",
    "pos_encoding  = positional_encoding(total_seconds, time_dim)\n",
    "print(pos_encoding.shape)"
   ]
  },
  {
   "cell_type": "code",
   "execution_count": 0,
   "metadata": {
    "colab": {
     "base_uri": "https://localhost:8080/",
     "height": 283
    },
    "colab_type": "code",
    "id": "fyBfU6KxBFIh",
    "outputId": "4699381d-1740-4f2c-d3bc-bd1b1c25250a"
   },
   "outputs": [
    {
     "data": {
      "image/png": "[encoded data removed]",
      "text/plain": [
       "<Figure size 432x288 with 2 Axes>"
      ]
     },
     "metadata": {
      "tags": []
     },
     "output_type": "display_data"
    }
   ],
   "source": [
    "# Үүсгэсэн байрлалын векторуудыг зурж харах\n",
    "plt.pcolormesh(pos_encoding[0], cmap='RdBu')\n",
    "plt.xlabel('Depth')\n",
    "plt.xlim((0, time_dim))\n",
    "plt.ylabel('Position')\n",
    "plt.colorbar()\n",
    "plt.show()"
   ]
  },
  {
   "cell_type": "code",
   "execution_count": 0,
   "metadata": {
    "colab": {},
    "colab_type": "code",
    "id": "-KTrCHXXCvxP"
   },
   "outputs": [],
   "source": [
    "# Дараагийн автобусны буудал хүртэл хэдэн секунт явах вэ гэдгийг таамаглах модель\n",
    "class BusNet(tf.keras.Model):\n",
    "  def __init__(self, **kwargs):\n",
    "    super(BusNet, self).__init__(**kwargs)\n",
    "    \n",
    "    self.week          = [0, 1, 2, 3, 4, 5, 6] # Долоо хоногийн өдрүүдийн давтагдашгүй дугаар\n",
    "    self.time_dim      = 64                    # 6-н цагаас хойшхи секунтын байрлалыг илэрхийлэх векторын dimension\n",
    "    self.time_count    = 18*3600               # 6-н цагаас хойш оройн 24-н цаг хүртэл илэрхийлэгдэх нийт секунтуудын тоо\n",
    "\n",
    "    self.bus_dim       = 32                    # Автобусыг илэрхийлэх векторын dimension\n",
    "    self.bus_count     = 1077                  # Нийт сургалтанд хэрэглэгдэх давтагдашгүй автобуснуудын тоо\n",
    "\n",
    "    self.route_dim     = 16                    # Автобусны чиглэлийг илэрхийлэх векторын dimension\n",
    "    self.route_count   = 353                   # Автобусны чиглэлийн тоо\n",
    "\n",
    "    self.busstop_dim   = 32                    # Автобусны зогсоолыг илэрхийлэх векторын dimension\n",
    "    self.busstop_count = 1357                  # Автобусны зогсоолын тоо\n",
    "    \n",
    "    self.dropout_rate  = 0.2                   # Моделио generalize хийхэд хэрэглэх dropout rate, тухайн layer-т байгаа\n",
    "                                               # неорон холбоосуудын 0.2-г нь тэглэх буюу холбоосыг тайрч хаяна.\n",
    "\n",
    "    # Долоо хоногийн өдрийн дугаарыг one encoding илэрхийллээр векторлуу буулгах\n",
    "    self.day_of_week_embedding = tf.one_hot(self.week, len(self.week))\n",
    "    # Positional encoding аргаар өглөөний 6-н цагаас хойшхи нийт байгаа секунтуудыг векторлуу буулгах хүснэг үүсгэх\n",
    "    self.time_embedding        = positional_encoding(self.time_count, self.time_dim)\n",
    "    \n",
    "    # Embedding layer нь эхний утгуудаар цэнэглэгдэх боловч машин сургалтын явцад gradient update хийгдэж\n",
    "    # хамгийн оптимал векторуудруу буулгагдан шинэчлэгдэнэ\n",
    "\n",
    "    # Автобусыг илэрхийлэх векторуудын хүснэгтийг uniform утгуудаар дүүргэж цэнэглэх\n",
    "    self.bus_embedding         = tf.keras.layers.Embedding(self.bus_count    , self.bus_dim    , embeddings_initializer='uniform', name='bus_embedding'    )\n",
    "    # Автобусны чиглэлийг илэрхийлэх векторуудын хүснэгтийг эхний утгуудаар дүүргэж цэнэглэх\n",
    "    self.route_embedding       = tf.keras.layers.Embedding(self.route_count  , self.route_dim  , embeddings_initializer='uniform', name='route_embedding'  )\n",
    "    # Автобусны зогсоолыг илэрхийлэх векторуудын хүснэгтийг мөн дүүргэж цэнэглэх\n",
    "    self.busstop_embedding     = tf.keras.layers.Embedding(self.busstop_count, self.busstop_dim, embeddings_initializer='uniform', name='busstop_embedding')\n",
    "\n",
    "    # өмнөх layer-ээс буцаасан векторыг dimension нь 100 бүхий векторлуу буулгах давхарга\n",
    "    self.layer_1      = tf.keras.layers.Dense(100, activation='relu')\n",
    "    # эхний layer дээр хэрэглэх dropout\n",
    "    self.dropout_1    = tf.keras.layers.Dropout(self.dropout_rate)\n",
    "    # 64-н dimension лүү буулгах давхарга\n",
    "    self.layer_2      = tf.keras.layers.Dense(64 , activation='relu')\n",
    "    # 2-р давхарга дээр хэрэглэх dropout\n",
    "    self.dropout_2    = tf.keras.layers.Dropout(self.dropout_rate)\n",
    "    # 32 dimension лүү буулгах давхарга\n",
    "    self.layer_3      = tf.keras.layers.Dense(32 , activation='relu')\n",
    "    # 3-р layer дээр хэрэглэх dropout\n",
    "    self.dropout_3    = tf.keras.layers.Dropout(self.dropout_rate)\n",
    "    # Сүүлийн үр дүн болох dimension нь 1 буюу ганц scalar утга predict хийх layer  \n",
    "    self.output_layer = tf.keras.layers.Dense(1)\n",
    "\n",
    "  def call(self, inputs, training=True):\n",
    "    days_of_week   = inputs[:, 0] # batch өгөгдлөөс 7 хоногийн өдрүүдийн цувааг авах\n",
    "    time_positions = inputs[:, 1] # batch-аас 6-н цагаас хойшхи секунтын байрлалуудын цувааг авах\n",
    "    bus_ids        = inputs[:, 2] # batch-аас автобуснуудын жагсаалтуудыг авах\n",
    "    route_ids      = inputs[:, 3] # batch-аас чиглэлүүдийн дугааруудын цувааг авах\n",
    "    busstop_ids    = inputs[:, 4] # batch-аас автобусны жагсаалтуудын цувааг авах\n",
    "\n",
    "    # Долоо хоногийн өдрүүдийн дугаарт харгалзах one-hot вектор илэрхийллүүдийг авах\n",
    "    day_vectors     = tf.convert_to_tensor([self.day_of_week_embedding[day] for day in days_of_week])\n",
    "    # Өглөөний 6-н цагаас хойш өнгөрсөн секунтэд харгалзах байрлалын вектор илэрхийллүүдийн цувааг авах\n",
    "    time_vectors    = tf.convert_to_tensor([self.time_embedding[:, time_pos, :][0] for time_pos in time_positions], dtype=tf.float32)\n",
    "    # Энэ классын байгуулагч функц дээр цэнэглэгдсэн embedding давхаргаас автосны ID-д харгалзах векторуудыг авах\n",
    "    bus_vectors     = self.bus_embedding(bus_ids)\n",
    "    # Автобусны зогсоолд харгалзах векторуудын цувааг embedding хүснэгтээс авах\n",
    "    route_vectors   = self.route_embedding(route_ids)\n",
    "    # Автобусны зогсоолын ID-д харгалзах векторуудыг embedding хүснэгтээс авах\n",
    "    busstop_vectors = self.busstop_embedding(busstop_ids)\n",
    "    \n",
    "    # Вектор илэрхийлэлд орсон feature-үүдээ жагсаан өрж нэг том вектор болгох\n",
    "    # 1 гэсэн утга нь эдгээр нь batch хэлбэртэй байгаа учраас batch-ийн дагуу \n",
    "    # босоо тэнхлэгээр векторуудаа нэгтгэнэ гэдгийг илэрхийлнэ. Өөрөөр хэлбэл\n",
    "    # үр дүн мөн адил нэгтгэж өрсөн векторуудын batch байна гэсэн үг.\n",
    "    concatted_input = tf.concat([\n",
    "      day_vectors  ,\n",
    "      time_vectors , \n",
    "      bus_vectors  , \n",
    "      route_vectors, \n",
    "      busstop_vectors\n",
    "      ], 1)\n",
    "    \n",
    "    # Энд dropout давхарга дээр training төлөвөөр toggle-дох нь inference хийх\n",
    "    # үед неорон холбоосуудыг яг тэр сурсан байгаа чигээр нь ашиглах бололцоо олгоно\n",
    "    # зөвхөн машин сургалтын үед training төлвийг True болгож ашиглах хэрэгтэй.\n",
    "\n",
    "    # Нэгтгэлд орсон оролтын feature векторуудыг layer1 ээр оруулж dimension нь\n",
    "    # 100 бүхий шинэ векторуудын цуваануудруу буулгах\n",
    "    x = self.layer_1(concatted_input)\n",
    "    # layer1 дэх неорон холбоосуудыг 0.2-г санамсаргүйгээр сонгоод хайчилж хаях\n",
    "    # ингэснээр модель илүү ерөнхий байдлаар суралцаж overfit хийгдэхээс сэргийлнэ\n",
    "    x = self.dropout_1(x, training=training)\n",
    "    # layer1-ээс буцсан векторуудын цувааг layer2-оор оруулж 64-н dimension-тэй векторуудруу буулгах\n",
    "    x = self.layer_2(x)\n",
    "    # layer2 дээр dropout хэрэглэх\n",
    "    x = self.dropout_2(x, training=training)\n",
    "    # layer2-г 32 dimension-луу буулгах\n",
    "    x = self.layer_3(x)\n",
    "    # layer3 дээр dropout хэрэглэх\n",
    "    x = self.dropout_3(x, training=training)\n",
    "    # Эцсийн үр дүн буюу нэг автобусны зогсоолоос нөгөө автобусны зогсоол хүртэл\n",
    "    # зорчих хугацааг batch байдлаар буцаах\n",
    "    return self.output_layer(x)"
   ]
  },
  {
   "cell_type": "code",
   "execution_count": 0,
   "metadata": {
    "colab": {},
    "colab_type": "code",
    "id": "vqA6kMtGFnx0"
   },
   "outputs": [],
   "source": [
    "# BusNet моделио үүсгэх\n",
    "model = BusNet(dynamic=True)"
   ]
  },
  {
   "cell_type": "code",
   "execution_count": 0,
   "metadata": {
    "colab": {},
    "colab_type": "code",
    "id": "mKXApL-AUbFc"
   },
   "outputs": [],
   "source": [
    "# Неорон сүлжээ сургахад шаардлагатай туслах объектүүд.\n",
    "\n",
    "# Outlier буюу машин сургалтын датаны тархалтаас гадуурхи өгөгдлүүд дээр илүү\n",
    "# smooth ажилладаг гэдэг утгаар Huber loss тавьж хэрэглэв. MAE болон MSE хоёрын\n",
    "# сайн талуудыг хоёуланг нь агуулдаг гэж сонссон.\n",
    "loss_object    = tf.keras.losses.Huber()\n",
    "\n",
    "# Adam optimizer, неорон сүлжээ дотор суралцах weight-үүдийг шинэчлэхэд хэрэглэх\n",
    "# алгоритм. Өөр олон алгоритмууд бий боловч Adam нь илүү хурдан мөн accuracy өндөртэй.\n",
    "optimizer      = tf.keras.optimizers.Adam()\n",
    "\n",
    "# Тухайн batch өгөгдлүүд нь үндсэн true label-үүдтэй хэр зайтай байхыг хэмжихээр\n",
    "# хоорондын ялгаваруудын абсолют утгуудын дунджуудыг тооцдог объект\n",
    "train_loss     = tf.keras.metrics.Mean(name='train_loss')\n",
    "train_accuracy = tf.keras.metrics.MeanAbsoluteError(name='train_accuracy')\n",
    "\n",
    "# Моделийн сурсан байгаа жингүүдийг тогтмол хадгалах үүрэгтэй объектүүд\n",
    "# хамгийн сүүлийн 3-н checkpoint-үүдийг хадгалаад өмнөхүүдийг устгаж ажиллана\n",
    "ckpt    = tf.train.Checkpoint(step=tf.Variable(1), optimizer=optimizer, net=model)\n",
    "manager = tf.train.CheckpointManager(ckpt, '/content/drive/My Drive/ML Datasets/kaggle/datanomads_busarrival/checkpoints', max_to_keep=3)"
   ]
  },
  {
   "cell_type": "code",
   "execution_count": 0,
   "metadata": {
    "colab": {},
    "colab_type": "code",
    "id": "hqXsjrYgYAe5"
   },
   "outputs": [],
   "source": [
    "# batch бүхий сургалтын өгөгдлүүдийг модельрүү чихэж градиентүүд гаргаж аваад\n",
    "# неорон сүлжээний weight-үүдийг шинэчлэх үүрэгтэй функц. Товчоор машин сургах. \n",
    "def train_step(input_batch, label_batch):\n",
    "  with tf.GradientTape() as tape:\n",
    "    predictions = model(input_batch, training=True)\n",
    "    loss        = loss_object(label_batch, predictions)\n",
    "  gradients = tape.gradient(loss, model.trainable_variables)\n",
    "  optimizer.apply_gradients(zip(gradients, model.trainable_variables))\n",
    "\n",
    "  train_loss(loss)\n",
    "  train_accuracy(label_batch, predictions)"
   ]
  },
  {
   "cell_type": "code",
   "execution_count": 0,
   "metadata": {
    "colab": {
     "base_uri": "https://localhost:8080/",
     "height": 34
    },
    "colab_type": "code",
    "id": "SDe6AELBGOVr",
    "outputId": "db5c7217-8003-477b-e186-0235e641f0da"
   },
   "outputs": [
    {
     "name": "stdout",
     "output_type": "stream",
     "text": [
      "Restored from /content/drive/My Drive/ML Datasets/kaggle/datanomads_busarrival/checkpoints/ckpt-505\n"
     ]
    }
   ],
   "source": [
    "# Хамгийн сүүлд хадгалсан checkpoint-ийг сэргээх\n",
    "ckpt.restore(manager.latest_checkpoint)\n",
    "if manager.latest_checkpoint:\n",
    "  print(\"Restored from {}\".format(manager.latest_checkpoint))\n",
    "else:\n",
    "  print(\"Initializing from scratch.\")"
   ]
  },
  {
   "cell_type": "code",
   "execution_count": 0,
   "metadata": {
    "colab": {
     "base_uri": "https://localhost:8080/",
     "height": 1000
    },
    "colab_type": "code",
    "id": "x5fG3LCYlBn5",
    "outputId": "9d6b27f4-4409-4a3d-fcd4-0458dada8593"
   },
   "outputs": [
    {
     "name": "stdout",
     "output_type": "stream",
     "text": [
      "starting of epoch 0\n",
      "epoch: 0 step: 0 training loss 32.937862396240234 training accuracy 33.43063735961914\n",
      "epoch: 0 step: 200 training loss 37.31827926635742 training accuracy 37.81245803833008\n",
      "epoch: 0 step: 400 training loss 37.39413833618164 training accuracy 37.88839340209961\n",
      "epoch: 0 step: 600 training loss 37.44839859008789 training accuracy 37.942623138427734\n",
      "epoch: 0 step: 800 training loss 37.50531005859375 training accuracy 37.999488830566406\n",
      "epoch: 0 step: 1000 training loss 37.64931869506836 training accuracy 38.1434440612793\n",
      "epoch: 0 step: 1200 training loss 37.772674560546875 training accuracy 38.266754150390625\n",
      "epoch: 0 step: 1400 training loss 37.81902313232422 training accuracy 38.313148498535156\n",
      "Saved checkpoint for step 247500: /content/drive/My Drive/ML Datasets/kaggle/datanomads_busarrival/checkpoints/ckpt-506\n",
      "epoch: 0 step: 1600 training loss 37.75710678100586 training accuracy 38.25126266479492\n",
      "epoch: 0 step: 1800 training loss 37.75078582763672 training accuracy 38.244937896728516\n",
      "epoch: 0 step: 2000 training loss 37.72356414794922 training accuracy 38.2176513671875\n",
      "epoch: 0 step: 2200 training loss 37.7995719909668 training accuracy 38.293636322021484\n",
      "epoch: 0 step: 2400 training loss 37.771812438964844 training accuracy 38.26590347290039\n",
      "epoch: 0 step: 2600 training loss 37.772377014160156 training accuracy 38.26649475097656\n",
      "epoch: 0 step: 2800 training loss 37.79954528808594 training accuracy 38.29365158081055\n",
      "Saved checkpoint for step 249000: /content/drive/My Drive/ML Datasets/kaggle/datanomads_busarrival/checkpoints/ckpt-507\n",
      "epoch: 0 step: 3000 training loss 37.811798095703125 training accuracy 38.3058967590332\n",
      "epoch: 0 step: 3200 training loss 37.85206604003906 training accuracy 38.34620666503906\n",
      "epoch: 0 step: 3400 training loss 37.86842727661133 training accuracy 38.36252975463867\n",
      "epoch: 0 step: 3600 training loss 37.977081298828125 training accuracy 38.47124099731445\n",
      "epoch: 0 step: 3800 training loss 38.064632415771484 training accuracy 38.55879211425781\n",
      "epoch: 0 step: 4000 training loss 38.18263626098633 training accuracy 38.676822662353516\n",
      "epoch: 0 step: 4200 training loss 38.28944778442383 training accuracy 38.78364562988281\n",
      "epoch: 0 step: 4400 training loss 38.39680099487305 training accuracy 38.8909912109375\n",
      "Saved checkpoint for step 250500: /content/drive/My Drive/ML Datasets/kaggle/datanomads_busarrival/checkpoints/ckpt-508\n",
      "epoch: 0 step: 4600 training loss 38.509849548339844 training accuracy 39.00407791137695\n",
      "epoch: 0 step: 4800 training loss 38.63141632080078 training accuracy 39.12565231323242\n",
      "epoch: 0 step: 5000 training loss 38.74747085571289 training accuracy 39.24174880981445\n",
      "epoch: 0 step: 5200 training loss 38.86600112915039 training accuracy 39.360294342041016\n",
      "epoch: 0 step: 5400 training loss 38.95941162109375 training accuracy 39.453704833984375\n",
      "epoch: 0 step: 5600 training loss 39.07709884643555 training accuracy 39.5713996887207\n",
      "epoch: 0 step: 5800 training loss 39.20868682861328 training accuracy 39.7030143737793\n",
      "Saved checkpoint for step 252000: /content/drive/My Drive/ML Datasets/kaggle/datanomads_busarrival/checkpoints/ckpt-509\n",
      "epoch: 0 step: 6000 training loss 39.35641098022461 training accuracy 39.850765228271484\n",
      "epoch: 0 step: 6200 training loss 39.496761322021484 training accuracy 39.991146087646484\n",
      "epoch: 0 step: 6400 training loss 39.63847351074219 training accuracy 40.13285446166992\n",
      "epoch: 0 step: 6600 training loss 39.75620651245117 training accuracy 40.250633239746094\n",
      "epoch: 0 step: 6800 training loss 39.8629150390625 training accuracy 40.35736083984375\n",
      "epoch: 0 step: 7000 training loss 39.958221435546875 training accuracy 40.45269775390625\n",
      "epoch: 0 step: 7200 training loss 40.04092788696289 training accuracy 40.535438537597656\n",
      "epoch: 0 step: 7400 training loss 40.117164611816406 training accuracy 40.61171340942383\n",
      "Saved checkpoint for step 253500: /content/drive/My Drive/ML Datasets/kaggle/datanomads_busarrival/checkpoints/ckpt-510\n",
      "epoch: 0 step: 7600 training loss 40.190425872802734 training accuracy 40.684959411621094\n",
      "epoch: 0 step: 7800 training loss 40.27521896362305 training accuracy 40.76971435546875\n",
      "epoch: 0 step: 8000 training loss 40.353328704833984 training accuracy 40.84782028198242\n",
      "epoch: 0 step: 8200 training loss 40.40818405151367 training accuracy 40.90269088745117\n",
      "epoch: 0 step: 8400 training loss 40.46658706665039 training accuracy 40.96108627319336\n",
      "epoch: 0 step: 8600 training loss 40.52693176269531 training accuracy 41.02145004272461\n",
      "epoch: 0 step: 8800 training loss 40.58772659301758 training accuracy 41.082237243652344\n",
      "Saved checkpoint for step 255000: /content/drive/My Drive/ML Datasets/kaggle/datanomads_busarrival/checkpoints/ckpt-511\n",
      "epoch: 0 step: 9000 training loss 40.64664077758789 training accuracy 41.14116668701172\n",
      "epoch: 0 step: 9200 training loss 40.69538116455078 training accuracy 41.18991470336914\n",
      "epoch: 0 step: 9400 training loss 40.736209869384766 training accuracy 41.230735778808594\n",
      "epoch: 0 step: 9600 training loss 40.78759765625 training accuracy 41.2821159362793\n",
      "epoch: 0 step: 9800 training loss 40.83201217651367 training accuracy 41.32655715942383\n",
      "epoch: 0 step: 10000 training loss 40.86488723754883 training accuracy 41.359458923339844\n",
      "epoch: 0 step: 10200 training loss 40.92152786254883 training accuracy 41.416133880615234\n",
      "epoch: 0 step: 10400 training loss 40.97401809692383 training accuracy 41.46862030029297\n",
      "Saved checkpoint for step 256500: /content/drive/My Drive/ML Datasets/kaggle/datanomads_busarrival/checkpoints/ckpt-512\n",
      "epoch: 0 step: 10600 training loss 41.01390075683594 training accuracy 41.50849914550781\n",
      "epoch: 0 step: 10800 training loss 41.047306060791016 training accuracy 41.54191207885742\n",
      "epoch: 0 step: 11000 training loss 41.08561325073242 training accuracy 41.580223083496094\n",
      "epoch: 0 step: 11200 training loss 41.12291717529297 training accuracy 41.6175422668457\n",
      "epoch: 0 step: 11400 training loss 41.1465950012207 training accuracy 41.641239166259766\n",
      "epoch: 0 step: 11600 training loss 41.17635726928711 training accuracy 41.670997619628906\n",
      "epoch: 0 step: 11800 training loss 41.20551300048828 training accuracy 41.700157165527344\n",
      "Saved checkpoint for step 258000: /content/drive/My Drive/ML Datasets/kaggle/datanomads_busarrival/checkpoints/ckpt-513\n",
      "epoch: 0 step: 12000 training loss 41.23855209350586 training accuracy 41.73320388793945\n",
      "starting of epoch 1\n",
      "epoch: 1 step: 0 training loss 26.419580459594727 training accuracy 26.914575576782227\n",
      "epoch: 1 step: 200 training loss 36.90774917602539 training accuracy 37.40183639526367\n",
      "epoch: 1 step: 400 training loss 36.929195404052734 training accuracy 37.42325973510742\n",
      "epoch: 1 step: 600 training loss 36.896141052246094 training accuracy 37.39015579223633\n",
      "epoch: 1 step: 800 training loss 37.2340202331543 training accuracy 37.72808074951172\n",
      "epoch: 1 step: 1000 training loss 37.355838775634766 training accuracy 37.84983825683594\n",
      "epoch: 1 step: 1200 training loss 37.435237884521484 training accuracy 37.92921447753906\n",
      "Saved checkpoint for step 259500: /content/drive/My Drive/ML Datasets/kaggle/datanomads_busarrival/checkpoints/ckpt-514\n",
      "epoch: 1 step: 1400 training loss 37.50590896606445 training accuracy 37.99988555908203\n",
      "epoch: 1 step: 1600 training loss 37.4994010925293 training accuracy 37.99338912963867\n",
      "epoch: 1 step: 1800 training loss 37.45694351196289 training accuracy 37.950923919677734\n",
      "epoch: 1 step: 2000 training loss 37.37484359741211 training accuracy 37.86879348754883\n",
      "epoch: 1 step: 2200 training loss 37.46885681152344 training accuracy 37.96281051635742\n",
      "epoch: 1 step: 2400 training loss 37.52479934692383 training accuracy 38.0187873840332\n",
      "epoch: 1 step: 2600 training loss 37.56982421875 training accuracy 38.0638313293457\n",
      "epoch: 1 step: 2800 training loss 37.6157112121582 training accuracy 38.10975646972656\n",
      "Saved checkpoint for step 261000: /content/drive/My Drive/ML Datasets/kaggle/datanomads_busarrival/checkpoints/ckpt-515\n",
      "epoch: 1 step: 3000 training loss 37.63723373413086 training accuracy 38.131282806396484\n",
      "epoch: 1 step: 3200 training loss 37.70444107055664 training accuracy 38.198482513427734\n",
      "epoch: 1 step: 3400 training loss 37.7373161315918 training accuracy 38.231353759765625\n",
      "epoch: 1 step: 3600 training loss 37.828060150146484 training accuracy 38.322139739990234\n",
      "epoch: 1 step: 3800 training loss 37.92037582397461 training accuracy 38.41445541381836\n",
      "epoch: 1 step: 4000 training loss 38.02831268310547 training accuracy 38.52240753173828\n",
      "epoch: 1 step: 4200 training loss 38.16718673706055 training accuracy 38.66131591796875\n",
      "Saved checkpoint for step 262500: /content/drive/My Drive/ML Datasets/kaggle/datanomads_busarrival/checkpoints/ckpt-516\n",
      "epoch: 1 step: 4400 training loss 38.2794075012207 training accuracy 38.773582458496094\n",
      "epoch: 1 step: 4600 training loss 38.40017318725586 training accuracy 38.89434051513672\n",
      "epoch: 1 step: 4800 training loss 38.549434661865234 training accuracy 39.04360580444336\n",
      "epoch: 1 step: 5000 training loss 38.69467544555664 training accuracy 39.188873291015625\n",
      "epoch: 1 step: 5200 training loss 38.80718231201172 training accuracy 39.30141830444336\n",
      "epoch: 1 step: 5400 training loss 38.94243240356445 training accuracy 39.43666076660156\n",
      "epoch: 1 step: 5600 training loss 39.04951858520508 training accuracy 39.54375457763672\n",
      "epoch: 1 step: 5800 training loss 39.21903991699219 training accuracy 39.71326446533203\n",
      "Saved checkpoint for step 264000: /content/drive/My Drive/ML Datasets/kaggle/datanomads_busarrival/checkpoints/ckpt-517\n",
      "epoch: 1 step: 6000 training loss 39.355247497558594 training accuracy 39.849464416503906\n",
      "epoch: 1 step: 6200 training loss 39.51406478881836 training accuracy 40.00827407836914\n",
      "epoch: 1 step: 6400 training loss 39.6469612121582 training accuracy 40.141197204589844\n",
      "epoch: 1 step: 6600 training loss 39.76640319824219 training accuracy 40.26062774658203\n",
      "epoch: 1 step: 6800 training loss 39.867801666259766 training accuracy 40.362022399902344\n",
      "epoch: 1 step: 7000 training loss 39.97441864013672 training accuracy 40.4686393737793\n",
      "epoch: 1 step: 7200 training loss 40.053470611572266 training accuracy 40.547698974609375\n",
      "Saved checkpoint for step 265500: /content/drive/My Drive/ML Datasets/kaggle/datanomads_busarrival/checkpoints/ckpt-518\n",
      "epoch: 1 step: 7400 training loss 40.11320495605469 training accuracy 40.607460021972656\n",
      "epoch: 1 step: 7600 training loss 40.19453430175781 training accuracy 40.688804626464844\n",
      "epoch: 1 step: 7800 training loss 40.2408447265625 training accuracy 40.73513412475586\n",
      "epoch: 1 step: 8000 training loss 40.29045486450195 training accuracy 40.784786224365234\n",
      "epoch: 1 step: 8200 training loss 40.352996826171875 training accuracy 40.84731674194336\n",
      "epoch: 1 step: 8400 training loss 40.39775848388672 training accuracy 40.892093658447266\n",
      "epoch: 1 step: 8600 training loss 40.470001220703125 training accuracy 40.964351654052734\n",
      "epoch: 1 step: 8800 training loss 40.53754806518555 training accuracy 41.03190231323242\n",
      "Saved checkpoint for step 267000: /content/drive/My Drive/ML Datasets/kaggle/datanomads_busarrival/checkpoints/ckpt-519\n",
      "epoch: 1 step: 9000 training loss 40.59229278564453 training accuracy 41.08666229248047\n",
      "epoch: 1 step: 9200 training loss 40.66270065307617 training accuracy 41.15703582763672\n",
      "epoch: 1 step: 9400 training loss 40.70882797241211 training accuracy 41.20316696166992\n",
      "epoch: 1 step: 9600 training loss 40.76183319091797 training accuracy 41.25617599487305\n",
      "epoch: 1 step: 9800 training loss 40.80703353881836 training accuracy 41.30139923095703\n",
      "epoch: 1 step: 10000 training loss 40.84407043457031 training accuracy 41.33844757080078\n",
      "epoch: 1 step: 10200 training loss 40.88832473754883 training accuracy 41.38271713256836\n",
      "Saved checkpoint for step 268500: /content/drive/My Drive/ML Datasets/kaggle/datanomads_busarrival/checkpoints/ckpt-520\n",
      "epoch: 1 step: 10400 training loss 40.9270133972168 training accuracy 41.421424865722656\n",
      "epoch: 1 step: 10600 training loss 40.97115707397461 training accuracy 41.46561050415039\n",
      "epoch: 1 step: 10800 training loss 41.00346374511719 training accuracy 41.497928619384766\n",
      "epoch: 1 step: 11000 training loss 41.04136657714844 training accuracy 41.53585433959961\n",
      "epoch: 1 step: 11200 training loss 41.082210540771484 training accuracy 41.576717376708984\n",
      "epoch: 1 step: 11400 training loss 41.12321472167969 training accuracy 41.617713928222656\n",
      "epoch: 1 step: 11600 training loss 41.15885925292969 training accuracy 41.653385162353516\n",
      "epoch: 1 step: 11800 training loss 41.1743049621582 training accuracy 41.66881561279297\n",
      "Saved checkpoint for step 270000: /content/drive/My Drive/ML Datasets/kaggle/datanomads_busarrival/checkpoints/ckpt-521\n",
      "epoch: 1 step: 12000 training loss 41.194175720214844 training accuracy 41.688697814941406\n",
      "starting of epoch 2\n",
      "epoch: 2 step: 0 training loss 46.507144927978516 training accuracy 47.00292205810547\n",
      "epoch: 2 step: 200 training loss 37.27482986450195 training accuracy 37.768898010253906\n",
      "epoch: 2 step: 400 training loss 37.1523323059082 training accuracy 37.64635467529297\n",
      "epoch: 2 step: 600 training loss 37.24092483520508 training accuracy 37.73497772216797\n",
      "epoch: 2 step: 800 training loss 37.25144958496094 training accuracy 37.74554443359375\n",
      "epoch: 2 step: 1000 training loss 37.255374908447266 training accuracy 37.74951171875\n",
      "Saved checkpoint for step 271500: /content/drive/My Drive/ML Datasets/kaggle/datanomads_busarrival/checkpoints/ckpt-522\n",
      "epoch: 2 step: 1200 training loss 37.40924072265625 training accuracy 37.9034538269043\n",
      "epoch: 2 step: 1400 training loss 37.54392623901367 training accuracy 38.03815841674805\n",
      "epoch: 2 step: 1600 training loss 37.52920913696289 training accuracy 38.023414611816406\n",
      "epoch: 2 step: 1800 training loss 37.54155731201172 training accuracy 38.03579330444336\n",
      "epoch: 2 step: 2000 training loss 37.56137466430664 training accuracy 38.055641174316406\n",
      "epoch: 2 step: 2200 training loss 37.569725036621094 training accuracy 38.064002990722656\n",
      "epoch: 2 step: 2400 training loss 37.59393310546875 training accuracy 38.08820724487305\n",
      "epoch: 2 step: 2600 training loss 37.620635986328125 training accuracy 38.114933013916016\n",
      "Saved checkpoint for step 273000: /content/drive/My Drive/ML Datasets/kaggle/datanomads_busarrival/checkpoints/ckpt-523\n",
      "epoch: 2 step: 2800 training loss 37.66193389892578 training accuracy 38.15625\n",
      "epoch: 2 step: 3000 training loss 37.68506622314453 training accuracy 38.17938995361328\n",
      "epoch: 2 step: 3200 training loss 37.736732482910156 training accuracy 38.23102569580078\n",
      "epoch: 2 step: 3400 training loss 37.794769287109375 training accuracy 38.28907775878906\n",
      "epoch: 2 step: 3600 training loss 37.86920166015625 training accuracy 38.36351013183594\n",
      "epoch: 2 step: 3800 training loss 37.95042037963867 training accuracy 38.44475173950195\n",
      "epoch: 2 step: 4000 training loss 38.0146484375 training accuracy 38.509002685546875\n",
      "Saved checkpoint for step 274500: /content/drive/My Drive/ML Datasets/kaggle/datanomads_busarrival/checkpoints/ckpt-524\n",
      "epoch: 2 step: 4200 training loss 38.13007354736328 training accuracy 38.624454498291016\n",
      "epoch: 2 step: 4400 training loss 38.24686813354492 training accuracy 38.74126434326172\n",
      "epoch: 2 step: 4600 training loss 38.353424072265625 training accuracy 38.847835540771484\n",
      "epoch: 2 step: 4800 training loss 38.46510314941406 training accuracy 38.95951461791992\n",
      "epoch: 2 step: 5000 training loss 38.58319091796875 training accuracy 39.07757568359375\n",
      "epoch: 2 step: 5200 training loss 38.713993072509766 training accuracy 39.20840072631836\n",
      "epoch: 2 step: 5400 training loss 38.82958984375 training accuracy 39.3239860534668\n",
      "epoch: 2 step: 5600 training loss 38.95100021362305 training accuracy 39.445404052734375\n",
      "Saved checkpoint for step 276000: /content/drive/My Drive/ML Datasets/kaggle/datanomads_busarrival/checkpoints/ckpt-525\n",
      "epoch: 2 step: 5800 training loss 39.0917854309082 training accuracy 39.586185455322266\n",
      "epoch: 2 step: 6000 training loss 39.232486724853516 training accuracy 39.72691345214844\n",
      "epoch: 2 step: 6200 training loss 39.37849426269531 training accuracy 39.872947692871094\n",
      "epoch: 2 step: 6400 training loss 39.532371520996094 training accuracy 40.026851654052734\n",
      "epoch: 2 step: 6600 training loss 39.65499496459961 training accuracy 40.14949035644531\n",
      "epoch: 2 step: 6800 training loss 39.768035888671875 training accuracy 40.262535095214844\n",
      "epoch: 2 step: 7000 training loss 39.86701965332031 training accuracy 40.361549377441406\n",
      "Saved checkpoint for step 277500: /content/drive/My Drive/ML Datasets/kaggle/datanomads_busarrival/checkpoints/ckpt-526\n",
      "epoch: 2 step: 7200 training loss 39.93037414550781 training accuracy 40.42490005493164\n",
      "epoch: 2 step: 7400 training loss 39.998416900634766 training accuracy 40.49293899536133\n",
      "epoch: 2 step: 7600 training loss 40.082115173339844 training accuracy 40.57666778564453\n",
      "epoch: 2 step: 7800 training loss 40.16011047363281 training accuracy 40.654685974121094\n",
      "epoch: 2 step: 8000 training loss 40.22869873046875 training accuracy 40.7232780456543\n",
      "epoch: 2 step: 8200 training loss 40.28863525390625 training accuracy 40.78322982788086\n",
      "epoch: 2 step: 8400 training loss 40.33359909057617 training accuracy 40.82817077636719\n",
      "epoch: 2 step: 8600 training loss 40.38956069946289 training accuracy 40.8841438293457\n",
      "Saved checkpoint for step 279000: /content/drive/My Drive/ML Datasets/kaggle/datanomads_busarrival/checkpoints/ckpt-527\n",
      "epoch: 2 step: 8800 training loss 40.46146011352539 training accuracy 40.95603561401367\n",
      "epoch: 2 step: 9000 training loss 40.51778793334961 training accuracy 41.01236343383789\n",
      "epoch: 2 step: 9200 training loss 40.56341552734375 training accuracy 41.0579833984375\n",
      "epoch: 2 step: 9400 training loss 40.594337463378906 training accuracy 41.08890151977539\n",
      "epoch: 2 step: 9600 training loss 40.63418960571289 training accuracy 41.1287727355957\n",
      "epoch: 2 step: 9800 training loss 40.67738342285156 training accuracy 41.17197036743164\n",
      "epoch: 2 step: 10000 training loss 40.7238883972168 training accuracy 41.21845626831055\n",
      "Saved checkpoint for step 280500: /content/drive/My Drive/ML Datasets/kaggle/datanomads_busarrival/checkpoints/ckpt-528\n",
      "epoch: 2 step: 10200 training loss 40.77737808227539 training accuracy 41.27195739746094\n",
      "epoch: 2 step: 10400 training loss 40.82584762573242 training accuracy 41.320430755615234\n",
      "epoch: 2 step: 10600 training loss 40.87208557128906 training accuracy 41.36668395996094\n",
      "epoch: 2 step: 10800 training loss 40.89559555053711 training accuracy 41.39021682739258\n",
      "epoch: 2 step: 11000 training loss 40.93310546875 training accuracy 41.42771530151367\n",
      "epoch: 2 step: 11200 training loss 40.975765228271484 training accuracy 41.470375061035156\n",
      "epoch: 2 step: 11400 training loss 40.98925018310547 training accuracy 41.48386001586914\n",
      "epoch: 2 step: 11600 training loss 41.02647399902344 training accuracy 41.52109909057617\n",
      "Saved checkpoint for step 282000: /content/drive/My Drive/ML Datasets/kaggle/datanomads_busarrival/checkpoints/ckpt-529\n",
      "epoch: 2 step: 11800 training loss 41.0660400390625 training accuracy 41.5606689453125\n",
      "epoch: 2 step: 12000 training loss 41.100013732910156 training accuracy 41.594642639160156\n",
      "starting of epoch 3\n",
      "epoch: 3 step: 0 training loss 41.44660568237305 training accuracy 41.94272232055664\n",
      "epoch: 3 step: 200 training loss 36.86696243286133 training accuracy 37.360992431640625\n",
      "epoch: 3 step: 400 training loss 37.00680923461914 training accuracy 37.500797271728516\n",
      "epoch: 3 step: 600 training loss 37.156612396240234 training accuracy 37.65047836303711\n",
      "epoch: 3 step: 800 training loss 37.38068771362305 training accuracy 37.874610900878906\n",
      "epoch: 3 step: 1000 training loss 37.49565124511719 training accuracy 37.9896125793457\n",
      "Saved checkpoint for step 283500: /content/drive/My Drive/ML Datasets/kaggle/datanomads_busarrival/checkpoints/ckpt-530\n",
      "epoch: 3 step: 1200 training loss 37.61296844482422 training accuracy 38.10696029663086\n",
      "epoch: 3 step: 1400 training loss 37.573123931884766 training accuracy 38.06715393066406\n",
      "epoch: 3 step: 1600 training loss 37.6091423034668 training accuracy 38.10316467285156\n",
      "epoch: 3 step: 1800 training loss 37.63125228881836 training accuracy 38.125308990478516\n",
      "epoch: 3 step: 2000 training loss 37.6164665222168 training accuracy 38.110530853271484\n",
      "epoch: 3 step: 2200 training loss 37.59284210205078 training accuracy 38.086910247802734\n",
      "epoch: 3 step: 2400 training loss 37.52247619628906 training accuracy 38.01655578613281\n",
      "Saved checkpoint for step 285000: /content/drive/My Drive/ML Datasets/kaggle/datanomads_busarrival/checkpoints/ckpt-531\n",
      "epoch: 3 step: 2600 training loss 37.55046463012695 training accuracy 38.0445442199707\n",
      "epoch: 3 step: 2800 training loss 37.61366653442383 training accuracy 38.10777282714844\n",
      "epoch: 3 step: 3000 training loss 37.639427185058594 training accuracy 38.13352584838867\n",
      "epoch: 3 step: 3200 training loss 37.6845703125 training accuracy 38.17869567871094\n",
      "epoch: 3 step: 3400 training loss 37.74900436401367 training accuracy 38.24315643310547\n",
      "epoch: 3 step: 3600 training loss 37.82830810546875 training accuracy 38.32245635986328\n",
      "epoch: 3 step: 3800 training loss 37.90129470825195 training accuracy 38.39548873901367\n",
      "epoch: 3 step: 4000 training loss 37.976829528808594 training accuracy 38.471038818359375\n",
      "Saved checkpoint for step 286500: /content/drive/My Drive/ML Datasets/kaggle/datanomads_busarrival/checkpoints/ckpt-532\n",
      "epoch: 3 step: 4200 training loss 38.074913024902344 training accuracy 38.56919860839844\n",
      "epoch: 3 step: 4400 training loss 38.18387985229492 training accuracy 38.67814254760742\n",
      "epoch: 3 step: 4600 training loss 38.30508041381836 training accuracy 38.79932403564453\n",
      "epoch: 3 step: 4800 training loss 38.41650390625 training accuracy 38.91075897216797\n",
      "epoch: 3 step: 5000 training loss 38.5423583984375 training accuracy 39.036598205566406\n",
      "epoch: 3 step: 5200 training loss 38.67731475830078 training accuracy 39.17156982421875\n",
      "epoch: 3 step: 5400 training loss 38.78181076049805 training accuracy 39.27608108520508\n",
      "Saved checkpoint for step 288000: /content/drive/My Drive/ML Datasets/kaggle/datanomads_busarrival/checkpoints/ckpt-533\n",
      "epoch: 3 step: 5600 training loss 38.900447845458984 training accuracy 39.39474868774414\n",
      "epoch: 3 step: 5800 training loss 39.04602813720703 training accuracy 39.54036331176758\n",
      "epoch: 3 step: 6000 training loss 39.19298553466797 training accuracy 39.687339782714844\n",
      "epoch: 3 step: 6200 training loss 39.33774948120117 training accuracy 39.83210754394531\n",
      "epoch: 3 step: 6400 training loss 39.468040466308594 training accuracy 39.96242904663086\n",
      "epoch: 3 step: 6600 training loss 39.58930587768555 training accuracy 40.08369064331055\n",
      "epoch: 3 step: 6800 training loss 39.72478485107422 training accuracy 40.219146728515625\n",
      "epoch: 3 step: 7000 training loss 39.814212799072266 training accuracy 40.308624267578125\n",
      "Saved checkpoint for step 289500: /content/drive/My Drive/ML Datasets/kaggle/datanomads_busarrival/checkpoints/ckpt-534\n",
      "epoch: 3 step: 7200 training loss 39.91521072387695 training accuracy 40.40965270996094\n",
      "epoch: 3 step: 7400 training loss 39.98027801513672 training accuracy 40.47473907470703\n",
      "epoch: 3 step: 7600 training loss 40.052879333496094 training accuracy 40.54736328125\n",
      "epoch: 3 step: 7800 training loss 40.12977981567383 training accuracy 40.62425994873047\n",
      "epoch: 3 step: 8000 training loss 40.1970100402832 training accuracy 40.69146728515625\n",
      "epoch: 3 step: 8200 training loss 40.268516540527344 training accuracy 40.7629508972168\n",
      "epoch: 3 step: 8400 training loss 40.33012008666992 training accuracy 40.824527740478516\n",
      "Saved checkpoint for step 291000: /content/drive/My Drive/ML Datasets/kaggle/datanomads_busarrival/checkpoints/ckpt-535\n",
      "epoch: 3 step: 8600 training loss 40.3930549621582 training accuracy 40.88743209838867\n",
      "epoch: 3 step: 8800 training loss 40.44636535644531 training accuracy 40.940757751464844\n",
      "epoch: 3 step: 9000 training loss 40.49148941040039 training accuracy 40.98586654663086\n",
      "epoch: 3 step: 9200 training loss 40.550872802734375 training accuracy 41.0452766418457\n",
      "epoch: 3 step: 9400 training loss 40.57844543457031 training accuracy 41.072853088378906\n",
      "epoch: 3 step: 9600 training loss 40.63047409057617 training accuracy 41.12489700317383\n",
      "epoch: 3 step: 9800 training loss 40.678955078125 training accuracy 41.173362731933594\n",
      "epoch: 3 step: 10000 training loss 40.714603424072266 training accuracy 41.20901870727539\n",
      "Saved checkpoint for step 292500: /content/drive/My Drive/ML Datasets/kaggle/datanomads_busarrival/checkpoints/ckpt-536\n",
      "epoch: 3 step: 10200 training loss 40.75835418701172 training accuracy 41.25275421142578\n",
      "epoch: 3 step: 10400 training loss 40.80564498901367 training accuracy 41.300052642822266\n",
      "epoch: 3 step: 10600 training loss 40.837711334228516 training accuracy 41.33213424682617\n",
      "epoch: 3 step: 10800 training loss 40.86839294433594 training accuracy 41.36281204223633\n",
      "epoch: 3 step: 11000 training loss 40.88719940185547 training accuracy 41.381595611572266\n",
      "epoch: 3 step: 11200 training loss 40.92107391357422 training accuracy 41.415462493896484\n",
      "epoch: 3 step: 11400 training loss 40.9582633972168 training accuracy 41.452667236328125\n",
      "Saved checkpoint for step 294000: /content/drive/My Drive/ML Datasets/kaggle/datanomads_busarrival/checkpoints/ckpt-537\n",
      "epoch: 3 step: 11600 training loss 40.98189926147461 training accuracy 41.476314544677734\n",
      "epoch: 3 step: 11800 training loss 41.01139831542969 training accuracy 41.50584030151367\n",
      "epoch: 3 step: 12000 training loss 41.041847229003906 training accuracy 41.53628158569336\n",
      "starting of epoch 4\n",
      "epoch: 4 step: 0 training loss 39.5250244140625 training accuracy 40.01832580566406\n",
      "epoch: 4 step: 200 training loss 36.799224853515625 training accuracy 37.29338073730469\n",
      "epoch: 4 step: 400 training loss 37.002986907958984 training accuracy 37.49702835083008\n",
      "epoch: 4 step: 600 training loss 37.24372482299805 training accuracy 37.73783874511719\n",
      "epoch: 4 step: 800 training loss 37.43198776245117 training accuracy 37.926151275634766\n",
      "Saved checkpoint for step 295500: /content/drive/My Drive/ML Datasets/kaggle/datanomads_busarrival/checkpoints/ckpt-538\n",
      "epoch: 4 step: 1000 training loss 37.44584274291992 training accuracy 37.94004821777344\n",
      "epoch: 4 step: 1200 training loss 37.584163665771484 training accuracy 38.078392028808594\n",
      "epoch: 4 step: 1400 training loss 37.63259506225586 training accuracy 38.12681579589844\n",
      "epoch: 4 step: 1600 training loss 37.64854431152344 training accuracy 38.14274597167969\n",
      "epoch: 4 step: 1800 training loss 37.56587219238281 training accuracy 38.060028076171875\n",
      "epoch: 4 step: 2000 training loss 37.51889419555664 training accuracy 38.01307678222656\n",
      "epoch: 4 step: 2200 training loss 37.49409866333008 training accuracy 37.98828125\n",
      "Saved checkpoint for step 297000: /content/drive/My Drive/ML Datasets/kaggle/datanomads_busarrival/checkpoints/ckpt-539\n",
      "epoch: 4 step: 2400 training loss 37.48202133178711 training accuracy 37.9761848449707\n",
      "epoch: 4 step: 2600 training loss 37.535030364990234 training accuracy 38.029212951660156\n",
      "epoch: 4 step: 2800 training loss 37.57241439819336 training accuracy 38.066619873046875\n",
      "epoch: 4 step: 3000 training loss 37.611717224121094 training accuracy 38.10589599609375\n",
      "epoch: 4 step: 3200 training loss 37.6519775390625 training accuracy 38.146156311035156\n"
     ]
    },
    {
     "ename": "KeyboardInterrupt",
     "evalue": "ignored",
     "output_type": "error",
     "traceback": [
      "\u001b[0;31m---------------------------------------------------------------------------\u001b[0m",
      "\u001b[0;31mKeyboardInterrupt\u001b[0m                         Traceback (most recent call last)",
      "\u001b[0;32m<ipython-input-16-79d040130eee>\u001b[0m in \u001b[0;36m<module>\u001b[0;34m()\u001b[0m\n\u001b[1;32m      9\u001b[0m \u001b[0;34m\u001b[0m\u001b[0m\n\u001b[1;32m     10\u001b[0m   \u001b[0;32mfor\u001b[0m \u001b[0mstep\u001b[0m\u001b[0;34m,\u001b[0m \u001b[0;34m(\u001b[0m\u001b[0mt_input\u001b[0m\u001b[0;34m,\u001b[0m \u001b[0mt_target\u001b[0m\u001b[0;34m)\u001b[0m \u001b[0;32min\u001b[0m \u001b[0menumerate\u001b[0m\u001b[0;34m(\u001b[0m\u001b[0mtraining_dataset\u001b[0m\u001b[0;34m.\u001b[0m\u001b[0mshuffle\u001b[0m\u001b[0;34m(\u001b[0m\u001b[0mbuffer_size\u001b[0m\u001b[0;34m=\u001b[0m\u001b[0mint\u001b[0m\u001b[0;34m(\u001b[0m\u001b[0mlen\u001b[0m\u001b[0;34m(\u001b[0m\u001b[0mtrain_df\u001b[0m\u001b[0;34m)\u001b[0m\u001b[0;34m-\u001b[0m\u001b[0mlen\u001b[0m\u001b[0;34m(\u001b[0m\u001b[0mtrain_df\u001b[0m\u001b[0;34m)\u001b[0m\u001b[0;34m*\u001b[0m\u001b[0;36m8\u001b[0m\u001b[0;34m/\u001b[0m\u001b[0;36m10\u001b[0m\u001b[0;34m)\u001b[0m\u001b[0;34m,\u001b[0m \u001b[0mreshuffle_each_iteration\u001b[0m\u001b[0;34m=\u001b[0m\u001b[0;32mTrue\u001b[0m\u001b[0;34m)\u001b[0m\u001b[0;34m.\u001b[0m\u001b[0mbatch\u001b[0m\u001b[0;34m(\u001b[0m\u001b[0mbatch_size\u001b[0m\u001b[0;34m)\u001b[0m\u001b[0;34m)\u001b[0m\u001b[0;34m:\u001b[0m\u001b[0;34m\u001b[0m\u001b[0;34m\u001b[0m\u001b[0m\n\u001b[0;32m---> 11\u001b[0;31m     \u001b[0mtrain_step\u001b[0m\u001b[0;34m(\u001b[0m\u001b[0mt_input\u001b[0m\u001b[0;34m,\u001b[0m \u001b[0mt_target\u001b[0m\u001b[0;34m)\u001b[0m\u001b[0;34m\u001b[0m\u001b[0;34m\u001b[0m\u001b[0m\n\u001b[0m\u001b[1;32m     12\u001b[0m \u001b[0;34m\u001b[0m\u001b[0m\n\u001b[1;32m     13\u001b[0m     \u001b[0;32mif\u001b[0m \u001b[0mstep\u001b[0m \u001b[0;34m%\u001b[0m \u001b[0;36m200\u001b[0m \u001b[0;34m==\u001b[0m \u001b[0;36m0\u001b[0m\u001b[0;34m:\u001b[0m\u001b[0;34m\u001b[0m\u001b[0;34m\u001b[0m\u001b[0m\n",
      "\u001b[0;32m<ipython-input-14-397cffccbed2>\u001b[0m in \u001b[0;36mtrain_step\u001b[0;34m(input_batch, label_batch)\u001b[0m\n\u001b[1;32m      1\u001b[0m \u001b[0;32mdef\u001b[0m \u001b[0mtrain_step\u001b[0m\u001b[0;34m(\u001b[0m\u001b[0minput_batch\u001b[0m\u001b[0;34m,\u001b[0m \u001b[0mlabel_batch\u001b[0m\u001b[0;34m)\u001b[0m\u001b[0;34m:\u001b[0m\u001b[0;34m\u001b[0m\u001b[0;34m\u001b[0m\u001b[0m\n\u001b[1;32m      2\u001b[0m   \u001b[0;32mwith\u001b[0m \u001b[0mtf\u001b[0m\u001b[0;34m.\u001b[0m\u001b[0mGradientTape\u001b[0m\u001b[0;34m(\u001b[0m\u001b[0;34m)\u001b[0m \u001b[0;32mas\u001b[0m \u001b[0mtape\u001b[0m\u001b[0;34m:\u001b[0m\u001b[0;34m\u001b[0m\u001b[0;34m\u001b[0m\u001b[0m\n\u001b[0;32m----> 3\u001b[0;31m     \u001b[0mpredictions\u001b[0m \u001b[0;34m=\u001b[0m \u001b[0mmodel\u001b[0m\u001b[0;34m(\u001b[0m\u001b[0minput_batch\u001b[0m\u001b[0;34m,\u001b[0m \u001b[0mtraining\u001b[0m\u001b[0;34m=\u001b[0m\u001b[0;32mTrue\u001b[0m\u001b[0;34m)\u001b[0m\u001b[0;34m\u001b[0m\u001b[0;34m\u001b[0m\u001b[0m\n\u001b[0m\u001b[1;32m      4\u001b[0m     \u001b[0mloss\u001b[0m        \u001b[0;34m=\u001b[0m \u001b[0mloss_object\u001b[0m\u001b[0;34m(\u001b[0m\u001b[0mlabel_batch\u001b[0m\u001b[0;34m,\u001b[0m \u001b[0mpredictions\u001b[0m\u001b[0;34m)\u001b[0m\u001b[0;34m\u001b[0m\u001b[0;34m\u001b[0m\u001b[0m\n\u001b[1;32m      5\u001b[0m   \u001b[0mgradients\u001b[0m \u001b[0;34m=\u001b[0m \u001b[0mtape\u001b[0m\u001b[0;34m.\u001b[0m\u001b[0mgradient\u001b[0m\u001b[0;34m(\u001b[0m\u001b[0mloss\u001b[0m\u001b[0;34m,\u001b[0m \u001b[0mmodel\u001b[0m\u001b[0;34m.\u001b[0m\u001b[0mtrainable_variables\u001b[0m\u001b[0;34m)\u001b[0m\u001b[0;34m\u001b[0m\u001b[0;34m\u001b[0m\u001b[0m\n",
      "\u001b[0;32m/usr/local/lib/python3.6/dist-packages/tensorflow/python/keras/engine/base_layer.py\u001b[0m in \u001b[0;36m__call__\u001b[0;34m(self, *args, **kwargs)\u001b[0m\n\u001b[1;32m    965\u001b[0m           with base_layer_utils.autocast_context_manager(\n\u001b[1;32m    966\u001b[0m               self._compute_dtype):\n\u001b[0;32m--> 967\u001b[0;31m             \u001b[0moutputs\u001b[0m \u001b[0;34m=\u001b[0m \u001b[0mself\u001b[0m\u001b[0;34m.\u001b[0m\u001b[0mcall\u001b[0m\u001b[0;34m(\u001b[0m\u001b[0mcast_inputs\u001b[0m\u001b[0;34m,\u001b[0m \u001b[0;34m*\u001b[0m\u001b[0margs\u001b[0m\u001b[0;34m,\u001b[0m \u001b[0;34m**\u001b[0m\u001b[0mkwargs\u001b[0m\u001b[0;34m)\u001b[0m\u001b[0;34m\u001b[0m\u001b[0;34m\u001b[0m\u001b[0m\n\u001b[0m\u001b[1;32m    968\u001b[0m           \u001b[0mself\u001b[0m\u001b[0;34m.\u001b[0m\u001b[0m_handle_activity_regularization\u001b[0m\u001b[0;34m(\u001b[0m\u001b[0minputs\u001b[0m\u001b[0;34m,\u001b[0m \u001b[0moutputs\u001b[0m\u001b[0;34m)\u001b[0m\u001b[0;34m\u001b[0m\u001b[0;34m\u001b[0m\u001b[0m\n\u001b[1;32m    969\u001b[0m           \u001b[0mself\u001b[0m\u001b[0;34m.\u001b[0m\u001b[0m_set_mask_metadata\u001b[0m\u001b[0;34m(\u001b[0m\u001b[0minputs\u001b[0m\u001b[0;34m,\u001b[0m \u001b[0moutputs\u001b[0m\u001b[0;34m,\u001b[0m \u001b[0minput_masks\u001b[0m\u001b[0;34m)\u001b[0m\u001b[0;34m\u001b[0m\u001b[0;34m\u001b[0m\u001b[0m\n",
      "\u001b[0;32m<ipython-input-11-5c5f3c247a58>\u001b[0m in \u001b[0;36mcall\u001b[0;34m(self, inputs, training)\u001b[0m\n\u001b[1;32m     33\u001b[0m \u001b[0;34m\u001b[0m\u001b[0m\n\u001b[1;32m     34\u001b[0m   \u001b[0;32mdef\u001b[0m \u001b[0mcall\u001b[0m\u001b[0;34m(\u001b[0m\u001b[0mself\u001b[0m\u001b[0;34m,\u001b[0m \u001b[0minputs\u001b[0m\u001b[0;34m,\u001b[0m \u001b[0mtraining\u001b[0m\u001b[0;34m=\u001b[0m\u001b[0;32mTrue\u001b[0m\u001b[0;34m)\u001b[0m\u001b[0;34m:\u001b[0m\u001b[0;34m\u001b[0m\u001b[0;34m\u001b[0m\u001b[0m\n\u001b[0;32m---> 35\u001b[0;31m     \u001b[0mdays_of_week\u001b[0m   \u001b[0;34m=\u001b[0m \u001b[0minputs\u001b[0m\u001b[0;34m[\u001b[0m\u001b[0;34m:\u001b[0m\u001b[0;34m,\u001b[0m \u001b[0;36m0\u001b[0m\u001b[0;34m]\u001b[0m\u001b[0;34m\u001b[0m\u001b[0;34m\u001b[0m\u001b[0m\n\u001b[0m\u001b[1;32m     36\u001b[0m     \u001b[0mtime_positions\u001b[0m \u001b[0;34m=\u001b[0m \u001b[0minputs\u001b[0m\u001b[0;34m[\u001b[0m\u001b[0;34m:\u001b[0m\u001b[0;34m,\u001b[0m \u001b[0;36m1\u001b[0m\u001b[0;34m]\u001b[0m\u001b[0;34m\u001b[0m\u001b[0;34m\u001b[0m\u001b[0m\n\u001b[1;32m     37\u001b[0m     \u001b[0mbus_ids\u001b[0m        \u001b[0;34m=\u001b[0m \u001b[0minputs\u001b[0m\u001b[0;34m[\u001b[0m\u001b[0;34m:\u001b[0m\u001b[0;34m,\u001b[0m \u001b[0;36m2\u001b[0m\u001b[0;34m]\u001b[0m\u001b[0;34m\u001b[0m\u001b[0;34m\u001b[0m\u001b[0m\n",
      "\u001b[0;32m/usr/local/lib/python3.6/dist-packages/tensorflow/python/ops/array_ops.py\u001b[0m in \u001b[0;36m_slice_helper\u001b[0;34m(tensor, slice_spec, var)\u001b[0m\n\u001b[1;32m    957\u001b[0m       skip_on_eager=False) as name:\n\u001b[1;32m    958\u001b[0m     \u001b[0;32mif\u001b[0m \u001b[0mbegin\u001b[0m\u001b[0;34m:\u001b[0m\u001b[0;34m\u001b[0m\u001b[0;34m\u001b[0m\u001b[0m\n\u001b[0;32m--> 959\u001b[0;31m       packed_begin, packed_end, packed_strides = (stack(begin), stack(end),\n\u001b[0m\u001b[1;32m    960\u001b[0m                                                   stack(strides))\n\u001b[1;32m    961\u001b[0m       if (packed_begin.dtype == dtypes.int64 or\n",
      "\u001b[0;32m/usr/local/lib/python3.6/dist-packages/tensorflow/python/util/dispatch.py\u001b[0m in \u001b[0;36mwrapper\u001b[0;34m(*args, **kwargs)\u001b[0m\n\u001b[1;32m    178\u001b[0m     \u001b[0;34m\"\"\"Call target, and fall back on dispatchers if there is a TypeError.\"\"\"\u001b[0m\u001b[0;34m\u001b[0m\u001b[0;34m\u001b[0m\u001b[0m\n\u001b[1;32m    179\u001b[0m     \u001b[0;32mtry\u001b[0m\u001b[0;34m:\u001b[0m\u001b[0;34m\u001b[0m\u001b[0;34m\u001b[0m\u001b[0m\n\u001b[0;32m--> 180\u001b[0;31m       \u001b[0;32mreturn\u001b[0m \u001b[0mtarget\u001b[0m\u001b[0;34m(\u001b[0m\u001b[0;34m*\u001b[0m\u001b[0margs\u001b[0m\u001b[0;34m,\u001b[0m \u001b[0;34m**\u001b[0m\u001b[0mkwargs\u001b[0m\u001b[0;34m)\u001b[0m\u001b[0;34m\u001b[0m\u001b[0;34m\u001b[0m\u001b[0m\n\u001b[0m\u001b[1;32m    181\u001b[0m     \u001b[0;32mexcept\u001b[0m \u001b[0;34m(\u001b[0m\u001b[0mTypeError\u001b[0m\u001b[0;34m,\u001b[0m \u001b[0mValueError\u001b[0m\u001b[0;34m)\u001b[0m\u001b[0;34m:\u001b[0m\u001b[0;34m\u001b[0m\u001b[0;34m\u001b[0m\u001b[0m\n\u001b[1;32m    182\u001b[0m       \u001b[0;31m# Note: convert_to_eager_tensor currently raises a ValueError, not a\u001b[0m\u001b[0;34m\u001b[0m\u001b[0;34m\u001b[0m\u001b[0;34m\u001b[0m\u001b[0m\n",
      "\u001b[0;32m/usr/local/lib/python3.6/dist-packages/tensorflow/python/ops/array_ops.py\u001b[0m in \u001b[0;36mstack\u001b[0;34m(values, axis, name)\u001b[0m\n\u001b[1;32m   1329\u001b[0m     \u001b[0;32mtry\u001b[0m\u001b[0;34m:\u001b[0m\u001b[0;34m\u001b[0m\u001b[0;34m\u001b[0m\u001b[0m\n\u001b[1;32m   1330\u001b[0m       \u001b[0;31m# If the input is a constant list, it can be converted to a constant op\u001b[0m\u001b[0;34m\u001b[0m\u001b[0;34m\u001b[0m\u001b[0;34m\u001b[0m\u001b[0m\n\u001b[0;32m-> 1331\u001b[0;31m       \u001b[0;32mreturn\u001b[0m \u001b[0mops\u001b[0m\u001b[0;34m.\u001b[0m\u001b[0mconvert_to_tensor\u001b[0m\u001b[0;34m(\u001b[0m\u001b[0mvalues\u001b[0m\u001b[0;34m,\u001b[0m \u001b[0mname\u001b[0m\u001b[0;34m=\u001b[0m\u001b[0mname\u001b[0m\u001b[0;34m)\u001b[0m\u001b[0;34m\u001b[0m\u001b[0;34m\u001b[0m\u001b[0m\n\u001b[0m\u001b[1;32m   1332\u001b[0m     \u001b[0;32mexcept\u001b[0m \u001b[0;34m(\u001b[0m\u001b[0mTypeError\u001b[0m\u001b[0;34m,\u001b[0m \u001b[0mValueError\u001b[0m\u001b[0;34m)\u001b[0m\u001b[0;34m:\u001b[0m\u001b[0;34m\u001b[0m\u001b[0;34m\u001b[0m\u001b[0m\n\u001b[1;32m   1333\u001b[0m       \u001b[0;32mpass\u001b[0m  \u001b[0;31m# Input list contains non-constant tensors\u001b[0m\u001b[0;34m\u001b[0m\u001b[0;34m\u001b[0m\u001b[0m\n",
      "\u001b[0;32m/usr/local/lib/python3.6/dist-packages/tensorflow/python/framework/ops.py\u001b[0m in \u001b[0;36mconvert_to_tensor\u001b[0;34m(value, dtype, name, as_ref, preferred_dtype, dtype_hint, ctx, accepted_result_types)\u001b[0m\n\u001b[1;32m   1339\u001b[0m \u001b[0;34m\u001b[0m\u001b[0m\n\u001b[1;32m   1340\u001b[0m     \u001b[0;32mif\u001b[0m \u001b[0mret\u001b[0m \u001b[0;32mis\u001b[0m \u001b[0;32mNone\u001b[0m\u001b[0;34m:\u001b[0m\u001b[0;34m\u001b[0m\u001b[0;34m\u001b[0m\u001b[0m\n\u001b[0;32m-> 1341\u001b[0;31m       \u001b[0mret\u001b[0m \u001b[0;34m=\u001b[0m \u001b[0mconversion_func\u001b[0m\u001b[0;34m(\u001b[0m\u001b[0mvalue\u001b[0m\u001b[0;34m,\u001b[0m \u001b[0mdtype\u001b[0m\u001b[0;34m=\u001b[0m\u001b[0mdtype\u001b[0m\u001b[0;34m,\u001b[0m \u001b[0mname\u001b[0m\u001b[0;34m=\u001b[0m\u001b[0mname\u001b[0m\u001b[0;34m,\u001b[0m \u001b[0mas_ref\u001b[0m\u001b[0;34m=\u001b[0m\u001b[0mas_ref\u001b[0m\u001b[0;34m)\u001b[0m\u001b[0;34m\u001b[0m\u001b[0;34m\u001b[0m\u001b[0m\n\u001b[0m\u001b[1;32m   1342\u001b[0m \u001b[0;34m\u001b[0m\u001b[0m\n\u001b[1;32m   1343\u001b[0m     \u001b[0;32mif\u001b[0m \u001b[0mret\u001b[0m \u001b[0;32mis\u001b[0m \u001b[0mNotImplemented\u001b[0m\u001b[0;34m:\u001b[0m\u001b[0;34m\u001b[0m\u001b[0;34m\u001b[0m\u001b[0m\n",
      "\u001b[0;32m/usr/local/lib/python3.6/dist-packages/tensorflow/python/ops/array_ops.py\u001b[0m in \u001b[0;36m_autopacking_conversion_function\u001b[0;34m(v, dtype, name, as_ref)\u001b[0m\n\u001b[1;32m   1442\u001b[0m \u001b[0;32mdef\u001b[0m \u001b[0m_autopacking_conversion_function\u001b[0m\u001b[0;34m(\u001b[0m\u001b[0mv\u001b[0m\u001b[0;34m,\u001b[0m \u001b[0mdtype\u001b[0m\u001b[0;34m=\u001b[0m\u001b[0;32mNone\u001b[0m\u001b[0;34m,\u001b[0m \u001b[0mname\u001b[0m\u001b[0;34m=\u001b[0m\u001b[0;32mNone\u001b[0m\u001b[0;34m,\u001b[0m \u001b[0mas_ref\u001b[0m\u001b[0;34m=\u001b[0m\u001b[0;32mFalse\u001b[0m\u001b[0;34m)\u001b[0m\u001b[0;34m:\u001b[0m\u001b[0;34m\u001b[0m\u001b[0;34m\u001b[0m\u001b[0m\n\u001b[1;32m   1443\u001b[0m   \u001b[0;34m\"\"\"Tensor conversion function that automatically packs arguments.\"\"\"\u001b[0m\u001b[0;34m\u001b[0m\u001b[0;34m\u001b[0m\u001b[0m\n\u001b[0;32m-> 1444\u001b[0;31m   \u001b[0;32mif\u001b[0m \u001b[0mas_ref\u001b[0m \u001b[0;32mor\u001b[0m \u001b[0m_should_not_autopack\u001b[0m\u001b[0;34m(\u001b[0m\u001b[0mv\u001b[0m\u001b[0;34m)\u001b[0m\u001b[0;34m:\u001b[0m\u001b[0;34m\u001b[0m\u001b[0;34m\u001b[0m\u001b[0m\n\u001b[0m\u001b[1;32m   1445\u001b[0m     \u001b[0;32mreturn\u001b[0m \u001b[0mNotImplemented\u001b[0m\u001b[0;34m\u001b[0m\u001b[0;34m\u001b[0m\u001b[0m\n\u001b[1;32m   1446\u001b[0m   \u001b[0minferred_dtype\u001b[0m \u001b[0;34m=\u001b[0m \u001b[0m_get_dtype_from_nested_lists\u001b[0m\u001b[0;34m(\u001b[0m\u001b[0mv\u001b[0m\u001b[0;34m)\u001b[0m\u001b[0;34m\u001b[0m\u001b[0;34m\u001b[0m\u001b[0m\n",
      "\u001b[0;32m/usr/local/lib/python3.6/dist-packages/tensorflow/python/ops/array_ops.py\u001b[0m in \u001b[0;36m_should_not_autopack\u001b[0;34m(v)\u001b[0m\n\u001b[1;32m   1436\u001b[0m   \u001b[0;31m# pylint: disable=unidiomatic-typecheck\u001b[0m\u001b[0;34m\u001b[0m\u001b[0;34m\u001b[0m\u001b[0;34m\u001b[0m\u001b[0m\n\u001b[1;32m   1437\u001b[0m   \u001b[0;31m# TODO(slebedev): add nest.all?\u001b[0m\u001b[0;34m\u001b[0m\u001b[0;34m\u001b[0m\u001b[0;34m\u001b[0m\u001b[0m\n\u001b[0;32m-> 1438\u001b[0;31m   \u001b[0;32mreturn\u001b[0m \u001b[0mall\u001b[0m\u001b[0;34m(\u001b[0m\u001b[0mtype\u001b[0m\u001b[0;34m(\u001b[0m\u001b[0melem\u001b[0m\u001b[0;34m)\u001b[0m \u001b[0;32min\u001b[0m \u001b[0m_NON_AUTOPACKABLE_TYPES\u001b[0m \u001b[0;32mfor\u001b[0m \u001b[0melem\u001b[0m \u001b[0;32min\u001b[0m \u001b[0mnest\u001b[0m\u001b[0;34m.\u001b[0m\u001b[0mflatten\u001b[0m\u001b[0;34m(\u001b[0m\u001b[0mv\u001b[0m\u001b[0;34m)\u001b[0m\u001b[0;34m)\u001b[0m\u001b[0;34m\u001b[0m\u001b[0;34m\u001b[0m\u001b[0m\n\u001b[0m\u001b[1;32m   1439\u001b[0m   \u001b[0;31m# pylint: enable=unidiomatic-typecheck\u001b[0m\u001b[0;34m\u001b[0m\u001b[0;34m\u001b[0m\u001b[0;34m\u001b[0m\u001b[0m\n\u001b[1;32m   1440\u001b[0m \u001b[0;34m\u001b[0m\u001b[0m\n",
      "\u001b[0;32m/usr/local/lib/python3.6/dist-packages/tensorflow/python/util/nest.py\u001b[0m in \u001b[0;36mflatten\u001b[0;34m(structure, expand_composites)\u001b[0m\n\u001b[1;32m    320\u001b[0m     \u001b[0mTypeError\u001b[0m\u001b[0;34m:\u001b[0m \u001b[0mThe\u001b[0m \u001b[0mnest\u001b[0m \u001b[0;32mis\u001b[0m \u001b[0;32mor\u001b[0m \u001b[0mcontains\u001b[0m \u001b[0ma\u001b[0m \u001b[0mdict\u001b[0m \u001b[0;32mwith\u001b[0m \u001b[0mnon\u001b[0m\u001b[0;34m-\u001b[0m\u001b[0msortable\u001b[0m \u001b[0mkeys\u001b[0m\u001b[0;34m.\u001b[0m\u001b[0;34m\u001b[0m\u001b[0;34m\u001b[0m\u001b[0m\n\u001b[1;32m    321\u001b[0m   \"\"\"\n\u001b[0;32m--> 322\u001b[0;31m   \u001b[0;32mreturn\u001b[0m \u001b[0m_pywrap_utils\u001b[0m\u001b[0;34m.\u001b[0m\u001b[0mFlatten\u001b[0m\u001b[0;34m(\u001b[0m\u001b[0mstructure\u001b[0m\u001b[0;34m,\u001b[0m \u001b[0mexpand_composites\u001b[0m\u001b[0;34m)\u001b[0m\u001b[0;34m\u001b[0m\u001b[0;34m\u001b[0m\u001b[0m\n\u001b[0m\u001b[1;32m    323\u001b[0m \u001b[0;34m\u001b[0m\u001b[0m\n\u001b[1;32m    324\u001b[0m \u001b[0;34m\u001b[0m\u001b[0m\n",
      "\u001b[0;31mKeyboardInterrupt\u001b[0m: "
     ]
    }
   ],
   "source": [
    "# 5-н epoch буюу нийт сургалтын датасетээр 5-н удаа гүйж сургах. Нэг гүйхдээ \n",
    "# датасетээ 256-н ширхэг сургалтын өгөгдөл бүхий batch-уудаа хэсэглэн хувааж \n",
    "# сургана. 1 batch чихэх үйлдлийг нэг step гэж үзнэ.\n",
    "\n",
    "epochs     = 5\n",
    "batch_size = 256\n",
    "\n",
    "for epoch in range(0, epochs):\n",
    "  train_loss.reset_states()\n",
    "  train_accuracy.reset_states()\n",
    "  \n",
    "  print(\"starting of epoch\", epoch)\n",
    "\n",
    "  for step, (t_input, t_target) in enumerate(training_dataset.shuffle(buffer_size=int(len(train_df)-len(train_df)*8/10), reshuffle_each_iteration=True).batch(batch_size)):\n",
    "    train_step(t_input, t_target)\n",
    "    \n",
    "    if step % 200 == 0:\n",
    "      print(\"epoch:\", epoch, \"step:\", step, \"training loss\", float(train_loss.result()), \"training accuracy\", float(train_accuracy.result()))\n",
    "\n",
    "    ckpt.step.assign_add(1)\n",
    "    if int(ckpt.step) % 1500 == 0:\n",
    "      save_path = manager.save()\n",
    "      print(\"Saved checkpoint for step {}: {}\".format(int(ckpt.step), save_path))"
   ]
  },
  {
   "cell_type": "code",
   "execution_count": 0,
   "metadata": {
    "colab": {
     "base_uri": "https://localhost:8080/",
     "height": 272
    },
    "colab_type": "code",
    "id": "gfTeH7mZxvlj",
    "outputId": "a6837eed-e702-4b0c-f0e4-d5b7fb49e805"
   },
   "outputs": [
    {
     "name": "stdout",
     "output_type": "stream",
     "text": [
      "predicted:\n",
      "[[ 92.27257 ]\n",
      " [ 67.99572 ]\n",
      " [107.254974]\n",
      " [148.19733 ]\n",
      " [ 96.390724]\n",
      " [319.88983 ]]\n",
      "true values:\n",
      "[[ 83.]\n",
      " [ 59.]\n",
      " [ 79.]\n",
      " [152.]\n",
      " [ 93.]\n",
      " [342.]]\n",
      "mean absolute error: 12.637805\n"
     ]
    }
   ],
   "source": [
    "# Сургах процесс дууссаны дараа нэг хэсэг дата сонгож аваад моделиороо predict хийж харах\n",
    "\n",
    "window_index = 50000\n",
    "y = model(train_input[window_index-3:window_index+3].values, training=False)\n",
    "print(\"predicted:\")\n",
    "print(y.numpy())\n",
    "print(\"true values:\")\n",
    "print(train_label[window_index-3:window_index+3].values)\n",
    "\n",
    "m = tf.keras.metrics.MeanAbsoluteError()\n",
    "_ = m.update_state(y, train_label[window_index-3:window_index+3].values) \n",
    "print(\"mean absolute error:\", m.result().numpy())"
   ]
  }
 ],
 "metadata": {
  "accelerator": "GPU",
  "colab": {
   "collapsed_sections": [],
   "name": "Kaggle, Data Nomads Bus Arrival, train all.ipynb",
   "provenance": []
  },
  "kernelspec": {
   "display_name": "Python 3",
   "language": "python",
   "name": "python3"
  },
  "language_info": {
   "codemirror_mode": {
    "name": "ipython",
    "version": 3
   },
   "file_extension": ".py",
   "mimetype": "text/x-python",
   "name": "python",
   "nbconvert_exporter": "python",
   "pygments_lexer": "ipython3",
   "version": "3.7.5"
  }
 },
 "nbformat": 4,
 "nbformat_minor": 1
}
