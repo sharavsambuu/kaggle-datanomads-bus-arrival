{
 "cells": [
  {
   "cell_type": "code",
   "execution_count": 1,
   "metadata": {},
   "outputs": [],
   "source": [
    "from sklearn.preprocessing import MinMaxScaler\n",
    "from datetime import datetime\n",
    "import numpy as np\n",
    "import pandas as pd\n",
    "import random"
   ]
  },
  {
   "cell_type": "code",
   "execution_count": null,
   "metadata": {},
   "outputs": [],
   "source": [
    "test_df = pd.read_csv(\"./out/test_reshoot_preadjustion.csv\")"
   ]
  },
  {
   "cell_type": "code",
   "execution_count": null,
   "metadata": {},
   "outputs": [],
   "source": [
    "test_df.head(15)"
   ]
  },
  {
   "cell_type": "code",
   "execution_count": null,
   "metadata": {},
   "outputs": [],
   "source": [
    "#cnt      = 0\n",
    "gap_list = []\n",
    "for idx, row in test_df.iterrows():\n",
    "    timestamp = row['TIMESTAMP_BK']\n",
    "    if (pd.isna(timestamp)):\n",
    "        prev_timestamp = test_df.iloc[idx-1]['TIMESTAMP_BK']\n",
    "        if (not pd.isna(prev_timestamp)):\n",
    "            gap_start = idx-1\n",
    "            pass\n",
    "        next_timestamp = test_df.iloc[idx+1]['TIMESTAMP_BK']\n",
    "        if (not pd.isna(next_timestamp)):\n",
    "            gap_end = idx+1\n",
    "            gap_list.append((gap_start, gap_end))\n",
    "            \n",
    "            #cnt = cnt + 1\n",
    "            #if cnt>5:\n",
    "            #    break\n",
    "            \n",
    "len(gap_list)\n",
    "        "
   ]
  },
  {
   "cell_type": "code",
   "execution_count": null,
   "metadata": {},
   "outputs": [],
   "source": [
    "gap_list[:5]"
   ]
  },
  {
   "cell_type": "code",
   "execution_count": null,
   "metadata": {},
   "outputs": [],
   "source": [
    "#cnt = 0\n",
    "for gap in gap_list:\n",
    "    gap_start     = gap[0]\n",
    "    gap_end       = gap[1]\n",
    "    scale_min     = test_df.iloc[gap_start]['TIMESTAMP_BK']\n",
    "    scale_max     = test_df.iloc[gap_end  ]['TIMESTAMP_BK']\n",
    "    bk_timestamps = test_df.iloc[gap_start:gap_end+1]['TIMESTAMP'].values\n",
    "    \n",
    "    rescaled = np.interp(\n",
    "        bk_timestamps, \n",
    "        (bk_timestamps.min(), bk_timestamps.max()), \n",
    "        (scale_min, scale_max)\n",
    "    )\n",
    "    iter_count = gap_end - gap_start\n",
    "    for i in range(0, iter_count+1):\n",
    "        idx = gap_start+i\n",
    "        test_df.at[idx, 'TIMESTAMP_SCALED'] = rescaled[i]\n",
    "        test_df.at[idx, 'DATETIME_SCALED' ] = datetime.utcfromtimestamp(rescaled[i])\n",
    "        \n",
    "    #cnt = cnt+1\n",
    "    #if cnt>5:\n",
    "    #    break"
   ]
  },
  {
   "cell_type": "code",
   "execution_count": null,
   "metadata": {},
   "outputs": [],
   "source": [
    "for idx, row in test_df.iterrows():\n",
    "    timestamp_scaled = row['TIMESTAMP_SCALED']\n",
    "    if (pd.isna(timestamp_scaled)):\n",
    "        test_df.at[idx, 'TIMESTAMP_SCALED'] = row['TIMESTAMP']"
   ]
  },
  {
   "cell_type": "code",
   "execution_count": null,
   "metadata": {},
   "outputs": [],
   "source": [
    "test_df.to_csv(\"./out/test_df_timestamp_adjusted.csv\")\n",
    "test_df[['index', 'TIMESTAMP_SCALED']].to_csv(\"./out/output_ready.csv\", index=False)"
   ]
  },
  {
   "cell_type": "code",
   "execution_count": null,
   "metadata": {},
   "outputs": [],
   "source": [
    "test_df.head(30)"
   ]
  },
  {
   "cell_type": "code",
   "execution_count": null,
   "metadata": {},
   "outputs": [],
   "source": []
  }
 ],
 "metadata": {
  "kernelspec": {
   "display_name": "Python 3",
   "language": "python",
   "name": "python3"
  },
  "language_info": {
   "codemirror_mode": {
    "name": "ipython",
    "version": 3
   },
   "file_extension": ".py",
   "mimetype": "text/x-python",
   "name": "python",
   "nbconvert_exporter": "python",
   "pygments_lexer": "ipython3",
   "version": "3.7.5"
  }
 },
 "nbformat": 4,
 "nbformat_minor": 4
}
