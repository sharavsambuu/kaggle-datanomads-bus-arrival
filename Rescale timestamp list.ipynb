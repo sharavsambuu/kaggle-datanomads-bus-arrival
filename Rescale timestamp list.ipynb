{
 "cells": [
  {
   "cell_type": "code",
   "execution_count": 14,
   "metadata": {},
   "outputs": [],
   "source": [
    "from sklearn.preprocessing import MinMaxScaler\n",
    "from datetime import datetime\n",
    "import numpy as np\n",
    "import random"
   ]
  },
  {
   "cell_type": "code",
   "execution_count": 3,
   "metadata": {},
   "outputs": [
    {
     "name": "stdout",
     "output_type": "stream",
     "text": [
      "2020-03-29 07:21:59.687226\n",
      "1585437719.687226\n"
     ]
    }
   ],
   "source": [
    "now_dt = datetime.now()\n",
    "now_ts = datetime.timestamp(now_dt)\n",
    "\n",
    "print(now_dt)\n",
    "print(now_ts)"
   ]
  },
  {
   "cell_type": "code",
   "execution_count": 5,
   "metadata": {},
   "outputs": [
    {
     "data": {
      "text/plain": [
       "[1585437719.687226,\n",
       " 1585437740.687226,\n",
       " 1585437770.687226,\n",
       " 1585437809.687226,\n",
       " 1585437844.687226,\n",
       " 1585437873.687226,\n",
       " 1585437896.687226,\n",
       " 1585437930.687226,\n",
       " 1585437951.687226,\n",
       " 1585437981.687226,\n",
       " 1585438018.687226]"
      ]
     },
     "execution_count": 5,
     "metadata": {},
     "output_type": "execute_result"
    }
   ],
   "source": [
    "ts_list = [now_ts]\n",
    "ts      = now_ts\n",
    "for i in range(0, 10):\n",
    "    ts = ts + random.randrange(20, 40)\n",
    "    ts_list.append(ts)\n",
    "\n",
    "ts_list"
   ]
  },
  {
   "cell_type": "code",
   "execution_count": 8,
   "metadata": {},
   "outputs": [
    {
     "name": "stdout",
     "output_type": "stream",
     "text": [
      "2020-03-29 07:21:59.687226\n",
      "2020-03-29 07:22:20.687226\n",
      "2020-03-29 07:22:50.687226\n",
      "2020-03-29 07:23:29.687226\n",
      "2020-03-29 07:24:04.687226\n",
      "2020-03-29 07:24:33.687226\n",
      "2020-03-29 07:24:56.687226\n",
      "2020-03-29 07:25:30.687226\n",
      "2020-03-29 07:25:51.687226\n",
      "2020-03-29 07:26:21.687226\n",
      "2020-03-29 07:26:58.687226\n"
     ]
    }
   ],
   "source": [
    "for dt in [datetime.fromtimestamp(i) for i in ts_list]:\n",
    "    print(dt)"
   ]
  },
  {
   "cell_type": "code",
   "execution_count": 9,
   "metadata": {},
   "outputs": [
    {
     "name": "stdout",
     "output_type": "stream",
     "text": [
      "1585437719.687226 1585438199.687226\n"
     ]
    }
   ],
   "source": [
    "# scale to 07:22 -> 07:30\n",
    "scale_min = now_ts\n",
    "scale_max = now_ts+8*60 \n",
    "print(scale_min, scale_max)"
   ]
  },
  {
   "cell_type": "code",
   "execution_count": 24,
   "metadata": {},
   "outputs": [
    {
     "data": {
      "text/plain": [
       "array([1.58543772e+09, 1.58543774e+09, 1.58543777e+09, 1.58543781e+09,\n",
       "       1.58543784e+09, 1.58543787e+09, 1.58543790e+09, 1.58543793e+09,\n",
       "       1.58543795e+09, 1.58543798e+09, 1.58543802e+09])"
      ]
     },
     "execution_count": 24,
     "metadata": {},
     "output_type": "execute_result"
    }
   ],
   "source": [
    "ts_list_np = np.array(ts_list)\n",
    "ts_list_np"
   ]
  },
  {
   "cell_type": "code",
   "execution_count": 31,
   "metadata": {},
   "outputs": [],
   "source": [
    "rescaled_ts_list = np.interp(ts_list_np, (ts_list_np.min(), ts_list_np.max()), (scale_min, scale_max))"
   ]
  },
  {
   "cell_type": "code",
   "execution_count": 35,
   "metadata": {},
   "outputs": [
    {
     "name": "stdout",
     "output_type": "stream",
     "text": [
      "scale to between 07:22 and 07:30\n",
      "===== before scale =======\n",
      "2020-03-29 07:21:59.687226\n",
      "2020-03-29 07:22:20.687226\n",
      "2020-03-29 07:22:50.687226\n",
      "2020-03-29 07:23:29.687226\n",
      "2020-03-29 07:24:04.687226\n",
      "2020-03-29 07:24:33.687226\n",
      "2020-03-29 07:24:56.687226\n",
      "2020-03-29 07:25:30.687226\n",
      "2020-03-29 07:25:51.687226\n",
      "2020-03-29 07:26:21.687226\n",
      "2020-03-29 07:26:58.687226\n",
      "===== after rescaled =====\n",
      "2020-03-29 07:21:59.687226\n",
      "2020-03-29 07:22:33.399601\n",
      "2020-03-29 07:23:21.560136\n",
      "2020-03-29 07:24:24.168831\n",
      "2020-03-29 07:25:20.356122\n",
      "2020-03-29 07:26:06.911306\n",
      "2020-03-29 07:26:43.834383\n",
      "2020-03-29 07:27:38.416323\n",
      "2020-03-29 07:28:12.128698\n",
      "2020-03-29 07:29:00.289233\n",
      "2020-03-29 07:29:59.687226\n"
     ]
    }
   ],
   "source": [
    "print(\"scale to between 07:22 and 07:30\")\n",
    "print(\"===== before scale =======\")\n",
    "for dt in [datetime.fromtimestamp(i) for i in ts_list]:\n",
    "    print(dt)\n",
    "    \n",
    "print(\"===== after rescaled =====\")\n",
    "for dt in [datetime.fromtimestamp(i) for i in rescaled_ts_list]:\n",
    "    print(dt)\n",
    "    "
   ]
  }
 ],
 "metadata": {
  "kernelspec": {
   "display_name": "Python 3",
   "language": "python",
   "name": "python3"
  },
  "language_info": {
   "codemirror_mode": {
    "name": "ipython",
    "version": 3
   },
   "file_extension": ".py",
   "mimetype": "text/x-python",
   "name": "python",
   "nbconvert_exporter": "python",
   "pygments_lexer": "ipython3",
   "version": "3.7.5"
  }
 },
 "nbformat": 4,
 "nbformat_minor": 4
}
